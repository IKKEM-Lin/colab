{
  "nbformat": 4,
  "nbformat_minor": 0,
  "metadata": {
    "colab": {
      "provenance": [],
      "authorship_tag": "ABX9TyN+OZT4AJd650aCka/u4TM0",
      "include_colab_link": true
    },
    "kernelspec": {
      "name": "python3",
      "display_name": "Python 3"
    },
    "language_info": {
      "name": "python"
    }
  },
  "cells": [
    {
      "cell_type": "markdown",
      "metadata": {
        "id": "view-in-github",
        "colab_type": "text"
      },
      "source": [
        "<a href=\"https://colab.research.google.com/github/IKKEM-Lin/colab/blob/main/extractor.ipynb\" target=\"_parent\"><img src=\"https://colab.research.google.com/assets/colab-badge.svg\" alt=\"Open In Colab\"/></a>"
      ]
    },
    {
      "cell_type": "markdown",
      "source": [
        "# Data preparation\n"
      ],
      "metadata": {
        "id": "738Jc4lVZ6kN"
      }
    },
    {
      "cell_type": "code",
      "source": [
        "!curl -Lo \"jacs.zip\" https://tmp-hd105.vx-cdn.com/file-6694d77ca7e31-6694d7a14f681/jacs.zip\n",
        "!unzip jacs.zip\n",
        "!curl -Lo \"jacs_dois.json\" https://tmp-hd101.vx-cdn.com/file-6694dbd2d3923-6694dbe659cbe/jacs_dois.json"
      ],
      "metadata": {
        "id": "or8kiqyPZ6Is"
      },
      "execution_count": null,
      "outputs": []
    },
    {
      "cell_type": "markdown",
      "source": [
        "# Main progress"
      ],
      "metadata": {
        "id": "YnTSrZTmaAm_"
      }
    },
    {
      "cell_type": "code",
      "execution_count": null,
      "metadata": {
        "id": "qXSR36At5sId"
      },
      "outputs": [],
      "source": [
        "!pip install html5lib\n",
        "!pip install BeautifulSoup4"
      ]
    },
    {
      "cell_type": "code",
      "source": [
        "import gzip\n",
        "import html5lib\n",
        "from bs4 import BeautifulSoup\n",
        "import email\n",
        "from google.colab import userdata\n",
        "import json\n",
        "\n",
        "publicationConfig = {\n",
        "    \"10.1021\": {\n",
        "        \"abstract_selector\": ['p.articleBody_abstractText'],\n",
        "        \"paragraph_selector\": ['div.NLM_p', \".article_content-left > p\"],\n",
        "        \"ref_selector\": 'a[class^=\"ref ref\"]',\n",
        "    },\n",
        "    \"10.1002\": {\n",
        "        \"abstract_selector\": [\".article__body .abstract-group .article-section__abstract:last-child .article-section__content\"],\n",
        "        \"paragraph_selector\": ['.article__body .article-section__full :where(.article-section__content > p, .article-section__sub-content > p)'],\n",
        "        \"ref_selector\": 'a[data-tab=\"pane-pcw-references\"]',\n",
        "    },\n",
        "    \"10.1007\": {\n",
        "        \"abstract_selector\": [\"#Abs1-content p\"],\n",
        "        \"paragraph_selector\": ['.main-content .c-article-section__content > p'],\n",
        "        \"ref_selector\": 'a[id^=\"ref\"]',\n",
        "    },\n",
        "    \"10.1039\": {\n",
        "        \"abstract_selector\": [\"article .capsule__text\"],\n",
        "        \"paragraph_selector\": ['#pnlArticleContentLoaded > p'],\n",
        "        \"ref_selector\": 'a[href^=\"#cit\"]',\n",
        "    },\n",
        "    \"10.1016\": {\n",
        "        \"abstract_selector\": ['div.abstract.author > div'],\n",
        "        \"paragraph_selector\": ['div#body > div:first-child > section[id^=s] p[id^=p]', 'div#body > div:first-child  :where(section[id^=aep-section] > p, section[id^=aep-section] div > p)'],\n",
        "        \"ref_selector\": ':where(a.workspace-trigger, a[href^=\"#bib\"])',\n",
        "    },\n",
        "    \"10.1038\": {\n",
        "        \"abstract_selector\": ['#Abs1-content'],\n",
        "        \"paragraph_selector\": ['article .main-content .c-article-section__content > p'],\n",
        "        \"ref_selector\": 'a[data-test=\"citation-ref\"]',\n",
        "    },\n",
        "    \"10.1126\": {\n",
        "        \"abstract_selector\": ['[role=\"doc-abstract\"] > [role=\"paragraph\"]'],\n",
        "        \"paragraph_selector\": ['#bodymatter [role=\"paragraph\"]'],\n",
        "        \"ref_selector\": 'a[role=\"doc-biblioref\"]',\n",
        "    }\n",
        "}"
      ],
      "metadata": {
        "id": "DZLdZBDj9YC0"
      },
      "execution_count": 27,
      "outputs": []
    },
    {
      "cell_type": "code",
      "source": [
        "def get_article_html(doi):\n",
        "  with gzip.open(f\"./jacs/{doi.replace('/', '_')}.html.gz\", 'rb') as f:\n",
        "    decode_data = f.read()\n",
        "  return decode_data\n",
        "\n",
        "def get_abstract(soup, abstract_selector):\n",
        "    for selector in abstract_selector:\n",
        "        abstract = soup.select_one(selector)\n",
        "        if abstract:\n",
        "            return abstract.text.strip()\n",
        "    return \"\"\n",
        "\n",
        "def get_paragraphs(soup, paragraph_selector, ref_selector):\n",
        "    paragraphs = []\n",
        "    for selector in paragraph_selector:\n",
        "        paragraphs = soup.select(selector)\n",
        "        if paragraphs:\n",
        "            break\n",
        "    result = []\n",
        "    for p in paragraphs:\n",
        "        source = p.decode()\n",
        "        refs = [ref.extract() for ref in p.select(ref_selector)]\n",
        "        result.append({\n",
        "            # \"source\": source,\n",
        "            \"text\": p.text.strip(),\n",
        "            \"refs\": list(set([ref.text.strip() for ref in refs])),\n",
        "        })\n",
        "    return result\n",
        "\n",
        "# Main function\n",
        "def get_article_content(doi):\n",
        "  html_content = get_article_html(doi)\n",
        "  result = html5lib.serialize(html5lib.parse(html_content), encoding=\"utf-8\", omit_optional_tags=False)\n",
        "  soup = BeautifulSoup(result, 'html.parser')\n",
        "  publication_config = publicationConfig[doi.split(\"/\")[0]]\n",
        "  abstract = get_abstract(soup, publication_config[\"abstract_selector\"])\n",
        "  paragraphs = get_paragraphs(soup, publication_config[\"paragraph_selector\"], publication_config[\"ref_selector\"])\n",
        "  return {\n",
        "    \"abstract\": abstract,\n",
        "    \"paragraphs\": list(map(lambda p: p[\"text\"], paragraphs)),\n",
        "  }"
      ],
      "metadata": {
        "id": "TlAwjUoI9oaK"
      },
      "execution_count": 32,
      "outputs": []
    },
    {
      "cell_type": "markdown",
      "source": [
        "# Example"
      ],
      "metadata": {
        "id": "khog-5EYeMPy"
      }
    },
    {
      "cell_type": "code",
      "source": [
        "with open(\"jacs_dois.json\") as f:\n",
        "  dois = json.load(f)"
      ],
      "metadata": {
        "id": "-VBlh-i5mDqo"
      },
      "execution_count": 29,
      "outputs": []
    },
    {
      "cell_type": "code",
      "source": [
        "doi = dois[0]\n",
        "ss = get_article_content(doi)"
      ],
      "metadata": {
        "id": "zs6ao8j5OnvW"
      },
      "execution_count": 34,
      "outputs": []
    },
    {
      "cell_type": "code",
      "source": [
        "ss"
      ],
      "metadata": {
        "id": "pISmSWZTdTPc"
      },
      "execution_count": null,
      "outputs": []
    }
  ]
}