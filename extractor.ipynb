{
  "nbformat": 4,
  "nbformat_minor": 0,
  "metadata": {
    "colab": {
      "provenance": [],
      "authorship_tag": "ABX9TyPuSUsOVyD4d1Ts6wvqJPEM",
      "include_colab_link": true
    },
    "kernelspec": {
      "name": "python3",
      "display_name": "Python 3"
    },
    "language_info": {
      "name": "python"
    }
  },
  "cells": [
    {
      "cell_type": "markdown",
      "metadata": {
        "id": "view-in-github",
        "colab_type": "text"
      },
      "source": [
        "<a href=\"https://colab.research.google.com/github/IKKEM-Lin/colab/blob/main/extractor.ipynb\" target=\"_parent\"><img src=\"https://colab.research.google.com/assets/colab-badge.svg\" alt=\"Open In Colab\"/></a>"
      ]
    },
    {
      "cell_type": "code",
      "execution_count": null,
      "metadata": {
        "id": "qXSR36At5sId"
      },
      "outputs": [],
      "source": [
        "!pip install minio\n",
        "!pip install html5lib\n",
        "!pip install BeautifulSoup4"
      ]
    },
    {
      "cell_type": "code",
      "source": [
        "from minio import Minio\n",
        "import gzip\n",
        "import html5lib\n",
        "from bs4 import BeautifulSoup\n",
        "import email\n",
        "from google.colab import userdata\n",
        "\n",
        "# Minio config, value of MINIO_ACCESS_KEY and MINIO_SECRET_KEY should not share/expose\n",
        "\n",
        "MINIO_ACCESS_KEY = userdata.get('AK')\n",
        "MINIO_SECRET_KEY = userdata.get('SK')\n",
        "\n",
        "minio_client = Minio('minio.hzc.pub', access_key=MINIO_ACCESS_KEY, secret_key=MINIO_SECRET_KEY)\n",
        "# if run in local 306\n",
        "# minio_client = Minio(\"192.168.1.219:9000\", access_key=MINIO_ACCESS_KEY, secret_key=MINIO_SECRET_KEY, secure=False)\n",
        "\n",
        "publicationConfig = {\n",
        "    \"10.1021\": {\n",
        "        \"abstract_selector\": ['p.articleBody_abstractText'],\n",
        "        \"paragraph_selector\": ['div.NLM_p', \".article_content-left > p\"],\n",
        "        \"ref_selector\": 'a[class^=\"ref ref\"]',\n",
        "    },\n",
        "    \"10.1002\": {\n",
        "        \"abstract_selector\": [\".article__body .abstract-group .article-section__abstract:last-child .article-section__content\"],\n",
        "        \"paragraph_selector\": ['.article__body .article-section__full :where(.article-section__content > p, .article-section__sub-content > p)'],\n",
        "        \"ref_selector\": 'a[data-tab=\"pane-pcw-references\"]',\n",
        "    },\n",
        "    \"10.1007\": {\n",
        "        \"abstract_selector\": [\"#Abs1-content p\"],\n",
        "        \"paragraph_selector\": ['.main-content .c-article-section__content > p'],\n",
        "        \"ref_selector\": 'a[id^=\"ref\"]',\n",
        "    },\n",
        "    \"10.1039\": {\n",
        "        \"abstract_selector\": [\"article .capsule__text\"],\n",
        "        \"paragraph_selector\": ['#pnlArticleContentLoaded > p'],\n",
        "        \"ref_selector\": 'a[href^=\"#cit\"]',\n",
        "    },\n",
        "    \"10.1016\": {\n",
        "        \"abstract_selector\": ['div.abstract.author > div'],\n",
        "        \"paragraph_selector\": ['div#body > div:first-child > section[id^=s] p[id^=p]', 'div#body > div:first-child  :where(section[id^=aep-section] > p, section[id^=aep-section] div > p)'],\n",
        "        \"ref_selector\": ':where(a.workspace-trigger, a[href^=\"#bib\"])',\n",
        "    },\n",
        "    \"10.1038\": {\n",
        "        \"abstract_selector\": ['#Abs1-content'],\n",
        "        \"paragraph_selector\": ['article .main-content .c-article-section__content > p'],\n",
        "        \"ref_selector\": 'a[data-test=\"citation-ref\"]',\n",
        "    },\n",
        "    \"10.1126\": {\n",
        "        \"abstract_selector\": ['[role=\"doc-abstract\"] > [role=\"paragraph\"]'],\n",
        "        \"paragraph_selector\": ['#bodymatter [role=\"paragraph\"]'],\n",
        "        \"ref_selector\": 'a[role=\"doc-biblioref\"]',\n",
        "    }\n",
        "}"
      ],
      "metadata": {
        "id": "DZLdZBDj9YC0"
      },
      "execution_count": 2,
      "outputs": []
    },
    {
      "cell_type": "code",
      "source": [
        "def extract_html_from_mhtml(mhtml_text):\n",
        "    msg = email.message_from_bytes(mhtml_text)\n",
        "    html_content = None\n",
        "    for part in msg.walk():\n",
        "        if part.get_content_type() == 'text/html':\n",
        "            html_content = part.get_payload(decode=True).decode('utf-8')\n",
        "            break\n",
        "    return html_content\n",
        "\n",
        "# Get html from minio by doi key\n",
        "def get_article_html(doi):\n",
        "  try:\n",
        "    object = minio_client.get_object(\"chem-brain\", f\"{doi}/_.sf.html.gz\")\n",
        "    type = \"html\"\n",
        "  except:\n",
        "    object = minio_client.get_object(\"chem-brain\", f\"{doi}/_.mhtml.gz\")\n",
        "    type = \"mhtml\"\n",
        "  data = object.read()\n",
        "  decode_data = gzip.decompress(data)\n",
        "  if type == \"mhtml\":\n",
        "    decode_data = extract_html_from_mhtml(decode_data)\n",
        "  return decode_data\n",
        "\n",
        "def get_abstract(soup, abstract_selector):\n",
        "    for selector in abstract_selector:\n",
        "        abstract = soup.select_one(selector)\n",
        "        if abstract:\n",
        "            return abstract.text.strip()\n",
        "    return \"\"\n",
        "\n",
        "def get_paragraphs(soup, paragraph_selector, ref_selector):\n",
        "    paragraphs = []\n",
        "    for selector in paragraph_selector:\n",
        "        paragraphs = soup.select(selector)\n",
        "        if paragraphs:\n",
        "            break\n",
        "    result = []\n",
        "    for p in paragraphs:\n",
        "        source = p.decode()\n",
        "        refs = [ref.extract() for ref in p.select(ref_selector)]\n",
        "        result.append({\n",
        "            # \"source\": source,\n",
        "            \"text\": p.text.strip(),\n",
        "            \"refs\": list(set([ref.text.strip() for ref in refs])),\n",
        "        })\n",
        "    return result\n",
        "\n",
        "# Main function\n",
        "def get_article_content(doi):\n",
        "  html_content = get_article_html(doi)\n",
        "  result = html5lib.serialize(html5lib.parse(html_content), encoding=\"utf-8\", omit_optional_tags=False)\n",
        "  soup = BeautifulSoup(result, 'html.parser')\n",
        "  publication_config = publicationConfig[doi.split(\"/\")[0]]\n",
        "  abstract = get_abstract(soup, publication_config[\"abstract_selector\"])\n",
        "  paragraphs = get_paragraphs(soup, publication_config[\"paragraph_selector\"], publication_config[\"ref_selector\"])\n",
        "  return {\n",
        "    \"abstract\": abstract,\n",
        "    \"paragraphs\": list(map(lambda p: p[\"text\"], paragraphs)),\n",
        "  }"
      ],
      "metadata": {
        "id": "TlAwjUoI9oaK"
      },
      "execution_count": 3,
      "outputs": []
    },
    {
      "cell_type": "markdown",
      "source": [
        "# Example"
      ],
      "metadata": {
        "id": "khog-5EYeMPy"
      }
    },
    {
      "cell_type": "code",
      "source": [
        "doi = \"10.1002/acm2.12866\"\n",
        "ss = get_article_content(doi)"
      ],
      "metadata": {
        "id": "zs6ao8j5OnvW"
      },
      "execution_count": 4,
      "outputs": []
    },
    {
      "cell_type": "code",
      "source": [
        "ss"
      ],
      "metadata": {
        "colab": {
          "base_uri": "https://localhost:8080/"
        },
        "id": "pISmSWZTdTPc",
        "outputId": "7908c0f0-4c61-4581-b2e5-36c4a51e1b9d"
      },
      "execution_count": 5,
      "outputs": [
        {
          "output_type": "execute_result",
          "data": {
            "text/plain": [
              "{'abstract': 'To evaluate the accuracy of a commercial optical surface tracking (OST) system and to demonstrate how it can be implemented to monitor patient positioning during non-coplanar single isocenter stereotactic treatments of brain metastases. A 3-camera OST system was used (Catalyst HD™, C-RAD) on a TruebeamSTx with a 6DoF couch. The setup accuracy and agreement between the OST system, and CBCT and kV-MV imaging at couch angles 0° and 270°, respectively, were examined. Film measurements at 3 depths in the Rando-Alderson phantom were performed using a single isocenter non-coplanar VMAT plan containing 4 brain lesions. Setup of the phantom was performed with CBCT at couch 0° and subsequently monitored by OST at other couch angles. Setup data for 7 volunteers were collected to evaluate the accuracy and reproducibility of the OST system at couch angles 0°, 45°, 90°, 315°, and 270°. These results were also correlated to the couch rotation offsets obtained by a Winston-Lutz (WL) test. The Rando-Alderson phantom, as well as volunteers, were fixated using open face masks (Orfit). For repeated tests with the Rando-Alderson phantom, deviations between rotational and translational isocenter corrections for CBCT and OST systems are always within 0.2° (pitch, roll, yaw), and 0.1mm and 0.5mm (longitudinal, lateral, vertical) for couch positions 0° and 270°, respectively. Dose deviations between the film and TPS doses in the center of the 4 lesions were −1.2%, −0.1%, −0.0%, and −1.9%. Local gamma evaluation criteria of 2%/2\\xa0mm and 3%/1\\xa0mm yielded pass rates of 99.2%, 99.2%, 98.6%, 89.9% and 98.8%, 97.5%, 81.7%, 78.1% for the 4 lesions. Regarding the volunteers, the mean translational and rotational isocenter shift values were (0.24\\xa0±\\xa00.09) mm and (0.15\\xa0±\\xa00.07) degrees. Largest isocenter shifts were found for couch angles 45˚ and 90˚, confirmed by WL couch rotation offsets. Patient monitoring during non-coplanar VMAT treatments of brain metastases is feasible with submillimeter accuracy.',\n",
              " 'paragraphs': ['While the use of stereotactic radiosurgery (SRS) in patients with a limited number of brain metastases (BM) has been clearly defined, the application of SRS in patients with multiple BM (>4) is still a matter of controversy. Whole-brain radiation therapy (WBRT) was traditionally the standard treatment approach, but it is associated with significant side effects, such as cognitive dysfunction (which results in a decreased quality of life), hair loss and fatigue.- Limiting radiation to the uninvolved brain and obtaining a high probability of local tumor control with a single treatment, are therefore important advantages of SRS over WBRT in patients with 4 or more BM.',\n",
              "  'Over the years, there has been a lot of technological progress in the way BM is treated with a linear accelerator (linac). Instead of forward planning techniques delivered with static beams or dynamic conformal arcs, an inverse planning technique is used and the beams are delivered with volumetric modulated arc technique (VMAT). Preferably, a single isocenter is used to make the delivery more efficient, thereby reducing the treatment time. Compared to high precision GammaKnife based treatments of multiple BM, the beam-on time on a linac is much lower, especially when flattening filter-free beams are used.- A crucial aspect is to reduce the GTV-PTV margin to 1\\xa0mm, as the probability of radionecrosis (RN) increases when the V12Gy of the brain exceeds 10\\xa0cm3. High-dose irradiated isodose volume, V22Gy, is also significantly correlated with RN, particularly for patients treated with SRS alone.  In terms of local control, the randomized study of Kirkpatrick et al. showed that there is no difference between the use of 1\\xa0mm or 3\\xa0mm GTV-PTV margin.',\n",
              "  'To treat all BM with such small margin simultaneously, a six degrees-of-freedom (6DoF) correction is essential to guarantee a submillimeter setup accuracy. Frameless radiotherapy for treating intracranial lesions has been widely adopted under the guidance of on-board cone beam CT (CBCT) and a thermoplastic mask system with a 6DoF robotic couch- or a semi-robotic couch including manual angle adjustments.',\n",
              "  'The final step in this progress in the treatment of BM is the introduction of more degrees of freedom by using non-zero couch angles during treatment planning and delivery. A non-coplanar technique is not new, but with the introduction of VMAT and image-guidance techniques (using CBCT at couch 0˚), it became a logical development to maintain to the couch at 0˚, to avoid possible collision problems. The advantages of incorporating non-zero couch angles in the treatment planning, resulting in better sparing of normal brain tissue, has been published widely., ,',\n",
              "  'In our workflow of non-coplanar treatments with a standard linac, the patient with BM is immobilized in a thermoplastic mask on the linac equipped with 6DoF couch and with a high-definition multileaf collimator (MLC). The localization accuracy of the frameless image-guided system is found to be comparable to robotic or invasive frame-based radiosurgery systems. Online CBCT acquisition to verify the patient position is challenging (or even impossible) for a non-coplanar technique, due to possible collision of the gantry and treatment couch. In order to preserve the GTV-PTV margin of 1\\xa0mm, the patient must be accurately positioned at all times, hence the need for patient monitoring.',\n",
              "  'The couch rotation offsets from the central axis (CAX) can be quantified using a Winston-Lutz (WL) test. This is a commonly used method to localize the isocenter of a linac by correlating the radiation fields directly with the object being irradiated, which is a ball-bearing (BB) phantom positioned at the center of each radiation field using external lasers and imaged on a piece of film or more recently an electronic portal imaging device.,  The final position of the BB corresponds to the intersection of the CAX of all sampled radiation fields, in other words, the radiation isocenter.',\n",
              "  'However, with a good quality control (QC) tool (like the WL test) that guarantees that the couch axis and treatment beam axis are aligned with submillimeter accuracy, it remains questionable whether the accuracy of a non-coplanar treatment is adequate solely relying on CBCT imaging verification at couch 0˚. A retrospective analysis with 288 SRS brain patients, treated with 1,344 fractions by means of an ExacTrac® system and 6D couch of Brainlab AG (Munich, Germany) has shown that although the patients were fixated with thermoplastic masks, positioning corrections exceeding 1\\xa0mm appeared for 42% of beams and exceeding 1° for 9% of the beams. Further, the longer the treatment delay, the larger the risk of having positioning deviations, it is, therefore, necessary to have a continuous positioning monitoring of the patient in the treatment room while ensuring a short treatment time. Optical Surface Tracking (OST) seems to be a sophisticated and suitable option, as it intends to reduce set-up errors and provides real-time non-invasive monitoring to detect patient movement during treatment, without the use of ionizing radiation.-',\n",
              "  'The aim in this work is to demonstrate how a commercial OST system can be implemented to monitor patient positioning during treatment for a non-coplanar single isocenter VMAT technique for multiple BM and to show the feasibility of this system by defining treatment tolerances without compromising the treatment margins.',\n",
              "  'The Catalyst HD™ system is provided by C-RAD Positioning AB (Uppsala, Sweden). The OST system uses LEDs to project a light of 3 wavelengths (λ\\xa0=\\xa0405nm (blue), λ\\xa0=\\xa0528nm (green), λ\\xa0=\\xa0624nm (red))\\n1\\n onto the patient and a charge-coupled device camera to detect the light reflected from the patient. Using the information from the reflection the system generates a real-time 3D surface of the patient, which is compared to a reference surface for verification. The reference surface can either be the body structure (DICOM RT-STRUCT) from the CT or it can be created directly in the OST system during treatment set-up. The latter should be applied when using the system on patients (not phantoms), after initial positioning using CBCT at couch 0˚ and used to monitor the patient position through the rest of the treatment. The correspondences between the reference surface to the patient’s real-time surface are calculated using a non-rigid algorithm. The OST system’s calculation of the isocenter shift includes 2 main stages: registration of the reference surface to the live surface and using this registration result to predict the impact on the live surface position by using a volumetric deformable model. The calculated position inaccuracies are displayed in real-time in 6 dimensions, including translational and rotational shifts.',\n",
              "  'The advantage of a real-time monitoring OST system is that it can detect patient movement during treatment, in contrast to the CBCT where the patient position can only be verified during the actual acquisition before the treatment. Furthermore, the OST system, comprising a main camera unit extended with 2 additional camera units with 120˚ angle from the main unit [Fig. 1(c)], has the ability to verify the online patient setup for all couch angles, which makes it highly appropriate for non-coplanar treatments.',\n",
              "  'Patient data is imported to the OST system (C-RAD c4DTM software version 5.4.1) from the treatment planning system (TPS). The exposure time and saturation settings of the 3 cameras can be altered individually to improve the quality of the live patient surface, which makes the system reliable for different skin tones. The scan volume should be adjusted to only include the opening of the mask. A 3 points open face hybrid mask is used in this work, made of 1.6\\xa0mm Efficast® and 1.2\\xa0mm Nanor® (Orfit Industries, Wijnegem, Belgium). A T-shape vacuum bag from Orfit is used to support the head, neck, and shoulders [Fig. 1(a)]. The vacuum bag is attached to an ExaFix-3® baseplate (Macromedics, Waddinxveen, the Netherlands) which locks into the Varian 6DoF couch.',\n",
              "  'Treatment planning was carried out with the Eclipse TPS (Varian Medical Systems, Palo Alto, CA, USA), using the Acuros photon dose calculation algorithm (version 15.5.11). The default beam energy is 6\\xa0MV, and calculation grid spacing as well as planning-CT reconstructed slice thickness for SRS treatments in our clinical practice, are both 1mm. A Varian TrueBeam STx linac equipped with a High Definition 120-MLC with an inner leaf width of 2.5\\xa0mm was used. This type of linac utilizes the jaw tracking technique that keeps the collimator jaws during dose delivery by RapidArc® as close as possible to the MLC aperture, minimizing leakage and transmission through the MLC leaves. As we use a single isocenter technique to treat all BM simultaneously, the field sizes shaped by the jaws are in general always larger than 3\\xa0cm2\\xa0x\\xa03\\xa0cm2, resulting in acceptable dose calculation accuracy.',\n",
              "  'A CBCT at couch 0° can detect translational and rotational set-up errors to be corrected by the 6DoF couch. At couch 270°, it is also possible to verify the patient position using simultaneous kV-MV imaging and a 2D-3D match procedure, where the gantry is positioned at 30° and the kV source at 300° [Fig 1(b)]. With a correct definition of the matching box (i.e., around the bone structures of the skull), the 2D-3D 6DoF matching procedure yields the same result as the 3D-3D CBCT match.',\n",
              "  'To assess the coincidence of the imaging centers with the radiation isocenter, the IsoCal is used, which is an automated geometric calibration system for on-board imaging and MV imaging systems at couch 0°.,  The comparison of the IsoCal with an independent Winston-Lutz (WL) method to locate the radiation isocenter has been found to be within 0.4\\xa0mm. In this work, both the IsoCal as a WL test -using an in-house MatlabTM image procession code with 11 combinations of gantry, collimator and couch angles- were used as a quality assurance tool. This investigation focused on the WL test results at gantry 0˚ and various couch angle rotations (yaw of 0°, 45°, 90°, 315° and 270°).',\n",
              "  'For an SRS plan with couch 0° and 270°, set-up accuracy is verified by comparing the agreement between the isocenter shifts calculated by the OST system and the ones suggested after image-verification with the on-board kV imaging (OBI). The applied phantom is the Rando-Alderson (Radiology Support Devices, USA) which is transected into 2.5\\xa0cm thick axial slices and incorporates materials to simulate various tissues, bone, and air cavities [Fig. 3(b)]. At couch 0°, a CBCT was made of the phantom head to fine-tune the setup using a 3D-3D match procedure, comparing the planning-CT (pCT) with CBCT (ΔpCT-CBCT). After the correction of rotational and translational errors using the 6DoF couch, a new Catalyst HDTM reference image was made and compared with the external body contour from the planning-CT scan (ΔBODY-OST). Acquiring the OST reference surface after verification of the position by CBCT eliminates the intrinsic variances between the two systems. To reduce the differences between the original slightly glossy brown phantom color and human skin for the surface scanning, the head phantom was painted in skin color using heavily skin-tone pigmented make-up in the area where the face was exposed, resulting in optimized quality of the real-time surface with more common camera settings. Again, a verification CBCT was made, and the isocenter shift corrections from the 3D-3D match (Δref-CBCT) were compared with the OST measurements (ΔBODY-OST). From this set-up, the couch was rotated to 270° to check the phantom setup with orthogonal kV-MV images using a 2D-3D match procedure, compared with the OST system position shifts.',\n",
              "  'For a case of 4 spherical PTVs simulated in the Rando-Alderson head phantom, an 8\\xa0Gy single isocenter non-coplanar VMAT plan using couch angles of 0°, 45°, 90°, 315° and 270° was evaluated using GaFchromicTM film measurements (EBT-XD film batch no 10231802 (Ashland Inc., Convington, KY, USA)) at measurement depths of 3.5, 6 and 8.5\\xa0cm (Fig. 3). The latter depths correspond to the first 3 slices in the head phantom. Although EBT-XD film is a 2D detector, it provides measurements with a submillimeter spatial resolution to compare with our calculations. The 4 PTVs (with volumes of 2.5, 1.4, 3.8, 1.8\\xa0cm3) are located in such a way that the center of the PTVs intersect with the measuring planes in order to compare the dose in the middle of the PTV between film and calculation. Before and during delivery of all the beams in the plan, the head phantom was positioned using a CBCT based 6DoF match procedure at couch 0˚ and monitored by OST at all other couch angles. By using a lead fiducial, the position of the films inside the head can be retrieved during analysis. To evaluate the agreement between the absolute measured and calculated dose, FilmQA Pro software (Ashland Inc.) was used for reporting gamma evaluation scores (with agreement criteria of 2%/2\\xa0mm as well as 3%/1\\xa0mm) and dose deviations in the center of the PTV. In order to put these results into perspective, also a co-planar plan at couch 0˚ has been delivered to the same phantom set-up, with a film positioned at 3.5\\xa0cm (PTV-1). The film dosimetry procedure is described in more detail in the appendix.',\n",
              "  'To check whether the Catalyst HDTM is able to accurately visualize the patient at the various couch angles, an experiment was performed with a mannequin training head in the open face mask (i.e., a patient lying motionless) (Fig. 1). The OST system reference surface was captured and the couch was rotated to couch angles 0°, 45°, 90°, 315° and 270°. In theory, if the MV beam and the OST system isocenter are perfectly aligned, any displacement detected by the OST system during couch rotations should only be due to couch rotation drift, assuming the patient has not moved and the OST system is able to accurately visualize the patient at the various couch positions.',\n",
              "  'The OST system was tested on 7 Caucasian volunteers (4 males, 3 females, between 22 and 46\\xa0years old) fixed with the 3-points open face mask and vacuum bag in order to determine the accuracy of an SRS treatment monitored by OST in a realistic clinical setting. None of our volunteers had beards or mustaches. However, facial hair can lead to a decrease in light reflection, and consequently loss of information of the face visible to the OST cameras (see the picture of a volunteer’s eyebrows in Fig. 5.). Each volunteer was monitored 3 times as in 3 consecutive treatment fractions for a real patient.',\n",
              "  'For repeated tests with the Rando-Alderson phantom, the deviations between the isocenter shift suggested after OBI verification and the isocenter shift calculated by the OST system ((ΔpCT-OBI)-(ΔBODY-OST)) in all translational and rotational directions were always within 0.2° (pitch, roll, yaw) for couch positions 0° as well as 270° and within 0.1 and 0.5\\xa0mm (longitudinal, lateral, vertical) for couch positions 0° and 270°, respectively.',\n",
              "  'After the CBCT based 6DoF match procedure at couch 0°, the setup of the Rando-Alderson head is monitored using the OST system at couch angles 315°, 270°, 45°, and 90°.',\n",
              "  'Deviations between the absolute measured and predicted TPS doses in the center of the 4 PTVs irradiated with a single isocenter non-coplanar VMAT plan monitored by the OST system are −1.2%, −0.1%, −0.0%, and −1.9% for PTV-1, PTV-2, PTV-3, and PTV-4, respectively (Table 1). In addition, the deviation between film and TPS doses in the center of PTV-1 for a co-planar VMAT plan at couch 0˚ is −1.6%. The daily output fluctuation of the TrueBeam STx linac for 6MV photons was within 0.1%.',\n",
              "  'Furthermore, the dosimetric agreement (pass rate) presented by local gamma evaluation criteria of 2%/2\\xa0mm and 3%/1\\xa0mm both with a cut-off dose value of 20% (meaning that points with doses below 20% of the maximum are ignored in the gamma analysis) were 99.2%, 99.2%, 98.6%, 89.9% and 98.8%, 97.5%, 81.7%, 78.1% for PTV-1, PTV-2, PTV-3, and PTV-4, respectively using a rectangular-shaped region of interest incorporating dose areas from 1.6 to 10\\xa0Gy around each of the PTVs (Table 1). Additionally, the dosimetric agreement for the co-planar plan using the same gamma evaluation criteria (2%/2\\xa0mm and 3%/1\\xa0mm) was 99.8% and 99.9%, respectively.',\n",
              "  'The mean\\xa0±\\xa0SEM values for the translational and rotational shifts for the different couch angles 0°, 45°, 90°, 315°, and 270° obtained from the repeated monitoring sessions are presented in Fig. 4. Deviations larger than 0.5\\xa0mm and 0.5˚ are obtained for couch 45˚ and couch 90˚, in a lateral and longitudinal direction.',\n",
              "  'For the 7 volunteers in this study, the mean\\xa0±\\xa0SEM 6DoF isocenter shift values for the couch angles 0°, 45°, 90°, 315°, 270° were within 0.5\\xa0mm and 0.5˚ for the different directions (Fig. 5.), except for couch 45˚ in lateral and longitudinal direction.',\n",
              "  'These results can be correlated with the couch rotation offsets obtained by repeated WL tests performed at the TrueBeam STx over the last 10\\xa0months: mean vector deviations between the couch and treatment isocenters at gantry 0° can be found of 0.36\\xa0±\\xa00.15, 0.24\\xa0±\\xa00.09, 0.30\\xa0±\\xa00.14, 0.59\\xa0±\\xa00.11, and 0.60\\xa0±\\xa00.13 (mean\\xa0±\\xa0SD in mm) for couch rotations 0°, 315°, 270°, 90°, and 45°, respectively (Table 2), revealing isocenter deviations larger than 0.5\\xa0mm for couch rotations 90° and 45°.',\n",
              "  'With most external beam radiotherapy treatments, an accuracy of ±3\\xa0mm is considered desirable and usually achievable. With stereotactic radiotherapy, however, like linac based SRS treatments of patients with multiple BM, somewhat higher accuracy is desired and, with modern techniques, submillimeter accuracy is achievable but requires careful verification.,  Regarding the technical capability to accurately align the delivery system to the isocenter, current mechanical engineering standards meet this requirement easily.,  When using frameless, image-guided SRS (using thermoplastic immobilization masks, CBCT online match procedures, a robotic couch,…), it is necessary to match the imaging isocenter to the mechanical isocenter, which is an achievable goal for standard QA according to AAPM TG-142 (1\\xa0mm/0.5˚). The IsoCal procedure, as part of the Machine Performance Check designed on TrueBeams to quickly evaluate the machine’s geometric performance (Varian Medical Systems), guarantees a coincidence between imaging and radiation isocenter within 0.5\\xa0mm (namely a built-in tolerance of 0.2\\xa0mm and an action level of 0.5\\xa0mm). To verify whether submillimeter accuracy can be achieved between the radiation isocenter and the mechanical isocenter, one would need to perform an end-to-end test using image-guidance and a dosimetric system with the highest spatial resolution, like radiochromic film. Submillimeter accuracy for an end-to-end test with a TrueBeam linac has already been demonstrated. Literature on end-to-end testing of a single isocenter VMAT treatment for multiple BM is scarce.,  When a non-coplanar technique is applied, the coincidence between radiation and couch rotation isocenter has to be as accurate as possible, as one is generally not able to correct for such errors during treatment delivery. It is thus advisable to have knowledge about the expected range of couch rotation drift using regular QA tests, like a WL test. Further, immobilization devices cannot fully eliminate the intra-fractional movements of a patient. In Tryggestad et al, a mean intrafractional motion was found to be (1.1\\xa0±\\xa01.2) mm (mean\\xa0±\\xa0SD) using CBCT images, acquired before and after intra-cranial radiation treatment, to determine movements of the head in a thermoplastic mask. When the treatment time delay prolongs, the higher the risk of having positioning deviations. Latter fact also favors the single isocenter technique above a multiple isocenter technique, where an online imaging, as well as the OST procedure, has to be performed for every isocenter separately. This was not part of our investigations but we expect that the use of multiple isocenters has a negative impact on the patient set-up accuracy.',\n",
              "  'For a non-coplanar single isocenter VMAT technique of multiple BM, patient position and movement should be verified continuously at all different couch angles. In this work, we have demonstrated the potential of a commercial OST system as an addition to a conventional linac in monitoring real-time patient positioning without the use of ionizing radiation and without making concessions to treatment time.',\n",
              "  'To assess how mechanical, imaging, treatment planning, and radiation isocenter uncertainties combine in a rigid phantom, we performed an end-to-end test using multi-slice film dosimetry in the Rando-Alderson head phantom. Using a gamma criterion of 2%/2\\xa0mm a good agreement between the measurements and predicted TPS doses was found, demonstrating that an accurate dose can be delivered at the correct position. Nevertheless, one should be aware that for very small lesions (<2\\xa0cm3) this might no longer be the best criterion. As the film has the highest spatial resolution, and since a reduction to 3%/1\\xa0mm is possible, we also looked into this gamma criterion and we still see acceptable agreement scores (Table 1).',\n",
              "  'From the experiments with the mannequin training head, an increase in OST indicated displacements during couch angle rotations was observed, which -in the case of an immobilized patient- should only be due to couch rotation drift, as identified by the WL test. However, from Fig. 4. can be seen that random uncertainties in the OST system’s calculation of isocenter shift seem to cumulate on top of the systematic couch rotation drift, such as possible misalignment between radiation beam and OST isocenter (which can be quantified with combined QA measures like IsoCal and Routine QA, which both use CBCT in their procedures). After couch rotation from couch 0˚, it could be that there is less information of the face in the open face mask visible to the OST cameras. To make sure that the observed random errors are very small, we deliberately did a reset of the systematic error due to the couch rotation drift at couch angle 45˚, by performing a refresh of the OST reference surface at this couch angle, which resulted in a perfect match between the live and reference surface (translational shifts <−0.02\\xa0mm and rotational shifts <0.1˚). Rotating the couch back to 0˚ gave us the deviation of which we did a reset at couch 45˚. This means that the OST is able to pick up the simulated position deviation.',\n",
              "  'As not only the position of the couch relative to the couch pedestal has an impact on the couch rotation drift, but also the load on the couch, the results of the volunteers study are important before going clinical. The mean translational isocenter shifts for the 7 volunteers (Fig. 5.) are <0.6\\xa0mm, which is in agreement with the average magnitude translation <0.8\\xa0mm demonstrated by Lewis et al. where an ExacTrac® system\\xa0(Brainlab, Munich, Germany) is used to monitor the intrafraction patient motion. They promote to reduce the imaging frequency (to reduce treatment time of the patient in the thermoplastic mask), preserving the necessity of monitoring and correcting intrafractional setup changes to ensure that the dose is distributed according to the treatment plan. A single image acquired pretreatment has found not sufficient to monitor patient motion during SRS. These findings speak in favor of an OST system as a timesaving non-invasive solution. In our volunteers study, the average time on the couch took about 12\\xa0min, similar to an SRS treatment in our institute. Figure 5. shows that the largest isocenter displacements monitored by the OST system are obtained for couch 45˚ in the lateral and longitudinal direction, which can be correlated to the results of the repeated WL tests (Table 2), with mean translational and rotational isocenter shift values within 0.6\\xa0mm and 0.5˚, respectively. From these results, we can suggest that a WL test can deliver valuable information to be taken into account in the treatment planning by avoiding the use of couch angles, where couch rotation drift exceeding a certain tolerance level occurs. Alternatively, when the linac is also equipped with ExacTrac® X-ray monitoring, the accuracy of the OST system can be easily monitored at any couch position.',\n",
              "  'Depending on the desired treatment margin, treatment tolerances for the OST system can be defined. In our case, we maintain a more stringent GTV-PTV margin of 1\\xa0mm, so an OST system tolerance of 0.5\\xa0mm and 0.5˚ would be feasible for our delivery system, with the exclusion of couch rotations 45˚ and 90˚ which pass the AAPM TG-142 criteria but demonstrated a less accurate couch rotation coincidence with the radiation isocenter compared to the other couch angles (Table 2). Therefore, a regular WL test (in our situation with a tolerance of 0.5\\xa0mm) should be part of the SRS-specific QA program of a linac in order to be informed about the capabilities of the SRS delivery system present in the clinic. In order to reduce the time for a (daily) SRS-specific QA program, future work will be to develop a novel and practical WL test based phantom that integrates several tests, namely measuring the isocenter congruence of imaging systems, radiation beam and couch rotation axis with submillimeter accuracy and also the isocentricity of the OST system.',\n",
              "  'Other future investigations will include testing similar OST system for brain tumor patients treated with proton therapy on the Mevion S250i (Mevion Medical Systems, Littleton, MA, USA). In our radiotherapy center, a 4 camera system, Catalyst PTTM (C-RAD, Uppsala, Sweden), has been installed recently in order to monitor the patient on the robotic couch (RoboCouch®, Accuray, Sunnyvale, CA, USA) moving in and out the in-room CBCT (ImagingRing®, medPhoton GmbH, Salzburg, Austria) and towards the different treatment positions. As the accuracy in patient set-up during the various couch movements maybe even more important in brain treatments with proton therapy, we expect the potential of this intrafraction monitoring system to be even higher.',\n",
              "  'This work demonstrates a step-by-step realization of non-coplanar single isocenter SRS for multiple BM using the Catalyst HDTM. It was shown that submillimeter accuracy by the linac equipped with the OST system can be obtained for these treatments, depending on the type of the delivery system and the tolerances applied during the various SRS-specific QA procedures. The Catalyst HDTM OST system has the potential to be used as a dedicated patient monitoring tool during complex non-coplanar high-precision SRS treatments.',\n",
              "  'This work has been performed in collaboration with C-RAD and Orfit Industries. Further, the authors like to thank the volunteers, who participated in this study.',\n",
              "  'No conflicts of interest.',\n",
              "  'In addition to film irradiation, we performed ionization chamber measurements with a cross-calibrated PTW Farmer chamber (type TN30012, SN 0158) at the depth of 5\\xa0cm in RW3 water-equivalent phantom (SSD 100\\xa0cm, 10\\xa0cm2\\xa0×\\xa010\\xa0cm2, 5\\xa0Gy, 6\\xa0MV). One film in this set-up was used for calibration. Also, a blank film from the same batch was applied as a baseline film with 0\\xa0Gy.',\n",
              "  'The films were scanned under a 4\\xa0mm glass plate with a flatbed A3-size Epson 11000XL scanner (Seiko Epson Corp.) with built-in transparency unit and analyzed using the one-scan protocol by Lewis et al. and FilmQA Pro software (version 5.0.5470.35091), a quantitative analysis tool designed for film scanning, pixel value conversion to dose and comprehensive dose analysis (Ashland Inc.).',\n",
              "  'Additional recommendations mentioned in Mathot et al. were followed. Due to the anisotropic light scattering in radiochromic films, film orientation must be kept constant, which is in this study “landscape” (where the long axis of the film is perpendicular to the scanner lamp). Further, the reproducibility of film positioning is an important issue due to the non-uniform scanner response over the scan field perpendicular to the scan direction. The “lateral response effect” causes transmission pixel values to decrease as the lateral distance from the scan-axis increases. Therefore, we used a ruler template on the scanner glass so that film pieces can be placed in the central scan axis of the scanner bed. Due to the accurate positioning of the film in the center of the scanner and the limited field size, lateral response artifacts, turned out to be negligible.']}"
            ]
          },
          "metadata": {},
          "execution_count": 5
        }
      ]
    }
  ]
}