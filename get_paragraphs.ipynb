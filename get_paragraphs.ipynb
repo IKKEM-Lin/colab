{
  "nbformat": 4,
  "nbformat_minor": 0,
  "metadata": {
    "colab": {
      "provenance": [],
      "authorship_tag": "ABX9TyPZrXVRO66dsKte2+a8MsVo",
      "include_colab_link": true
    },
    "kernelspec": {
      "name": "python3",
      "display_name": "Python 3"
    },
    "language_info": {
      "name": "python"
    }
  },
  "cells": [
    {
      "cell_type": "markdown",
      "metadata": {
        "id": "view-in-github",
        "colab_type": "text"
      },
      "source": [
        "<a href=\"https://colab.research.google.com/github/IKKEM-Lin/colab/blob/main/get_paragraphs.ipynb\" target=\"_parent\"><img src=\"https://colab.research.google.com/assets/colab-badge.svg\" alt=\"Open In Colab\"/></a>"
      ]
    },
    {
      "cell_type": "code",
      "execution_count": null,
      "metadata": {
        "id": "TpoVo2ZGd5B6"
      },
      "outputs": [],
      "source": [
        "!curl -O https://raw.githubusercontent.com/IKKEM-Lin/crawler-base-on-singlefile/refs/heads/main/filter_dois.json"
      ]
    },
    {
      "cell_type": "code",
      "source": [
        "!pip install minio"
      ],
      "metadata": {
        "id": "j3bVBq4rd8BI"
      },
      "execution_count": null,
      "outputs": []
    },
    {
      "cell_type": "code",
      "source": [
        "import minio\n",
        "from google.colab import userdata\n",
        "import gzip\n",
        "import io\n",
        "import json\n",
        "import random\n",
        "\n",
        "client = minio.Minio('minio.hzc.pub', access_key=userdata.get('AK'), secret_key=userdata.get('SK'))\n",
        "\n",
        "with open('filter_dois.json', 'r') as f:\n",
        "  dois = json.load(f)\n"
      ],
      "metadata": {
        "id": "CEgMaW58d9wJ"
      },
      "execution_count": 3,
      "outputs": []
    },
    {
      "cell_type": "code",
      "source": [
        "doi = dois[random.randint(1,len(dois)-1)]\n",
        "print(doi)\n",
        "\n",
        "response = client.get_object('chem-brain', f\"{doi}/crossref_paragraphs.gz\")\n",
        "\n",
        "with gzip.GzipFile(fileobj=io.BytesIO(response.read())) as gz_file:\n",
        "    file_content = gz_file.read().decode('utf-8')\n",
        "\n",
        "loaded_data = json.loads(file_content)\n",
        "print(loaded_data)"
      ],
      "metadata": {
        "id": "2oA3Q9c5e8l0"
      },
      "execution_count": null,
      "outputs": []
    }
  ]
}