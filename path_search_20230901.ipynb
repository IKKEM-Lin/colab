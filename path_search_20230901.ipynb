{
  "nbformat": 4,
  "nbformat_minor": 0,
  "metadata": {
    "colab": {
      "provenance": [],
      "authorship_tag": "ABX9TyOx/MTk1kbwe0ozy5HmL2eL",
      "include_colab_link": true
    },
    "kernelspec": {
      "name": "python3",
      "display_name": "Python 3"
    },
    "language_info": {
      "name": "python"
    }
  },
  "cells": [
    {
      "cell_type": "markdown",
      "metadata": {
        "id": "view-in-github",
        "colab_type": "text"
      },
      "source": [
        "<a href=\"https://colab.research.google.com/github/IKKEM-Lin/colab/blob/main/path_search_20230901.ipynb\" target=\"_parent\"><img src=\"https://colab.research.google.com/assets/colab-badge.svg\" alt=\"Open In Colab\"/></a>"
      ]
    },
    {
      "cell_type": "markdown",
      "source": [
        "# 产物路径搜索，需上传[ttl文件](https://github.com/IKKEM-Lin/colab/blob/main/gen_turtle_20230901.ipynb)"
      ],
      "metadata": {
        "id": "fUenogiTchE1"
      }
    },
    {
      "cell_type": "code",
      "execution_count": null,
      "metadata": {
        "id": "BaEyaeYRcCHY"
      },
      "outputs": [],
      "source": [
        "# install dependencies\n",
        "! pip install rdflib\n",
        "! pip install requests\n",
        "! pip install loguru\n",
        "!pip install pyvis\n",
        "\n",
        "from pyvis.network import Network\n",
        "\n",
        "from rdflib import Namespace, Literal, URIRef, Graph\n",
        "import requests\n",
        "from loguru import logger\n",
        "\n",
        "import copy\n",
        "import json\n",
        "import uuid\n",
        "import collections\n",
        "import hashlib\n",
        "import os\n",
        "import re"
      ]
    },
    {
      "cell_type": "markdown",
      "source": [
        "### 1. 公共函数，用于统一化合物的名称，https://pubchem.deno.dev 会缓存所请求的数据"
      ],
      "metadata": {
        "id": "xwcI6YNjvoxb"
      }
    },
    {
      "cell_type": "code",
      "source": [
        "# common function\n",
        "\n",
        "def get_IUPAC_name_final(name, mapping_dict):\n",
        "    try:\n",
        "        r = requests.get(f\"https://pubchem.deno.dev/iupac?name={name}\")\n",
        "        result = json.loads(r.text)\n",
        "        if result.get(\"data\"):\n",
        "            return result.get(\"data\") or name\n",
        "    except:\n",
        "        return name\n",
        "\n",
        "def get_spieces_class_operations(key, mapping_dict, IUPAC_name = \"\"):\n",
        "    def get_md5(name):\n",
        "        return hashlib.md5(name.encode(\"UTF-8\")).hexdigest()\n",
        "\n",
        "    def get_CHEBI_ID(name):\n",
        "        try:\n",
        "            r = requests.get(f\"https://pubchem.deno.dev/chebi?name={name}\")\n",
        "            result = json.loads(r.text)\n",
        "            if result.get(\"data\"):\n",
        "                return result.get(\"data\") or name\n",
        "        except:\n",
        "            return name\n",
        "\n",
        "    if not IUPAC_name:\n",
        "        IUPAC_name = get_IUPAC_name_final(key, mapping_dict)\n",
        "    name_list = IUPAC_name.split(\";\")\n",
        "    name = name_list[0] if name_list else \"\"\n",
        "    tag = get_CHEBI_ID(name)\n",
        "    if \"CHEBI\" in tag:\n",
        "        re_tag = ''.join(re.findall(\"(CHEBI_\\d+)\", tag))\n",
        "        return re_tag, URIRef(\"obo:\" + re_tag)\n",
        "    else:\n",
        "        id_str = get_md5(IUPAC_name)\n",
        "        return id_str, URIRef(\"spi:\"+\"{}\".format(id_str))\n",
        "\n",
        "\n",
        "def get_spieces(name):\n",
        "  # 拿到name对应的ID\n",
        "  id_str, URI = get_spieces_class_operations(name, {})\n",
        "  if \"CHEBI\" in id_str:\n",
        "    return URIRef(\"obo:{}\".format(id_str))\n",
        "  else:\n",
        "    return URIRef(\"spi:{}\".format(id_str))"
      ],
      "metadata": {
        "id": "mPZb6tfLvnw9"
      },
      "execution_count": 3,
      "outputs": []
    },
    {
      "cell_type": "markdown",
      "source": [
        "### 2. 读取ttl文件"
      ],
      "metadata": {
        "id": "WPiEjPxawAut"
      }
    },
    {
      "cell_type": "code",
      "source": [
        "sparql_prefix =  \"SELECT * WHERE {{ \\n\" \\\n",
        "            \"\\t{expression}\\n\"\\\n",
        "          \"}}\\n\"\n",
        "\n",
        "substance_only_product = [\"CO\", \"H2\", \"syngas\", \"H2O\", \"CO2\", \"Carbon Dioxide\", \"Carbon Monoxide\"]\n",
        "substance_only_product = list(map(lambda x: get_spieces(x), substance_only_product))\n",
        "\n",
        "rg = Graph()\n",
        "rg.parse(\"./tripple.ttl\", format='turtle')\n"
      ],
      "metadata": {
        "colab": {
          "base_uri": "https://localhost:8080/"
        },
        "id": "IdlaJakKdHru",
        "outputId": "20df66b8-ac62-42d0-8f50-06915c74b5e3"
      },
      "execution_count": 4,
      "outputs": [
        {
          "output_type": "execute_result",
          "data": {
            "text/plain": [
              "<Graph identifier=Nc86c8c6a8f2149fa9f7b74e8287b4581 (<class 'rdflib.graph.Graph'>)>"
            ]
          },
          "metadata": {},
          "execution_count": 4
        }
      ]
    },
    {
      "cell_type": "markdown",
      "source": [
        "### 3.定义查询的公共函数"
      ],
      "metadata": {
        "id": "F6b788KnQVrf"
      }
    },
    {
      "cell_type": "code",
      "source": [
        "print(len(rg), substance_only_product)\n",
        "def gen_query(pred, obj):\n",
        "  return f\"?val <{pred}> <{obj}> .\"\n",
        "\n",
        "def find_reactions_from_product(produce):\n",
        "  query = sparql_prefix.format(expression = gen_query('react:has_product', produce))\n",
        "  result = rg.query(query)\n",
        "  return map(lambda x: x.val, result)\n",
        "\n",
        "def find_reactants_from_reaction(reaction):\n",
        "  query = sparql_prefix.format(expression = gen_query('spi:is_reactant_of', reaction))\n",
        "  # print(query)\n",
        "  result = rg.query(query)\n",
        "  return map(lambda x: x.val, result)\n",
        "\n",
        "def get_products_from_reaction(reaction):\n",
        "  query = sparql_prefix.format(expression = gen_query('spi:is_product_of', reaction))\n",
        "  result = rg.query(query)\n",
        "  return map(lambda x: x.val, result)\n",
        "\n",
        "def is_reaction(node):\n",
        "  return \"react:\" in str(node)\n",
        "\n",
        "def get_substance_name(substance):\n",
        "  obo = substance\n",
        "  if is_reaction(obo):\n",
        "    return substance\n",
        "  if not isinstance(substance, URIRef):\n",
        "    obo = URIRef(obo)\n",
        "  query = sparql_prefix.format(expression = f\"\"\"\n",
        "    <{obo}> <spi:has_IUPAC_name> ?IUPAC_name.\n",
        "    OPTIONAL {{<{obo}> <spi:has_name> ?name}}\n",
        "    OPTIONAL {{<{obo}> <spi:has_formula> ?formula}}\n",
        "  \"\"\") + \"LIMIT 5\"\n",
        "  result = rg.query(query)\n",
        "  result = list(map(lambda x: str(x.formula or x.name), result))\n",
        "  return result and result[0] or substance\n",
        "\n",
        "def add_keys_to_dict(keys, dict = {}):\n",
        "  for key in keys:\n",
        "    dict[key] = {}\n",
        "  return dict\n",
        "\n",
        "# str(list(find_reactions_from_product(\"obo:CHEBI_17790\"))[0])"
      ],
      "metadata": {
        "colab": {
          "base_uri": "https://localhost:8080/"
        },
        "id": "f5wzffJJuR38",
        "outputId": "3e6b9837-d4e2-4044-fc76-7671fa8b88df"
      },
      "execution_count": 5,
      "outputs": [
        {
          "output_type": "stream",
          "name": "stdout",
          "text": [
            "50376 [rdflib.term.URIRef('spi:a6b3f1c744304a3ee2ec20446f690f45'), rdflib.term.URIRef('obo:CHEBI_33608'), rdflib.term.URIRef('spi:a68a857ab0e54f5e63adea6b0bde9b44'), rdflib.term.URIRef('obo:CHEBI_15377'), rdflib.term.URIRef('spi:05f338756c3795e0fe583df923cd6a65'), rdflib.term.URIRef('obo:CHEBI_16526'), rdflib.term.URIRef('obo:CHEBI_17245')]\n"
          ]
        }
      ]
    },
    {
      "cell_type": "markdown",
      "source": [
        "### 4. 反应聚类"
      ],
      "metadata": {
        "id": "FMUdQCKPIoeh"
      }
    },
    {
      "cell_type": "code",
      "source": [
        "reaction_group = {}\n",
        "def get_all_reaction():\n",
        "  query = sparql_prefix.format(expression = f\"?val <react:id> ?obj\")\n",
        "  result = rg.query(query)\n",
        "  return map(lambda x: x.val, result)\n",
        "\n",
        "def get_reaction_uniq_key(reaction):\n",
        "  reactants = sorted(map(lambda x: str(x), find_reactants_from_reaction(reaction)))\n",
        "  products = sorted(map(lambda x: str(x), get_products_from_reaction(reaction)))\n",
        "  key = \",\".join(reactants) + \";\" + \",\".join(products)\n",
        "  return key\n",
        "\n",
        "for reaction in list(get_all_reaction()):\n",
        "  key = get_reaction_uniq_key(reaction)\n",
        "  if reaction_group.get(key):\n",
        "    reaction_group.get(key).append(reaction)\n",
        "  else:\n",
        "    reaction_group[key] = [reaction]\n",
        "\n",
        "print(len(reaction_group.keys()))"
      ],
      "metadata": {
        "colab": {
          "base_uri": "https://localhost:8080/"
        },
        "id": "_W6x62zsDeLJ",
        "outputId": "c145ec5e-b2a0-4dec-f46e-dd3cac17a2fe"
      },
      "execution_count": 6,
      "outputs": [
        {
          "output_type": "stream",
          "name": "stdout",
          "text": [
            "379\n"
          ]
        }
      ]
    },
    {
      "cell_type": "markdown",
      "source": [
        "### 5.定义路径搜索函数"
      ],
      "metadata": {
        "id": "95McymxKQmvm"
      }
    },
    {
      "cell_type": "code",
      "source": [
        "def search_one(name, max_steps=2):\n",
        "  query_str = get_spieces(name)\n",
        "  if query_str in substance_only_product:\n",
        "    return [[query_str]]\n",
        "  duplicated_reactions = [];\n",
        "  res_path = [[query_str]]\n",
        "  logger.info(query_str) #################\n",
        "  result_hash = \"\"\n",
        "  condition = lambda path: (len(path) < max_steps*2 and path[-1] not in substance_only_product)\n",
        "  # print(res_path)\n",
        "  while any(map(condition ,res_path)):\n",
        "    new_res_paths = []\n",
        "    wait_process_paths = []\n",
        "    for path in res_path:\n",
        "      if condition(path):\n",
        "        wait_process_paths.append(path)\n",
        "      else:\n",
        "        new_res_paths.append(path)\n",
        "    for path in wait_process_paths:\n",
        "      # print(path, is_reaction(path[-1])) #################\n",
        "      if is_reaction(path[-1]):\n",
        "        # 处理反应\n",
        "        temp_reactants = list(find_reactants_from_reaction(path[-1]))\n",
        "        substant_in_previous = any([item in path for item in temp_reactants])\n",
        "        if substant_in_previous:\n",
        "          # end with reaction, need to cut off finally\n",
        "          new_res_paths.append(path)\n",
        "        else:\n",
        "          new_res_paths.extend([path[:] + ([reactant]) for reactant in temp_reactants])\n",
        "      else:\n",
        "        # 处理物质\n",
        "        temp_reactions = list(find_reactions_from_product(path[-1]))\n",
        "        temp_wait_process_reactions = [reaction for reaction in temp_reactions if (reaction not in path and reaction not in duplicated_reactions)]\n",
        "        if not temp_wait_process_reactions:\n",
        "          new_res_paths.append(path)\n",
        "          continue\n",
        "        for reaction in temp_wait_process_reactions:\n",
        "          if reaction in duplicated_reactions:\n",
        "            continue\n",
        "          reaction_key = get_reaction_uniq_key(reaction)\n",
        "          reaction_match = reaction_group.get(reaction_key, [reaction])\n",
        "          # print(\"reaction_match\", reaction_match)\n",
        "          new_res_paths.append(path[:] + ([reaction]))\n",
        "          # 处理重复反应\n",
        "          duplicated_reactions.extend(reaction_match)\n",
        "    res_path = new_res_paths[:]\n",
        "    new_hash = hash(str(res_path))\n",
        "    # print(res_path, new_hash) #################\n",
        "    if new_hash == result_hash:\n",
        "      break\n",
        "    else:\n",
        "      result_hash = new_hash\n",
        "  return res_path"
      ],
      "metadata": {
        "id": "w5_mS1TSdO0d"
      },
      "execution_count": 7,
      "outputs": []
    },
    {
      "cell_type": "markdown",
      "source": [
        "### 6. 测试并打印结果"
      ],
      "metadata": {
        "id": "sGurdSZURmO7"
      }
    },
    {
      "cell_type": "code",
      "source": [
        "paths = search_one(\"CH4\", 3)\n",
        "\n",
        "print(\"----------------- Result ------------------------\", len(paths))\n",
        "result = {}\n",
        "for path in paths:\n",
        "  temp = result\n",
        "  for key in path[:-1]:\n",
        "    if key not in temp:\n",
        "      temp[key] = {}\n",
        "    temp = temp[key]\n",
        "\n",
        "  last_key = path[-1]\n",
        "  if last_key not in temp:\n",
        "    temp[last_key] = {}\n",
        "\n",
        "def print_dict(d, indent=0):\n",
        "    for key, value in d.items():\n",
        "        print('  ' * indent + str(get_substance_name(key)))\n",
        "        if isinstance(value, dict):\n",
        "            print_dict(value, indent+2)\n",
        "print_dict(result)"
      ],
      "metadata": {
        "colab": {
          "base_uri": "https://localhost:8080/"
        },
        "id": "xhil1P6odRdk",
        "outputId": "a715894f-125c-4ef6-8928-499b7c8a1ee1"
      },
      "execution_count": 8,
      "outputs": [
        {
          "output_type": "stream",
          "name": "stderr",
          "text": [
            "\u001b[32m2023-09-04 12:42:36.121\u001b[0m | \u001b[1mINFO    \u001b[0m | \u001b[36m__main__\u001b[0m:\u001b[36msearch_one\u001b[0m:\u001b[36m7\u001b[0m - \u001b[1mobo:CHEBI_16183\u001b[0m\n"
          ]
        },
        {
          "output_type": "stream",
          "name": "stdout",
          "text": [
            "----------------- Result ------------------------ 65\n",
            "Methane\n",
            "    react:334_1507_1211\n",
            "        Hydrogen\n",
            "        Propane\n",
            "            react:334_1507_1210\n",
            "                Hydrogen\n",
            "                Propylene\n",
            "                    react:334_1509_1215\n",
            "                    react:334_1512_1219\n",
            "                    react:372_1652_1314\n",
            "                    react:415_1811_1427\n",
            "                    react:129_566_1746\n",
            "                    react:132_583_1752\n",
            "                    react:491_2107_1880\n",
            "                    react:491_2109_1883\n",
            "            react:565_2471_2123\n",
            "                Neopentane\n",
            "                    react:565_2469_2121\n",
            "            react:132_583_1751\n",
            "                Polyethylene\n",
            "    react:344_1538_1231\n",
            "        CO2\n",
            "    react:344_1539_1232\n",
            "        Carbon Dioxide\n",
            "    react:355_1581_1261\n",
            "        CO2\n",
            "    react:357_1590_1269\n",
            "        Carbon Monoxide\n",
            "        Oxygen\n",
            "            react:428_1877_1520\n",
            "                Water\n",
            "            react:428_1877_1521\n",
            "                Water\n",
            "            react:517_2236_1961\n",
            "                Water\n",
            "                Ethanol\n",
            "                NiBHT\n",
            "                SrTiO3:Al\n",
            "            react:517_2236_1962\n",
            "                Water\n",
            "                NiBHT\n",
            "                CoOx/SrTiO3:Al\n",
            "            react:133_586_1753\n",
            "                Seawater\n",
            "    react:373_1657_1321\n",
            "        Carbon Dioxide\n",
            "        Hydrogen\n",
            "    react:378_1679_1341\n",
            "        Carbon Dioxide\n",
            "        Hydrogen\n",
            "    react:381_1690_1344\n",
            "        Carbon Dioxide\n",
            "    react:381_1691_1347\n",
            "        Carbon Dioxide\n",
            "    react:403_1762_1399\n",
            "        Hydrogen\n",
            "        m-Cresol\n",
            "    react:403_1763_1401\n",
            "        Hydrogen\n",
            "        m-Cresol\n",
            "    react:403_1765_1406\n",
            "        Hydrogen\n",
            "        m-Cresol\n",
            "    react:415_1813_1431\n",
            "        Carbon Dioxide\n",
            "        Hydrogen\n",
            "    react:146_645_1772\n",
            "        Carbon Dioxide\n",
            "    react:146_646_1774\n",
            "        Carbon Dioxide\n",
            "    react:247_1105_1810\n",
            "        Carbon Dioxide\n",
            "        Hydrogen\n",
            "    react:491_2108_1882\n",
            "        Carbon Dioxide\n",
            "        Propane\n",
            "    react:497_2150_1914\n",
            "        CO2\n",
            "    react:532_2294_1996\n",
            "        Carbon Dioxide\n",
            "        Hydrogen\n",
            "        KHCO3\n",
            "    react:532_2295_1997\n",
            "        Carbon Dioxide\n",
            "    react:532_2296_2000\n",
            "        Carbon Monoxide\n",
            "    react:553_2399_2076\n",
            "        Carbon Monoxide\n",
            "        Hydrogen\n",
            "    react:584_2546_2162\n",
            "        Water\n",
            "        Ethanol\n",
            "    react:584_2544_2160\n",
            "        Ethanol\n",
            "            react:337_1518_1222\n",
            "                Carbon Dioxide\n",
            "            react:531_2290_1993\n",
            "                Carbon Dioxide\n",
            "                Carbon Monoxide\n",
            "            react:531_2290_1992\n",
            "    react:403_1761_1397\n",
            "        m-Cresol\n",
            "    react:120_520_1702\n",
            "        Sorbitol\n",
            "    react:128_562_1743\n",
            "        o-cresol\n",
            "    react:370_1641_1846\n",
            "        Isobutane\n",
            "    react:584_2545_2161\n",
            "        Ethanol\n"
          ]
        }
      ]
    },
    {
      "cell_type": "markdown",
      "source": [
        "### 7. 可视化构建"
      ],
      "metadata": {
        "id": "0RrqJvfLRrIm"
      }
    },
    {
      "cell_type": "code",
      "source": [
        "output_file = \"tree.html\"\n",
        "option = {\n",
        "    \"hierarchical\": False,\n",
        "    \"substance_same_node\": False\n",
        "}\n",
        "\n",
        "data = result\n",
        "net = Network(height=\"90vh\", width=\"100%\", notebook=True, layout= option.get(\"hierarchical\") and {\"direction\": \"LR\"} or None )\n",
        "colors = [\"#CC9900\", \"#999900\", \"#669900\", \"#339900\", \"009900\"]\n",
        "\n",
        "def add_node(net, node_id, label, parent=None, level = 0):\n",
        "    node_color = \"#0099CC\"\n",
        "    if level % 2 == 1:\n",
        "      node_color = colors[level // 2]\n",
        "    net.add_node(node_id, label=label, color=node_color, size=parent and 25 or 40)\n",
        "    if parent:\n",
        "        net.add_edge(parent, node_id)\n",
        "\n",
        "def build_tree(net, data, parent=None, level = 0):\n",
        "    count = 0\n",
        "    for key, value in data.items():\n",
        "        count += 1\n",
        "        node_id = option.get(\"substance_same_node\") and key or ((parent or \"\") + key + str(count))\n",
        "        add_node(net, node_id, get_substance_name(key), parent, level)\n",
        "        if isinstance(value, dict):\n",
        "            new_level = level + 1\n",
        "            build_tree(net, value, parent=node_id, level = new_level)\n",
        "\n",
        "build_tree(net, data)\n",
        "net.show(output_file)\n",
        "\n",
        "with open(output_file) as f:\n",
        "    content = f.read()\n",
        "\n",
        "content = re.sub(r'<center>|</center>', '', content)\n",
        "\n",
        "# 下面操作将层次图由上下结构改为左右，注释可恢复，可参考：https://ame.cool/pages/84ec1c/#%E9%85%8D%E7%BD%AE%E9%A1%B9%E8%AF%A6%E6%83%85\n",
        "if option.get(\"hierarchical\"):\n",
        "  content = re.sub(r'\"hierarchical\": {', '\"hierarchical\": { direction: \"LR\",', content)\n",
        "\n",
        "with open(output_file, 'w') as f:\n",
        "    f.write(content)\n",
        "\n",
        "\n",
        "# 上传展示\n",
        "import IPython\n",
        "upload_url = \"https://reaction-tree.deno.dev\"\n",
        "files = {'file': (output_file, open(output_file, 'rb'), 'text/html', {'Expires': '0'})}\n",
        "file_url = requests.post(upload_url, files = files).json().get(\"Key\")\n",
        "# print(file_url)\n",
        "if file_url:\n",
        "  html = f\"<strong>展示地址：</strong><a target='_blank' href='{upload_url}/{file_url}'>{upload_url}/{file_url}</a>\"\n",
        "IPython.display.HTML(html)\n"
      ],
      "metadata": {
        "colab": {
          "base_uri": "https://localhost:8080/",
          "height": 90
        },
        "id": "VYLNTt0vdDo7",
        "outputId": "3c08aff4-fb2b-4456-8fc1-903f44201849"
      },
      "execution_count": 9,
      "outputs": [
        {
          "output_type": "stream",
          "name": "stdout",
          "text": [
            "Warning: When  cdn_resources is 'local' jupyter notebook has issues displaying graphics on chrome/safari. Use cdn_resources='in_line' or cdn_resources='remote' if you have issues viewing graphics in a notebook.\n",
            "tree.html\n"
          ]
        },
        {
          "output_type": "execute_result",
          "data": {
            "text/plain": [
              "<IPython.core.display.HTML object>"
            ],
            "text/html": [
              "<strong>展示地址：</strong><a target='_blank' href='https://reaction-tree.deno.dev/reaction_output/2023094124250-qibz6x.html'>https://reaction-tree.deno.dev/reaction_output/2023094124250-qibz6x.html</a>"
            ]
          },
          "metadata": {},
          "execution_count": 9
        }
      ]
    }
  ]
}