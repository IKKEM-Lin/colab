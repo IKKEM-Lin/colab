{
  "nbformat": 4,
  "nbformat_minor": 0,
  "metadata": {
    "colab": {
      "provenance": [],
      "authorship_tag": "ABX9TyMPRQdQ82ScDFvji7vLa5G1",
      "include_colab_link": true
    },
    "kernelspec": {
      "name": "python3",
      "display_name": "Python 3"
    },
    "language_info": {
      "name": "python"
    }
  },
  "cells": [
    {
      "cell_type": "markdown",
      "metadata": {
        "id": "view-in-github",
        "colab_type": "text"
      },
      "source": [
        "<a href=\"https://colab.research.google.com/github/IKKEM-Lin/colab/blob/main/path_search_20230901.ipynb\" target=\"_parent\"><img src=\"https://colab.research.google.com/assets/colab-badge.svg\" alt=\"Open In Colab\"/></a>"
      ]
    },
    {
      "cell_type": "markdown",
      "source": [
        "# 产物路径搜索，需上传[ttl文件](https://github.com/IKKEM-Lin/colab/blob/main/gen_turtle_20230901.ipynb)"
      ],
      "metadata": {
        "id": "fUenogiTchE1"
      }
    },
    {
      "cell_type": "code",
      "execution_count": 20,
      "metadata": {
        "id": "BaEyaeYRcCHY",
        "outputId": "8895cde6-11ac-400f-ca1b-a31a563c96de",
        "colab": {
          "base_uri": "https://localhost:8080/"
        }
      },
      "outputs": [
        {
          "output_type": "stream",
          "name": "stdout",
          "text": [
            "Requirement already satisfied: rdflib in /usr/local/lib/python3.10/dist-packages (7.0.0)\n",
            "Requirement already satisfied: isodate<0.7.0,>=0.6.0 in /usr/local/lib/python3.10/dist-packages (from rdflib) (0.6.1)\n",
            "Requirement already satisfied: pyparsing<4,>=2.1.0 in /usr/local/lib/python3.10/dist-packages (from rdflib) (3.1.1)\n",
            "Requirement already satisfied: six in /usr/local/lib/python3.10/dist-packages (from isodate<0.7.0,>=0.6.0->rdflib) (1.16.0)\n",
            "Requirement already satisfied: requests in /usr/local/lib/python3.10/dist-packages (2.31.0)\n",
            "Requirement already satisfied: charset-normalizer<4,>=2 in /usr/local/lib/python3.10/dist-packages (from requests) (3.2.0)\n",
            "Requirement already satisfied: idna<4,>=2.5 in /usr/local/lib/python3.10/dist-packages (from requests) (3.4)\n",
            "Requirement already satisfied: urllib3<3,>=1.21.1 in /usr/local/lib/python3.10/dist-packages (from requests) (2.0.4)\n",
            "Requirement already satisfied: certifi>=2017.4.17 in /usr/local/lib/python3.10/dist-packages (from requests) (2023.7.22)\n",
            "Requirement already satisfied: loguru in /usr/local/lib/python3.10/dist-packages (0.7.2)\n",
            "Requirement already satisfied: pyvis in /usr/local/lib/python3.10/dist-packages (0.3.2)\n",
            "Requirement already satisfied: ipython>=5.3.0 in /usr/local/lib/python3.10/dist-packages (from pyvis) (7.34.0)\n",
            "Requirement already satisfied: jinja2>=2.9.6 in /usr/local/lib/python3.10/dist-packages (from pyvis) (3.1.2)\n",
            "Requirement already satisfied: jsonpickle>=1.4.1 in /usr/local/lib/python3.10/dist-packages (from pyvis) (3.0.2)\n",
            "Requirement already satisfied: networkx>=1.11 in /usr/local/lib/python3.10/dist-packages (from pyvis) (3.1)\n",
            "Requirement already satisfied: setuptools>=18.5 in /usr/local/lib/python3.10/dist-packages (from ipython>=5.3.0->pyvis) (67.7.2)\n",
            "Requirement already satisfied: jedi>=0.16 in /usr/local/lib/python3.10/dist-packages (from ipython>=5.3.0->pyvis) (0.19.0)\n",
            "Requirement already satisfied: decorator in /usr/local/lib/python3.10/dist-packages (from ipython>=5.3.0->pyvis) (4.4.2)\n",
            "Requirement already satisfied: pickleshare in /usr/local/lib/python3.10/dist-packages (from ipython>=5.3.0->pyvis) (0.7.5)\n",
            "Requirement already satisfied: traitlets>=4.2 in /usr/local/lib/python3.10/dist-packages (from ipython>=5.3.0->pyvis) (5.7.1)\n",
            "Requirement already satisfied: prompt-toolkit!=3.0.0,!=3.0.1,<3.1.0,>=2.0.0 in /usr/local/lib/python3.10/dist-packages (from ipython>=5.3.0->pyvis) (3.0.39)\n",
            "Requirement already satisfied: pygments in /usr/local/lib/python3.10/dist-packages (from ipython>=5.3.0->pyvis) (2.16.1)\n",
            "Requirement already satisfied: backcall in /usr/local/lib/python3.10/dist-packages (from ipython>=5.3.0->pyvis) (0.2.0)\n",
            "Requirement already satisfied: matplotlib-inline in /usr/local/lib/python3.10/dist-packages (from ipython>=5.3.0->pyvis) (0.1.6)\n",
            "Requirement already satisfied: pexpect>4.3 in /usr/local/lib/python3.10/dist-packages (from ipython>=5.3.0->pyvis) (4.8.0)\n",
            "Requirement already satisfied: MarkupSafe>=2.0 in /usr/local/lib/python3.10/dist-packages (from jinja2>=2.9.6->pyvis) (2.1.3)\n",
            "Requirement already satisfied: parso<0.9.0,>=0.8.3 in /usr/local/lib/python3.10/dist-packages (from jedi>=0.16->ipython>=5.3.0->pyvis) (0.8.3)\n",
            "Requirement already satisfied: ptyprocess>=0.5 in /usr/local/lib/python3.10/dist-packages (from pexpect>4.3->ipython>=5.3.0->pyvis) (0.7.0)\n",
            "Requirement already satisfied: wcwidth in /usr/local/lib/python3.10/dist-packages (from prompt-toolkit!=3.0.0,!=3.0.1,<3.1.0,>=2.0.0->ipython>=5.3.0->pyvis) (0.2.6)\n"
          ]
        }
      ],
      "source": [
        "# install dependencies\n",
        "! pip install rdflib\n",
        "! pip install requests\n",
        "! pip install loguru\n",
        "!pip install pyvis\n",
        "\n",
        "from pyvis.network import Network\n",
        "\n",
        "from rdflib import Namespace, Literal, URIRef, Graph\n",
        "import requests\n",
        "from loguru import logger\n",
        "\n",
        "import copy\n",
        "import json\n",
        "import uuid\n",
        "import collections\n",
        "import hashlib\n",
        "import os\n",
        "import re"
      ]
    },
    {
      "cell_type": "markdown",
      "source": [
        "### 1. 公共函数，用于统一化合物的名称，https://pubchem.deno.dev 会缓存所请求的数据"
      ],
      "metadata": {
        "id": "xwcI6YNjvoxb"
      }
    },
    {
      "cell_type": "code",
      "source": [
        "# common function\n",
        "\n",
        "def get_IUPAC_name_final(name, mapping_dict):\n",
        "    try:\n",
        "        r = requests.get(f\"https://pubchem.deno.dev/iupac?name={name}\")\n",
        "        result = json.loads(r.text)\n",
        "        if result.get(\"data\"):\n",
        "            return result.get(\"data\") or name\n",
        "    except:\n",
        "        return name\n",
        "\n",
        "def get_spieces_class_operations(key, mapping_dict, IUPAC_name = \"\"):\n",
        "    def get_md5(name):\n",
        "        return hashlib.md5(name.encode(\"UTF-8\")).hexdigest()\n",
        "\n",
        "    def get_CHEBI_ID(name):\n",
        "        try:\n",
        "            r = requests.get(f\"https://pubchem.deno.dev/chebi?name={name}\")\n",
        "            result = json.loads(r.text)\n",
        "            if result.get(\"data\"):\n",
        "                return result.get(\"data\") or name\n",
        "        except:\n",
        "            return name\n",
        "\n",
        "    if not IUPAC_name:\n",
        "        IUPAC_name = get_IUPAC_name_final(key, mapping_dict)\n",
        "    name_list = IUPAC_name.split(\";\")\n",
        "    name = name_list[0] if name_list else \"\"\n",
        "    tag = get_CHEBI_ID(name)\n",
        "    if \"CHEBI\" in tag:\n",
        "        re_tag = ''.join(re.findall(\"(CHEBI_\\d+)\", tag))\n",
        "        return re_tag, URIRef(\"obo:\" + re_tag)\n",
        "    else:\n",
        "        id_str = get_md5(IUPAC_name)\n",
        "        return id_str, URIRef(\"spi:\"+\"{}\".format(id_str))\n",
        "\n",
        "\n",
        "def get_spieces(name):\n",
        "  # 拿到name对应的ID\n",
        "  id_str, URI = get_spieces_class_operations(name, {})\n",
        "  if \"CHEBI\" in id_str:\n",
        "    return URIRef(\"obo:{}\".format(id_str))\n",
        "  else:\n",
        "    return URIRef(\"spi:{}\".format(id_str))"
      ],
      "metadata": {
        "id": "mPZb6tfLvnw9"
      },
      "execution_count": 21,
      "outputs": []
    },
    {
      "cell_type": "markdown",
      "source": [
        "### 2. 读取ttl文件"
      ],
      "metadata": {
        "id": "WPiEjPxawAut"
      }
    },
    {
      "cell_type": "code",
      "source": [
        "sparql_prefix =  \"SELECT * WHERE {{ \\n\" \\\n",
        "            \"\\t{expression}\\n\"\\\n",
        "          \"}}\\n\"\n",
        "\n",
        "substance_only_product = [\"CO\", \"H2\", \"syngas\", \"H2O\", \"CO2\", \"Carbon Dioxide\", \"Carbon Monoxide\"]\n",
        "substance_only_product = list(map(lambda x: get_spieces(x), substance_only_product))\n",
        "\n",
        "rg = Graph()\n",
        "rg.parse(\"./10000.ttl\", format='turtle')\n"
      ],
      "metadata": {
        "colab": {
          "base_uri": "https://localhost:8080/"
        },
        "id": "IdlaJakKdHru",
        "outputId": "4d1d87e8-6433-435b-fbb6-dcd62302b819"
      },
      "execution_count": 22,
      "outputs": [
        {
          "output_type": "execute_result",
          "data": {
            "text/plain": [
              "<Graph identifier=Nf84da9eee617401a9958ba56b3ff66e5 (<class 'rdflib.graph.Graph'>)>"
            ]
          },
          "metadata": {},
          "execution_count": 22
        }
      ]
    },
    {
      "cell_type": "markdown",
      "source": [
        "### 3.定义查询的公共函数"
      ],
      "metadata": {
        "id": "F6b788KnQVrf"
      }
    },
    {
      "cell_type": "code",
      "source": [
        "print(len(rg), substance_only_product)\n",
        "def gen_query(pred, obj):\n",
        "  return f\"?val <{pred}> <{obj}> .\"\n",
        "\n",
        "def find_reactions_from_product(produce):\n",
        "  query = sparql_prefix.format(expression = gen_query('react:has_product', produce))\n",
        "  result = rg.query(query)\n",
        "  return map(lambda x: x.val, result)\n",
        "\n",
        "def find_reactants_from_reaction(reaction):\n",
        "  query = sparql_prefix.format(expression = gen_query('spi:is_reactant_of', reaction))\n",
        "  # print(query)\n",
        "  result = rg.query(query)\n",
        "  return map(lambda x: x.val, result)\n",
        "\n",
        "def get_products_from_reaction(reaction):\n",
        "  query = sparql_prefix.format(expression = gen_query('spi:is_product_of', reaction))\n",
        "  result = rg.query(query)\n",
        "  return map(lambda x: x.val, result)\n",
        "\n",
        "def is_reaction(node):\n",
        "  return \"react:\" in str(node)\n",
        "\n",
        "def get_substance_name(substance):\n",
        "  obo = substance\n",
        "  if is_reaction(obo):\n",
        "    return substance\n",
        "  if not isinstance(substance, URIRef):\n",
        "    obo = URIRef(obo)\n",
        "  query = sparql_prefix.format(expression = f\"\"\"\n",
        "    <{obo}> <spi:has_IUPAC_name> ?IUPAC_name.\n",
        "    OPTIONAL {{<{obo}> <spi:has_name> ?name}}\n",
        "    OPTIONAL {{<{obo}> <spi:has_formula> ?formula}}\n",
        "  \"\"\") + \"LIMIT 5\"\n",
        "  result = rg.query(query)\n",
        "  result = list(map(lambda x: str(x.formula or x.name), result))\n",
        "  return result and result[0] or substance\n",
        "\n",
        "def add_keys_to_dict(keys, dict = {}):\n",
        "  for key in keys:\n",
        "    dict[key] = {}\n",
        "  return dict\n",
        "\n",
        "# str(list(find_reactions_from_product(\"obo:CHEBI_17790\"))[0])"
      ],
      "metadata": {
        "colab": {
          "base_uri": "https://localhost:8080/"
        },
        "id": "f5wzffJJuR38",
        "outputId": "21728e80-fb11-4872-b604-56ddc370993b"
      },
      "execution_count": 23,
      "outputs": [
        {
          "output_type": "stream",
          "name": "stdout",
          "text": [
            "508271 [rdflib.term.URIRef('spi:a6b3f1c744304a3ee2ec20446f690f45'), rdflib.term.URIRef('obo:CHEBI_33608'), rdflib.term.URIRef('spi:a68a857ab0e54f5e63adea6b0bde9b44'), rdflib.term.URIRef('obo:CHEBI_15377'), rdflib.term.URIRef('spi:05f338756c3795e0fe583df923cd6a65'), rdflib.term.URIRef('obo:CHEBI_16526'), rdflib.term.URIRef('obo:CHEBI_17245')]\n"
          ]
        }
      ]
    },
    {
      "cell_type": "markdown",
      "source": [
        "### 4. 反应聚类"
      ],
      "metadata": {
        "id": "FMUdQCKPIoeh"
      }
    },
    {
      "cell_type": "code",
      "source": [
        "reaction_group = {}\n",
        "def get_all_reaction():\n",
        "  query = sparql_prefix.format(expression = f\"?val <react:id> ?obj\")\n",
        "  result = rg.query(query)\n",
        "  return map(lambda x: x.val, result)\n",
        "\n",
        "def get_reaction_uniq_key(reaction):\n",
        "  reactants = sorted(map(lambda x: str(x), find_reactants_from_reaction(reaction)))\n",
        "  products = sorted(map(lambda x: str(x), get_products_from_reaction(reaction)))\n",
        "  key = \",\".join(reactants) + \";\" + \",\".join(products)\n",
        "  return key\n",
        "\n",
        "all_reactions = list(get_all_reaction())\n",
        "print(len(all_reactions))\n",
        "for reaction in all_reactions:\n",
        "  key = get_reaction_uniq_key(reaction)\n",
        "  if reaction_group.get(key):\n",
        "    reaction_group.get(key).append(reaction)\n",
        "  else:\n",
        "    reaction_group[key] = [reaction]\n",
        "\n",
        "print(len(reaction_group.keys()))"
      ],
      "metadata": {
        "colab": {
          "base_uri": "https://localhost:8080/"
        },
        "id": "_W6x62zsDeLJ",
        "outputId": "a2f9d71f-7821-4476-db82-22c7738c9daa"
      },
      "execution_count": 24,
      "outputs": [
        {
          "output_type": "stream",
          "name": "stdout",
          "text": [
            "8264\n",
            "3255\n"
          ]
        }
      ]
    },
    {
      "cell_type": "markdown",
      "source": [
        "### 5.定义路径搜索函数"
      ],
      "metadata": {
        "id": "95McymxKQmvm"
      }
    },
    {
      "cell_type": "code",
      "source": [
        "def search_one(name, max_steps=2):\n",
        "  query_str = get_spieces(name)\n",
        "  if query_str in substance_only_product:\n",
        "    return [[query_str]]\n",
        "  duplicated_reactions = [];\n",
        "  res_path = [[query_str]]\n",
        "  logger.info(query_str) #################\n",
        "  result_hash = \"\"\n",
        "  condition = lambda path: (len(path) < max_steps*2 and path[-1] not in substance_only_product)\n",
        "  # print(res_path)\n",
        "  path_handled_cache = []\n",
        "  count = 0\n",
        "  while any(map(condition ,res_path)):\n",
        "    new_res_paths = []\n",
        "    wait_process_paths = []\n",
        "    for path in res_path:\n",
        "      if condition(path):\n",
        "        wait_process_paths.append(path)\n",
        "      else:\n",
        "        new_res_paths.append(path)\n",
        "    for path in wait_process_paths:\n",
        "      # print(path, is_reaction(path[-1])) #################\n",
        "      if path in path_handled_cache:\n",
        "        new_res_paths.append(path)\n",
        "        continue\n",
        "      if is_reaction(path[-1]):\n",
        "        # 处理反应\n",
        "        temp_reactants = list(find_reactants_from_reaction(path[-1]))\n",
        "        substant_in_previous = any([item in path for item in temp_reactants])\n",
        "        if substant_in_previous:\n",
        "          # end with reaction, need to cut off finally\n",
        "          new_res_paths.append(path)\n",
        "          path_handled_cache.append(path)\n",
        "        else:\n",
        "          new_res_paths.extend([path[:] + ([reactant]) for reactant in temp_reactants])\n",
        "      else:\n",
        "        # 处理物质\n",
        "        temp_reactions = list(find_reactions_from_product(path[-1]))\n",
        "        temp_wait_process_reactions = [reaction for reaction in temp_reactions if (reaction not in path and reaction not in duplicated_reactions)]\n",
        "        if not temp_wait_process_reactions:\n",
        "          new_res_paths.append(path)\n",
        "          path_handled_cache.append(path)\n",
        "          continue\n",
        "        for reaction in temp_wait_process_reactions:\n",
        "          if reaction in duplicated_reactions:\n",
        "            continue\n",
        "          reaction_key = get_reaction_uniq_key(reaction)\n",
        "          reaction_match = reaction_group.get(reaction_key, [reaction])\n",
        "          # print(\"reaction_match\", reaction_match)\n",
        "          new_res_paths.append(path[:] + ([reaction]))\n",
        "          # 处理重复反应\n",
        "          duplicated_reactions.extend(reaction_match)\n",
        "    res_path = new_res_paths[:]\n",
        "    new_hash = hash(str(res_path))\n",
        "    count = count + 1\n",
        "    print(count, new_hash, len(res_path)) #################\n",
        "    if new_hash == result_hash:\n",
        "      break\n",
        "    else:\n",
        "      result_hash = new_hash\n",
        "  return res_path"
      ],
      "metadata": {
        "id": "w5_mS1TSdO0d"
      },
      "execution_count": 25,
      "outputs": []
    },
    {
      "cell_type": "markdown",
      "source": [
        "### 6. 测试并打印结果"
      ],
      "metadata": {
        "id": "sGurdSZURmO7"
      }
    },
    {
      "cell_type": "code",
      "source": [
        "paths = search_one(\"Butane\", 4)\n",
        "\n",
        "print(\"----------------- Result ------------------------\", len(paths))\n",
        "result = {}\n",
        "for path in paths:\n",
        "  temp = result\n",
        "  for key in path[:-1]:\n",
        "    if key not in temp:\n",
        "      temp[key] = {}\n",
        "    temp = temp[key]\n",
        "\n",
        "  last_key = path[-1]\n",
        "  if last_key not in temp:\n",
        "    temp[last_key] = {}\n",
        "\n",
        "def print_dict(d, indent=0):\n",
        "    for key, value in d.items():\n",
        "        print('  ' * indent + str(get_substance_name(key)))\n",
        "        if isinstance(value, dict):\n",
        "            print_dict(value, indent+2)\n",
        "# print_dict(result)"
      ],
      "metadata": {
        "colab": {
          "base_uri": "https://localhost:8080/"
        },
        "id": "xhil1P6odRdk",
        "outputId": "05be96b1-2471-4609-b514-6816bfdf2976"
      },
      "execution_count": 28,
      "outputs": [
        {
          "output_type": "stream",
          "name": "stderr",
          "text": [
            "\u001b[32m2023-09-16 00:52:22.164\u001b[0m | \u001b[1mINFO    \u001b[0m | \u001b[36m__main__\u001b[0m:\u001b[36msearch_one\u001b[0m:\u001b[36m7\u001b[0m - \u001b[1mobo:CHEBI_37808\u001b[0m\n"
          ]
        },
        {
          "output_type": "stream",
          "name": "stdout",
          "text": [
            "1 -8304707064572476474 20\n",
            "2 -1570976654211278449 34\n",
            "3 274574934784807317 229\n",
            "4 7746296649417788691 328\n",
            "5 -4362271681398093635 962\n",
            "6 4722737169462819330 1314\n",
            "7 -4196988408362479118 1601\n",
            "8 -9049392711047467272 1601\n",
            "9 -9049392711047467272 1601\n",
            "----------------- Result ------------------------ 1601\n"
          ]
        }
      ]
    },
    {
      "cell_type": "markdown",
      "source": [
        "### 7. 可视化构建"
      ],
      "metadata": {
        "id": "0RrqJvfLRrIm"
      }
    },
    {
      "cell_type": "code",
      "source": [
        "output_file = \"tree.html\"\n",
        "option = {\n",
        "    \"hierarchical\": False,\n",
        "    \"substance_same_node\": False\n",
        "}\n",
        "\n",
        "data = result\n",
        "net = Network(height=\"90vh\", width=\"100%\", notebook=True, layout= option.get(\"hierarchical\") and {\"direction\": \"LR\"} or None )\n",
        "colors = [\"#CC9900\", \"#999900\", \"#669900\", \"#339900\", \"009900\"]\n",
        "\n",
        "def add_node(net, node_id, label, parent=None, level = 0):\n",
        "    node_color = \"#0099CC\"\n",
        "    if level % 2 == 1:\n",
        "      node_color = colors[level // 2]\n",
        "    net.add_node(node_id, label=label, color=node_color, size=parent and 25 or 40)\n",
        "    if parent:\n",
        "        net.add_edge(parent, node_id)\n",
        "\n",
        "def build_tree(net, data, parent=None, level = 0):\n",
        "    count = 0\n",
        "    for key, value in data.items():\n",
        "        count += 1\n",
        "        node_id = option.get(\"substance_same_node\") and key or ((parent or \"\") + key + str(count))\n",
        "        add_node(net, node_id, get_substance_name(key), parent, level)\n",
        "        if isinstance(value, dict):\n",
        "            new_level = level + 1\n",
        "            build_tree(net, value, parent=node_id, level = new_level)\n",
        "\n",
        "build_tree(net, data)\n",
        "net.show(output_file)\n",
        "\n",
        "with open(output_file) as f:\n",
        "    content = f.read()\n",
        "\n",
        "content = re.sub(r'<center>|</center>', '', content)\n",
        "\n",
        "# 下面操作将层次图由上下结构改为左右，注释可恢复，可参考：https://ame.cool/pages/84ec1c/#%E9%85%8D%E7%BD%AE%E9%A1%B9%E8%AF%A6%E6%83%85\n",
        "if option.get(\"hierarchical\"):\n",
        "  content = re.sub(r'\"hierarchical\": {', '\"hierarchical\": { direction: \"LR\",', content)\n",
        "\n",
        "with open(output_file, 'w') as f:\n",
        "    f.write(content)\n",
        "\n",
        "\n",
        "# 上传展示\n",
        "import IPython\n",
        "upload_url = \"https://reaction-tree.deno.dev\"\n",
        "files = {'file': (output_file, open(output_file, 'rb'), 'text/html', {'Expires': '0'})}\n",
        "file_url = requests.post(upload_url, files = files).json().get(\"Key\")\n",
        "# print(file_url)\n",
        "if file_url:\n",
        "  html = f\"<strong>展示地址：</strong><a target='_blank' href='{upload_url}/{file_url}'>{upload_url}/{file_url}</a>\"\n",
        "IPython.display.HTML(html)\n"
      ],
      "metadata": {
        "colab": {
          "base_uri": "https://localhost:8080/",
          "height": 90
        },
        "id": "VYLNTt0vdDo7",
        "outputId": "3c08aff4-fb2b-4456-8fc1-903f44201849"
      },
      "execution_count": null,
      "outputs": [
        {
          "output_type": "stream",
          "name": "stdout",
          "text": [
            "Warning: When  cdn_resources is 'local' jupyter notebook has issues displaying graphics on chrome/safari. Use cdn_resources='in_line' or cdn_resources='remote' if you have issues viewing graphics in a notebook.\n",
            "tree.html\n"
          ]
        },
        {
          "output_type": "execute_result",
          "data": {
            "text/plain": [
              "<IPython.core.display.HTML object>"
            ],
            "text/html": [
              "<strong>展示地址：</strong><a target='_blank' href='https://reaction-tree.deno.dev/reaction_output/2023094124250-qibz6x.html'>https://reaction-tree.deno.dev/reaction_output/2023094124250-qibz6x.html</a>"
            ]
          },
          "metadata": {},
          "execution_count": 9
        }
      ]
    }
  ]
}