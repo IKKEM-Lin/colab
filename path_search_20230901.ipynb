{
  "nbformat": 4,
  "nbformat_minor": 0,
  "metadata": {
    "colab": {
      "provenance": [],
      "authorship_tag": "ABX9TyOhNiApg+eGWWHLMyzOAas+",
      "include_colab_link": true
    },
    "kernelspec": {
      "name": "python3",
      "display_name": "Python 3"
    },
    "language_info": {
      "name": "python"
    }
  },
  "cells": [
    {
      "cell_type": "markdown",
      "metadata": {
        "id": "view-in-github",
        "colab_type": "text"
      },
      "source": [
        "<a href=\"https://colab.research.google.com/github/IKKEM-Lin/colab/blob/main/path_search_20230901.ipynb\" target=\"_parent\"><img src=\"https://colab.research.google.com/assets/colab-badge.svg\" alt=\"Open In Colab\"/></a>"
      ]
    },
    {
      "cell_type": "markdown",
      "source": [
        "# 产物路径搜索，需上传[ttl文件](https://github.com/IKKEM-Lin/colab/blob/main/gen_turtle_20230901.ipynb)"
      ],
      "metadata": {
        "id": "fUenogiTchE1"
      }
    },
    {
      "cell_type": "code",
      "execution_count": 1,
      "metadata": {
        "colab": {
          "base_uri": "https://localhost:8080/"
        },
        "id": "BaEyaeYRcCHY",
        "outputId": "9c4a1c47-5273-4dc9-ac9a-5ae51a522437"
      },
      "outputs": [
        {
          "output_type": "stream",
          "name": "stdout",
          "text": [
            "Collecting rdflib\n",
            "  Downloading rdflib-7.0.0-py3-none-any.whl (531 kB)\n",
            "\u001b[2K     \u001b[90m━━━━━━━━━━━━━━━━━━━━━━━━━━━━━━━━━━━━━━━\u001b[0m \u001b[32m531.9/531.9 kB\u001b[0m \u001b[31m5.0 MB/s\u001b[0m eta \u001b[36m0:00:00\u001b[0m\n",
            "\u001b[?25hCollecting isodate<0.7.0,>=0.6.0 (from rdflib)\n",
            "  Downloading isodate-0.6.1-py2.py3-none-any.whl (41 kB)\n",
            "\u001b[2K     \u001b[90m━━━━━━━━━━━━━━━━━━━━━━━━━━━━━━━━━━━━━━━━\u001b[0m \u001b[32m41.7/41.7 kB\u001b[0m \u001b[31m2.1 MB/s\u001b[0m eta \u001b[36m0:00:00\u001b[0m\n",
            "\u001b[?25hRequirement already satisfied: pyparsing<4,>=2.1.0 in /usr/local/lib/python3.10/dist-packages (from rdflib) (3.1.1)\n",
            "Requirement already satisfied: six in /usr/local/lib/python3.10/dist-packages (from isodate<0.7.0,>=0.6.0->rdflib) (1.16.0)\n",
            "Installing collected packages: isodate, rdflib\n",
            "Successfully installed isodate-0.6.1 rdflib-7.0.0\n",
            "Requirement already satisfied: requests in /usr/local/lib/python3.10/dist-packages (2.31.0)\n",
            "Requirement already satisfied: charset-normalizer<4,>=2 in /usr/local/lib/python3.10/dist-packages (from requests) (3.2.0)\n",
            "Requirement already satisfied: idna<4,>=2.5 in /usr/local/lib/python3.10/dist-packages (from requests) (3.4)\n",
            "Requirement already satisfied: urllib3<3,>=1.21.1 in /usr/local/lib/python3.10/dist-packages (from requests) (2.0.4)\n",
            "Requirement already satisfied: certifi>=2017.4.17 in /usr/local/lib/python3.10/dist-packages (from requests) (2023.7.22)\n",
            "Collecting loguru\n",
            "  Downloading loguru-0.7.0-py3-none-any.whl (59 kB)\n",
            "\u001b[2K     \u001b[90m━━━━━━━━━━━━━━━━━━━━━━━━━━━━━━━━━━━━━━━━\u001b[0m \u001b[32m60.0/60.0 kB\u001b[0m \u001b[31m1.2 MB/s\u001b[0m eta \u001b[36m0:00:00\u001b[0m\n",
            "\u001b[?25hInstalling collected packages: loguru\n",
            "Successfully installed loguru-0.7.0\n"
          ]
        }
      ],
      "source": [
        "# install dependencies\n",
        "! pip install rdflib\n",
        "! pip install requests\n",
        "! pip install loguru\n",
        "\n",
        "from rdflib import Namespace, Literal, URIRef, Graph\n",
        "import requests\n",
        "from loguru import logger\n",
        "\n",
        "import copy\n",
        "import json\n",
        "import uuid\n",
        "import collections\n",
        "import hashlib\n",
        "import os\n",
        "import re"
      ]
    },
    {
      "cell_type": "markdown",
      "source": [
        "### 1. 公共函数，用于统一化合物的名称，https://pubchem.deno.dev 会缓存所请求的数据"
      ],
      "metadata": {
        "id": "xwcI6YNjvoxb"
      }
    },
    {
      "cell_type": "code",
      "source": [
        "# common function\n",
        "\n",
        "def get_IUPAC_name_final(name, mapping_dict):\n",
        "    try:\n",
        "        r = requests.get(f\"https://pubchem.deno.dev/iupac?name={name}\")\n",
        "        result = json.loads(r.text)\n",
        "        if result.get(\"data\"):\n",
        "            return result.get(\"data\") or name\n",
        "    except:\n",
        "        return name\n",
        "\n",
        "def get_spieces_class_operations(key, mapping_dict, IUPAC_name = \"\"):\n",
        "    def get_md5(name):\n",
        "        return hashlib.md5(name.encode(\"UTF-8\")).hexdigest()\n",
        "\n",
        "    def get_CHEBI_ID(name):\n",
        "        try:\n",
        "            r = requests.get(f\"https://pubchem.deno.dev/chebi?name={name}\")\n",
        "            result = json.loads(r.text)\n",
        "            if result.get(\"data\"):\n",
        "                return result.get(\"data\") or name\n",
        "        except:\n",
        "            return name\n",
        "\n",
        "    if not IUPAC_name:\n",
        "        IUPAC_name = get_IUPAC_name_final(key, mapping_dict)\n",
        "    name_list = IUPAC_name.split(\";\")\n",
        "    name = name_list[0] if name_list else \"\"\n",
        "    tag = get_CHEBI_ID(name)\n",
        "    if \"CHEBI\" in tag:\n",
        "        re_tag = ''.join(re.findall(\"(CHEBI_\\d+)\", tag))\n",
        "        return re_tag, URIRef(\"obo:\" + re_tag)\n",
        "    else:\n",
        "        id_str = get_md5(IUPAC_name)\n",
        "        return id_str, URIRef(\"spi:\"+\"{}\".format(id_str))"
      ],
      "metadata": {
        "id": "mPZb6tfLvnw9"
      },
      "execution_count": 4,
      "outputs": []
    },
    {
      "cell_type": "markdown",
      "source": [
        "### 2. 读取ttl文件"
      ],
      "metadata": {
        "id": "WPiEjPxawAut"
      }
    },
    {
      "cell_type": "code",
      "source": [
        "sparql_prefix =  \"SELECT * WHERE {{ \\n\" \\\n",
        "            \"\\t{expression}\\n\"\\\n",
        "          \"}}\\n\"\n",
        "\n",
        "rg = Graph()\n",
        "rg.parse(\"./tripple.ttl\", format='turtle')\n"
      ],
      "metadata": {
        "colab": {
          "base_uri": "https://localhost:8080/"
        },
        "id": "IdlaJakKdHru",
        "outputId": "52fc6000-734e-46c9-905e-dca5490cff25"
      },
      "execution_count": 9,
      "outputs": [
        {
          "output_type": "execute_result",
          "data": {
            "text/plain": [
              "<Graph identifier=Nbadc42a2bb8a41d19563605b206058cb (<class 'rdflib.graph.Graph'>)>"
            ]
          },
          "metadata": {},
          "execution_count": 9
        }
      ]
    },
    {
      "cell_type": "code",
      "source": [
        "print(len(rg))\n",
        "def gen_query(pred, obj):\n",
        "  return f\"?val <{pred}> <{obj}> .\"\n",
        "\n",
        "def find_reactions_from_product(produce):\n",
        "  query = sparql_prefix.format(expression = gen_query('react:has_product', produce))\n",
        "  result = rg.query(query)\n",
        "  return map(lambda x: x.val, result)\n",
        "\n",
        "def find_reactants_from_reaction(reaction):\n",
        "  query = sparql_prefix.format(expression = gen_query('spi:is_reactant_of', reaction))\n",
        "  result = rg.query(query)\n",
        "  return map(lambda x: x.val, result)\n",
        "\n",
        "def get_products_from_reaction(reaction):\n",
        "  query = sparql_prefix.format(expression = gen_query('spi:is_product_of', reaction))\n",
        "  result = rg.query(query)\n",
        "  return map(lambda x: x.val, result)\n",
        "\n",
        "def is_reaction(node):\n",
        "  return \"react:\" in str(node)\n",
        "\n",
        "# str(list(find_reactions_from_product(\"obo:CHEBI_17790\"))[0])"
      ],
      "metadata": {
        "colab": {
          "base_uri": "https://localhost:8080/"
        },
        "id": "f5wzffJJuR38",
        "outputId": "fa39ddfd-a2a7-407c-fdb2-9c4f461d9a21"
      },
      "execution_count": 26,
      "outputs": [
        {
          "output_type": "stream",
          "name": "stdout",
          "text": [
            "52637\n"
          ]
        }
      ]
    },
    {
      "cell_type": "code",
      "source": [
        "def search_one(name, max_steps=3):\n",
        "  def get_spieces(name):\n",
        "    # 拿到name对应的ID\n",
        "    id_str, URI = get_spieces_class_operations(name, {})\n",
        "    if \"CHEBI\" in id_str:\n",
        "      return URIRef(\"obo:{}\".format(id_str))\n",
        "    else:\n",
        "      return URIRef(\"spi:{}\".format(id_str))\n",
        "  query_str = get_spieces(name)\n",
        "  duplicated_reactions = list(find_reactions_from_product(query_str));\n",
        "  res_path = list(map(lambda x: [query_str, x], find_reactions_from_product(query_str)))\n",
        "  logger.info(query_str) #################\n",
        "  result_hash = \"\"\n",
        "  condition = lambda path: len(path) < max_steps*2\n",
        "  while any(map(condition ,res_path)):\n",
        "    new_res_paths = []\n",
        "    wait_process_paths = []\n",
        "    for path in res_path:\n",
        "      if condition(path):\n",
        "        wait_process_paths.append(path)\n",
        "      else:\n",
        "        new_res_paths.append(path)\n",
        "    for path in wait_process_paths:\n",
        "      # print(path, is_reaction(path[-1])) #################\n",
        "      if is_reaction(path[-1]):\n",
        "        temp_reactants = list(find_reactants_from_reaction(path[-1]))\n",
        "        substant_in_previous = any([item in path for item in temp_reactants])\n",
        "        if substant_in_previous:\n",
        "          # end with reaction, need to cut off finally\n",
        "          new_res_paths.append(path)\n",
        "        else:\n",
        "          new_res_paths.extend([path[:] + ([reactant]) for reactant in temp_reactants])\n",
        "      else:\n",
        "        temp_reactions = list(find_reactions_from_product(path[-1]))\n",
        "        temp_wait_process_reactions = [reaction for reaction in temp_reactions if (reaction not in path and reaction not in duplicated_reactions)]\n",
        "        # print(\"temp_reactions\", temp_reactions, path[-1]) #################\n",
        "        if not temp_wait_process_reactions:\n",
        "          new_res_paths.append(path)\n",
        "          continue\n",
        "        new_res_paths.extend([path[:] + ([reaction]) for reaction in temp_wait_process_reactions])\n",
        "        duplicated_reactions.extend(temp_wait_process_reactions)\n",
        "    res_path = new_res_paths[:]\n",
        "    new_hash = hash(str(res_path))\n",
        "    # print(res_path, new_hash) #################\n",
        "    if new_hash == result_hash:\n",
        "      break\n",
        "    else:\n",
        "      result_hash = new_hash\n",
        "  return res_path"
      ],
      "metadata": {
        "id": "w5_mS1TSdO0d"
      },
      "execution_count": 27,
      "outputs": []
    },
    {
      "cell_type": "code",
      "source": [
        "paths = search_one(\"carbon dioxide\")\n",
        "\n",
        "print(\"----------------- Result ------------------------\")\n",
        "for path in paths:\n",
        "  print(path)"
      ],
      "metadata": {
        "colab": {
          "base_uri": "https://localhost:8080/"
        },
        "id": "xhil1P6odRdk",
        "outputId": "8ca39327-a61f-4b9c-f794-fc4cfee6a151"
      },
      "execution_count": 28,
      "outputs": [
        {
          "output_type": "stream",
          "name": "stderr",
          "text": [
            "\u001b[32m2023-09-01 03:49:37.257\u001b[0m | \u001b[1mINFO    \u001b[0m | \u001b[36m__main__\u001b[0m:\u001b[36msearch_one\u001b[0m:\u001b[36m12\u001b[0m - \u001b[1mobo:CHEBI_16526\u001b[0m\n"
          ]
        },
        {
          "output_type": "stream",
          "name": "stdout",
          "text": [
            "----------------- Result ------------------------\n",
            "[rdflib.term.URIRef('obo:CHEBI_16526'), rdflib.term.URIRef('react:42_162_250'), rdflib.term.URIRef('obo:CHEBI_16183'), rdflib.term.URIRef('react:18_107_207'), rdflib.term.URIRef('spi:05f338756c3795e0fe583df923cd6a65'), rdflib.term.URIRef('react:201_883_715')]\n",
            "[rdflib.term.URIRef('obo:CHEBI_16526'), rdflib.term.URIRef('react:42_162_250'), rdflib.term.URIRef('obo:CHEBI_16183'), rdflib.term.URIRef('react:18_107_207'), rdflib.term.URIRef('spi:05f338756c3795e0fe583df923cd6a65'), rdflib.term.URIRef('react:201_883_716')]\n",
            "[rdflib.term.URIRef('obo:CHEBI_16526'), rdflib.term.URIRef('react:42_162_250'), rdflib.term.URIRef('obo:CHEBI_16183'), rdflib.term.URIRef('react:51_191_278'), rdflib.term.URIRef('obo:CHEBI_42266'), rdflib.term.URIRef('react:261_1171_965')]\n",
            "[rdflib.term.URIRef('obo:CHEBI_16526'), rdflib.term.URIRef('react:42_162_250'), rdflib.term.URIRef('obo:CHEBI_16183'), rdflib.term.URIRef('react:51_191_278'), rdflib.term.URIRef('obo:CHEBI_42266'), rdflib.term.URIRef('react:268_1197_978')]\n",
            "[rdflib.term.URIRef('obo:CHEBI_16526'), rdflib.term.URIRef('react:42_162_250'), rdflib.term.URIRef('obo:CHEBI_16183'), rdflib.term.URIRef('react:51_191_278'), rdflib.term.URIRef('obo:CHEBI_42266'), rdflib.term.URIRef('react:282_1264_1040')]\n",
            "[rdflib.term.URIRef('obo:CHEBI_16526'), rdflib.term.URIRef('react:42_162_250'), rdflib.term.URIRef('obo:CHEBI_16183'), rdflib.term.URIRef('react:51_191_278'), rdflib.term.URIRef('obo:CHEBI_42266'), rdflib.term.URIRef('react:282_1264_1041')]\n",
            "[rdflib.term.URIRef('obo:CHEBI_16526'), rdflib.term.URIRef('react:42_162_250'), rdflib.term.URIRef('obo:CHEBI_16183'), rdflib.term.URIRef('react:51_191_278'), rdflib.term.URIRef('obo:CHEBI_42266'), rdflib.term.URIRef('react:291_1292_1052')]\n",
            "[rdflib.term.URIRef('obo:CHEBI_16526'), rdflib.term.URIRef('react:42_162_250'), rdflib.term.URIRef('obo:CHEBI_16183'), rdflib.term.URIRef('react:51_191_278'), rdflib.term.URIRef('obo:CHEBI_42266'), rdflib.term.URIRef('react:291_1294_1054')]\n",
            "[rdflib.term.URIRef('obo:CHEBI_16526'), rdflib.term.URIRef('react:42_162_250'), rdflib.term.URIRef('obo:CHEBI_16183'), rdflib.term.URIRef('react:51_191_278'), rdflib.term.URIRef('obo:CHEBI_42266'), rdflib.term.URIRef('react:291_1295_1056')]\n",
            "[rdflib.term.URIRef('obo:CHEBI_16526'), rdflib.term.URIRef('react:42_162_250'), rdflib.term.URIRef('obo:CHEBI_16183'), rdflib.term.URIRef('react:51_191_278'), rdflib.term.URIRef('obo:CHEBI_42266'), rdflib.term.URIRef('react:291_1296_1058')]\n",
            "[rdflib.term.URIRef('obo:CHEBI_16526'), rdflib.term.URIRef('react:42_162_250'), rdflib.term.URIRef('obo:CHEBI_16183'), rdflib.term.URIRef('react:51_191_278'), rdflib.term.URIRef('obo:CHEBI_42266'), rdflib.term.URIRef('react:291_1296_1059')]\n",
            "[rdflib.term.URIRef('obo:CHEBI_16526'), rdflib.term.URIRef('react:42_162_250'), rdflib.term.URIRef('obo:CHEBI_16183'), rdflib.term.URIRef('react:51_191_278'), rdflib.term.URIRef('obo:CHEBI_42266'), rdflib.term.URIRef('react:291_1297_1060')]\n",
            "[rdflib.term.URIRef('obo:CHEBI_16526'), rdflib.term.URIRef('react:42_162_250'), rdflib.term.URIRef('obo:CHEBI_16183'), rdflib.term.URIRef('react:51_191_278'), rdflib.term.URIRef('obo:CHEBI_42266'), rdflib.term.URIRef('react:291_1297_1061')]\n",
            "[rdflib.term.URIRef('obo:CHEBI_16526'), rdflib.term.URIRef('react:42_162_250'), rdflib.term.URIRef('obo:CHEBI_16183'), rdflib.term.URIRef('react:51_191_278'), rdflib.term.URIRef('obo:CHEBI_42266'), rdflib.term.URIRef('react:291_1300_1062')]\n",
            "[rdflib.term.URIRef('obo:CHEBI_16526'), rdflib.term.URIRef('react:42_162_250'), rdflib.term.URIRef('obo:CHEBI_16183'), rdflib.term.URIRef('react:51_191_278'), rdflib.term.URIRef('obo:CHEBI_42266'), rdflib.term.URIRef('react:291_1301_1064')]\n",
            "[rdflib.term.URIRef('obo:CHEBI_16526'), rdflib.term.URIRef('react:42_162_250'), rdflib.term.URIRef('obo:CHEBI_16183'), rdflib.term.URIRef('react:58_222_307'), rdflib.term.URIRef('spi:a6b3f1c744304a3ee2ec20446f690f45'), rdflib.term.URIRef('react:13_77_188')]\n",
            "[rdflib.term.URIRef('obo:CHEBI_16526'), rdflib.term.URIRef('react:42_162_250'), rdflib.term.URIRef('obo:CHEBI_16183'), rdflib.term.URIRef('react:58_222_307'), rdflib.term.URIRef('spi:a6b3f1c744304a3ee2ec20446f690f45'), rdflib.term.URIRef('react:13_78_189')]\n",
            "[rdflib.term.URIRef('obo:CHEBI_16526'), rdflib.term.URIRef('react:42_162_250'), rdflib.term.URIRef('obo:CHEBI_16183'), rdflib.term.URIRef('react:58_222_307'), rdflib.term.URIRef('spi:a6b3f1c744304a3ee2ec20446f690f45'), rdflib.term.URIRef('react:18_107_208')]\n",
            "[rdflib.term.URIRef('obo:CHEBI_16526'), rdflib.term.URIRef('react:42_162_250'), rdflib.term.URIRef('obo:CHEBI_16183'), rdflib.term.URIRef('react:58_222_307'), rdflib.term.URIRef('spi:a6b3f1c744304a3ee2ec20446f690f45'), rdflib.term.URIRef('react:157_687_610')]\n",
            "[rdflib.term.URIRef('obo:CHEBI_16526'), rdflib.term.URIRef('react:42_162_250'), rdflib.term.URIRef('obo:CHEBI_16183'), rdflib.term.URIRef('react:58_222_307'), rdflib.term.URIRef('spi:a6b3f1c744304a3ee2ec20446f690f45'), rdflib.term.URIRef('react:232_1037_836')]\n",
            "[rdflib.term.URIRef('obo:CHEBI_16526'), rdflib.term.URIRef('react:42_162_250'), rdflib.term.URIRef('obo:CHEBI_16183'), rdflib.term.URIRef('react:58_222_307'), rdflib.term.URIRef('spi:a6b3f1c744304a3ee2ec20446f690f45'), rdflib.term.URIRef('react:232_1037_837')]\n",
            "[rdflib.term.URIRef('obo:CHEBI_16526'), rdflib.term.URIRef('react:42_162_250'), rdflib.term.URIRef('obo:CHEBI_16183'), rdflib.term.URIRef('react:95_408_494'), rdflib.term.URIRef('obo:CHEBI_17754'), rdflib.term.URIRef('react:120_515_563')]\n",
            "[rdflib.term.URIRef('obo:CHEBI_16526'), rdflib.term.URIRef('react:42_162_250'), rdflib.term.URIRef('obo:CHEBI_16183'), rdflib.term.URIRef('react:95_408_494'), rdflib.term.URIRef('obo:CHEBI_17754'), rdflib.term.URIRef('react:120_517_570')]\n",
            "[rdflib.term.URIRef('obo:CHEBI_16526'), rdflib.term.URIRef('react:42_162_250'), rdflib.term.URIRef('obo:CHEBI_16183'), rdflib.term.URIRef('react:152_668_595'), rdflib.term.URIRef('obo:CHEBI_32879'), rdflib.term.URIRef('react:261_1169_961')]\n",
            "[rdflib.term.URIRef('obo:CHEBI_16526'), rdflib.term.URIRef('react:85_375_471'), rdflib.term.URIRef('obo:CHEBI_25806'), rdflib.term.URIRef('react:36_135_221'), rdflib.term.URIRef('obo:CHEBI_15377'), rdflib.term.URIRef('react:11_65_182')]\n",
            "[rdflib.term.URIRef('obo:CHEBI_16526'), rdflib.term.URIRef('react:85_375_471'), rdflib.term.URIRef('obo:CHEBI_25806'), rdflib.term.URIRef('react:36_135_221'), rdflib.term.URIRef('obo:CHEBI_15377'), rdflib.term.URIRef('react:85_377_475')]\n",
            "[rdflib.term.URIRef('obo:CHEBI_16526'), rdflib.term.URIRef('react:85_375_471'), rdflib.term.URIRef('obo:CHEBI_25806'), rdflib.term.URIRef('react:36_135_221'), rdflib.term.URIRef('obo:CHEBI_15377'), rdflib.term.URIRef('react:85_377_476')]\n",
            "[rdflib.term.URIRef('obo:CHEBI_16526'), rdflib.term.URIRef('react:85_375_471'), rdflib.term.URIRef('obo:CHEBI_25806'), rdflib.term.URIRef('react:36_135_221'), rdflib.term.URIRef('obo:CHEBI_15377'), rdflib.term.URIRef('react:103_450_515')]\n",
            "[rdflib.term.URIRef('obo:CHEBI_16526'), rdflib.term.URIRef('react:85_375_471'), rdflib.term.URIRef('obo:CHEBI_25806'), rdflib.term.URIRef('react:36_135_221'), rdflib.term.URIRef('obo:CHEBI_15377'), rdflib.term.URIRef('react:104_452_516')]\n",
            "[rdflib.term.URIRef('obo:CHEBI_16526'), rdflib.term.URIRef('react:85_375_471'), rdflib.term.URIRef('obo:CHEBI_25806'), rdflib.term.URIRef('react:36_135_221'), rdflib.term.URIRef('obo:CHEBI_15377'), rdflib.term.URIRef('react:104_453_517')]\n",
            "[rdflib.term.URIRef('obo:CHEBI_16526'), rdflib.term.URIRef('react:85_375_471'), rdflib.term.URIRef('obo:CHEBI_25806'), rdflib.term.URIRef('react:36_135_221'), rdflib.term.URIRef('obo:CHEBI_15377'), rdflib.term.URIRef('react:169_765_665')]\n",
            "[rdflib.term.URIRef('obo:CHEBI_16526'), rdflib.term.URIRef('react:85_375_471'), rdflib.term.URIRef('obo:CHEBI_33608'), rdflib.term.URIRef('react:150_661_589'), rdflib.term.URIRef('obo:CHEBI_16236'), rdflib.term.URIRef('react:45_178_275')]\n",
            "[rdflib.term.URIRef('obo:CHEBI_16526'), rdflib.term.URIRef('react:85_375_471'), rdflib.term.URIRef('obo:CHEBI_33608'), rdflib.term.URIRef('react:150_661_589'), rdflib.term.URIRef('obo:CHEBI_16236'), rdflib.term.URIRef('react:82_365_464')]\n",
            "[rdflib.term.URIRef('obo:CHEBI_16526'), rdflib.term.URIRef('react:85_375_471'), rdflib.term.URIRef('obo:CHEBI_33608'), rdflib.term.URIRef('react:150_661_589'), rdflib.term.URIRef('obo:CHEBI_16236'), rdflib.term.URIRef('react:82_365_465')]\n",
            "[rdflib.term.URIRef('obo:CHEBI_16526'), rdflib.term.URIRef('react:85_375_471'), rdflib.term.URIRef('obo:CHEBI_33608'), rdflib.term.URIRef('react:150_661_589'), rdflib.term.URIRef('obo:CHEBI_16236'), rdflib.term.URIRef('react:88_388_480')]\n",
            "[rdflib.term.URIRef('obo:CHEBI_16526'), rdflib.term.URIRef('react:85_375_471'), rdflib.term.URIRef('obo:CHEBI_33608'), rdflib.term.URIRef('react:150_661_589'), rdflib.term.URIRef('obo:CHEBI_16236'), rdflib.term.URIRef('react:195_866_704')]\n",
            "[rdflib.term.URIRef('obo:CHEBI_16526'), rdflib.term.URIRef('react:85_375_471'), rdflib.term.URIRef('obo:CHEBI_33608'), rdflib.term.URIRef('react:150_661_589'), rdflib.term.URIRef('obo:CHEBI_16236'), rdflib.term.URIRef('react:226_998_808')]\n",
            "[rdflib.term.URIRef('obo:CHEBI_16526'), rdflib.term.URIRef('react:85_375_471'), rdflib.term.URIRef('obo:CHEBI_33608'), rdflib.term.URIRef('react:150_661_589'), rdflib.term.URIRef('obo:CHEBI_16236'), rdflib.term.URIRef('react:305_1366_1116')]\n",
            "[rdflib.term.URIRef('obo:CHEBI_16526'), rdflib.term.URIRef('react:85_375_471'), rdflib.term.URIRef('obo:CHEBI_33608'), rdflib.term.URIRef('react:150_661_589'), rdflib.term.URIRef('obo:CHEBI_16236'), rdflib.term.URIRef('react:305_1366_1117')]\n",
            "[rdflib.term.URIRef('obo:CHEBI_16526'), rdflib.term.URIRef('react:85_375_471'), rdflib.term.URIRef('obo:CHEBI_33608'), rdflib.term.URIRef('react:150_661_589'), rdflib.term.URIRef('obo:CHEBI_16236'), rdflib.term.URIRef('react:305_1368_1122')]\n",
            "[rdflib.term.URIRef('obo:CHEBI_16526'), rdflib.term.URIRef('react:85_375_471'), rdflib.term.URIRef('obo:CHEBI_33608'), rdflib.term.URIRef('react:150_661_589'), rdflib.term.URIRef('obo:CHEBI_16236'), rdflib.term.URIRef('react:305_1369_1124')]\n",
            "[rdflib.term.URIRef('obo:CHEBI_16526'), rdflib.term.URIRef('react:85_375_471'), rdflib.term.URIRef('obo:CHEBI_33608'), rdflib.term.URIRef('react:150_662_594'), rdflib.term.URIRef('obo:CHEBI_17790'), rdflib.term.URIRef('react:179_7_181')]\n",
            "[rdflib.term.URIRef('obo:CHEBI_16526'), rdflib.term.URIRef('react:85_375_471'), rdflib.term.URIRef('obo:CHEBI_33608'), rdflib.term.URIRef('react:150_662_594'), rdflib.term.URIRef('obo:CHEBI_17790'), rdflib.term.URIRef('react:157_686_608')]\n",
            "[rdflib.term.URIRef('obo:CHEBI_16526'), rdflib.term.URIRef('react:85_375_471'), rdflib.term.URIRef('obo:CHEBI_33608'), rdflib.term.URIRef('react:150_662_594'), rdflib.term.URIRef('obo:CHEBI_17790'), rdflib.term.URIRef('react:157_686_609')]\n",
            "[rdflib.term.URIRef('obo:CHEBI_16526'), rdflib.term.URIRef('react:85_375_471'), rdflib.term.URIRef('obo:CHEBI_33608'), rdflib.term.URIRef('react:150_662_594'), rdflib.term.URIRef('obo:CHEBI_17790'), rdflib.term.URIRef('react:157_689_611')]\n",
            "[rdflib.term.URIRef('obo:CHEBI_16526'), rdflib.term.URIRef('react:85_375_471'), rdflib.term.URIRef('obo:CHEBI_33608'), rdflib.term.URIRef('react:150_662_594'), rdflib.term.URIRef('obo:CHEBI_17790'), rdflib.term.URIRef('react:157_689_612')]\n",
            "[rdflib.term.URIRef('obo:CHEBI_16526'), rdflib.term.URIRef('react:85_375_471'), rdflib.term.URIRef('obo:CHEBI_33608'), rdflib.term.URIRef('react:150_662_594'), rdflib.term.URIRef('obo:CHEBI_17790'), rdflib.term.URIRef('react:157_689_613')]\n",
            "[rdflib.term.URIRef('obo:CHEBI_16526'), rdflib.term.URIRef('react:85_375_471'), rdflib.term.URIRef('obo:CHEBI_33608'), rdflib.term.URIRef('react:150_662_594'), rdflib.term.URIRef('obo:CHEBI_17790'), rdflib.term.URIRef('react:157_689_614')]\n",
            "[rdflib.term.URIRef('obo:CHEBI_16526'), rdflib.term.URIRef('react:85_375_471'), rdflib.term.URIRef('obo:CHEBI_33608'), rdflib.term.URIRef('react:150_662_594'), rdflib.term.URIRef('obo:CHEBI_17790'), rdflib.term.URIRef('react:157_691_617')]\n",
            "[rdflib.term.URIRef('obo:CHEBI_16526'), rdflib.term.URIRef('react:85_375_471'), rdflib.term.URIRef('obo:CHEBI_33608'), rdflib.term.URIRef('react:150_662_594'), rdflib.term.URIRef('obo:CHEBI_17790'), rdflib.term.URIRef('react:179_802_673')]\n",
            "[rdflib.term.URIRef('obo:CHEBI_16526'), rdflib.term.URIRef('react:85_375_471'), rdflib.term.URIRef('obo:CHEBI_33608'), rdflib.term.URIRef('react:150_662_594'), rdflib.term.URIRef('obo:CHEBI_17790'), rdflib.term.URIRef('react:181_812_681')]\n",
            "[rdflib.term.URIRef('obo:CHEBI_16526'), rdflib.term.URIRef('react:85_375_471'), rdflib.term.URIRef('obo:CHEBI_33608'), rdflib.term.URIRef('react:150_662_594'), rdflib.term.URIRef('obo:CHEBI_17790'), rdflib.term.URIRef('react:181_813_682')]\n",
            "[rdflib.term.URIRef('obo:CHEBI_16526'), rdflib.term.URIRef('react:85_375_471'), rdflib.term.URIRef('obo:CHEBI_33608'), rdflib.term.URIRef('react:150_662_594'), rdflib.term.URIRef('obo:CHEBI_17790'), rdflib.term.URIRef('react:181_814_683')]\n",
            "[rdflib.term.URIRef('obo:CHEBI_16526'), rdflib.term.URIRef('react:85_375_471'), rdflib.term.URIRef('obo:CHEBI_33608'), rdflib.term.URIRef('react:150_662_594'), rdflib.term.URIRef('obo:CHEBI_17790'), rdflib.term.URIRef('react:181_814_684')]\n",
            "[rdflib.term.URIRef('obo:CHEBI_16526'), rdflib.term.URIRef('react:85_375_471'), rdflib.term.URIRef('obo:CHEBI_33608'), rdflib.term.URIRef('react:150_662_594'), rdflib.term.URIRef('obo:CHEBI_17790'), rdflib.term.URIRef('react:217_970_773')]\n",
            "[rdflib.term.URIRef('obo:CHEBI_16526'), rdflib.term.URIRef('react:85_375_471'), rdflib.term.URIRef('obo:CHEBI_33608'), rdflib.term.URIRef('react:150_662_594'), rdflib.term.URIRef('obo:CHEBI_17790'), rdflib.term.URIRef('react:217_970_774')]\n",
            "[rdflib.term.URIRef('obo:CHEBI_16526'), rdflib.term.URIRef('react:85_375_471'), rdflib.term.URIRef('obo:CHEBI_33608'), rdflib.term.URIRef('react:150_662_594'), rdflib.term.URIRef('obo:CHEBI_17790'), rdflib.term.URIRef('react:217_970_775')]\n",
            "[rdflib.term.URIRef('obo:CHEBI_16526'), rdflib.term.URIRef('react:85_375_471'), rdflib.term.URIRef('obo:CHEBI_33608'), rdflib.term.URIRef('react:150_662_594'), rdflib.term.URIRef('obo:CHEBI_17790'), rdflib.term.URIRef('react:217_971_776')]\n",
            "[rdflib.term.URIRef('obo:CHEBI_16526'), rdflib.term.URIRef('react:85_375_471'), rdflib.term.URIRef('obo:CHEBI_33608'), rdflib.term.URIRef('react:150_662_594'), rdflib.term.URIRef('obo:CHEBI_17790'), rdflib.term.URIRef('react:217_971_777')]\n",
            "[rdflib.term.URIRef('obo:CHEBI_16526'), rdflib.term.URIRef('react:85_375_471'), rdflib.term.URIRef('obo:CHEBI_33608'), rdflib.term.URIRef('react:150_662_594'), rdflib.term.URIRef('obo:CHEBI_17790'), rdflib.term.URIRef('react:217_972_778')]\n",
            "[rdflib.term.URIRef('obo:CHEBI_16526'), rdflib.term.URIRef('react:85_375_471'), rdflib.term.URIRef('obo:CHEBI_33608'), rdflib.term.URIRef('react:150_662_594'), rdflib.term.URIRef('obo:CHEBI_17790'), rdflib.term.URIRef('react:217_972_779')]\n",
            "[rdflib.term.URIRef('obo:CHEBI_16526'), rdflib.term.URIRef('react:85_375_471'), rdflib.term.URIRef('obo:CHEBI_33608'), rdflib.term.URIRef('react:150_662_594'), rdflib.term.URIRef('obo:CHEBI_17790'), rdflib.term.URIRef('react:217_973_780')]\n",
            "[rdflib.term.URIRef('obo:CHEBI_16526'), rdflib.term.URIRef('react:85_375_471'), rdflib.term.URIRef('obo:CHEBI_33608'), rdflib.term.URIRef('react:150_662_594'), rdflib.term.URIRef('obo:CHEBI_17790'), rdflib.term.URIRef('react:217_973_781')]\n",
            "[rdflib.term.URIRef('obo:CHEBI_16526'), rdflib.term.URIRef('react:85_375_471'), rdflib.term.URIRef('obo:CHEBI_33608'), rdflib.term.URIRef('react:150_662_594'), rdflib.term.URIRef('obo:CHEBI_17790'), rdflib.term.URIRef('react:217_974_782')]\n",
            "[rdflib.term.URIRef('obo:CHEBI_16526'), rdflib.term.URIRef('react:85_375_471'), rdflib.term.URIRef('obo:CHEBI_33608'), rdflib.term.URIRef('react:150_662_594'), rdflib.term.URIRef('obo:CHEBI_17790'), rdflib.term.URIRef('react:217_974_783')]\n",
            "[rdflib.term.URIRef('obo:CHEBI_16526'), rdflib.term.URIRef('react:85_375_471'), rdflib.term.URIRef('obo:CHEBI_33608'), rdflib.term.URIRef('react:150_662_594'), rdflib.term.URIRef('obo:CHEBI_17790'), rdflib.term.URIRef('react:217_975_784')]\n",
            "[rdflib.term.URIRef('obo:CHEBI_16526'), rdflib.term.URIRef('react:85_375_471'), rdflib.term.URIRef('obo:CHEBI_33608'), rdflib.term.URIRef('react:150_662_594'), rdflib.term.URIRef('obo:CHEBI_17790'), rdflib.term.URIRef('react:217_975_785')]\n",
            "[rdflib.term.URIRef('obo:CHEBI_16526'), rdflib.term.URIRef('react:85_375_471'), rdflib.term.URIRef('obo:CHEBI_33608'), rdflib.term.URIRef('react:150_662_594'), rdflib.term.URIRef('obo:CHEBI_17790'), rdflib.term.URIRef('react:217_975_786')]\n",
            "[rdflib.term.URIRef('obo:CHEBI_16526'), rdflib.term.URIRef('react:85_375_471'), rdflib.term.URIRef('obo:CHEBI_33608'), rdflib.term.URIRef('react:150_662_594'), rdflib.term.URIRef('obo:CHEBI_17790'), rdflib.term.URIRef('react:217_977_794')]\n",
            "[rdflib.term.URIRef('obo:CHEBI_16526'), rdflib.term.URIRef('react:85_375_471'), rdflib.term.URIRef('obo:CHEBI_33608'), rdflib.term.URIRef('react:150_662_594'), rdflib.term.URIRef('obo:CHEBI_17790'), rdflib.term.URIRef('react:217_977_795')]\n",
            "[rdflib.term.URIRef('obo:CHEBI_16526'), rdflib.term.URIRef('react:85_375_471'), rdflib.term.URIRef('obo:CHEBI_33608'), rdflib.term.URIRef('react:150_662_594'), rdflib.term.URIRef('obo:CHEBI_17790'), rdflib.term.URIRef('react:226_998_807')]\n",
            "[rdflib.term.URIRef('obo:CHEBI_16526'), rdflib.term.URIRef('react:85_375_471'), rdflib.term.URIRef('obo:CHEBI_33608'), rdflib.term.URIRef('react:150_662_594'), rdflib.term.URIRef('obo:CHEBI_17790'), rdflib.term.URIRef('react:247_1103_902')]\n",
            "[rdflib.term.URIRef('obo:CHEBI_16526'), rdflib.term.URIRef('react:85_375_471'), rdflib.term.URIRef('obo:CHEBI_33608'), rdflib.term.URIRef('react:150_662_594'), rdflib.term.URIRef('obo:CHEBI_17790'), rdflib.term.URIRef('react:247_1104_904')]\n",
            "[rdflib.term.URIRef('obo:CHEBI_16526'), rdflib.term.URIRef('react:85_375_471'), rdflib.term.URIRef('obo:CHEBI_33608'), rdflib.term.URIRef('react:150_662_594'), rdflib.term.URIRef('obo:CHEBI_17790'), rdflib.term.URIRef('react:273_1221_992')]\n",
            "[rdflib.term.URIRef('obo:CHEBI_16526'), rdflib.term.URIRef('react:85_375_471'), rdflib.term.URIRef('obo:CHEBI_33608'), rdflib.term.URIRef('react:150_662_594'), rdflib.term.URIRef('obo:CHEBI_17790'), rdflib.term.URIRef('react:273_1221_993')]\n",
            "[rdflib.term.URIRef('obo:CHEBI_16526'), rdflib.term.URIRef('react:85_375_471'), rdflib.term.URIRef('obo:CHEBI_33608'), rdflib.term.URIRef('react:150_662_594'), rdflib.term.URIRef('obo:CHEBI_17790'), rdflib.term.URIRef('react:273_1222_994')]\n",
            "[rdflib.term.URIRef('obo:CHEBI_16526'), rdflib.term.URIRef('react:85_375_471'), rdflib.term.URIRef('obo:CHEBI_33608'), rdflib.term.URIRef('react:150_662_594'), rdflib.term.URIRef('obo:CHEBI_17790'), rdflib.term.URIRef('react:273_1222_995')]\n",
            "[rdflib.term.URIRef('obo:CHEBI_16526'), rdflib.term.URIRef('react:85_375_471'), rdflib.term.URIRef('obo:CHEBI_33608'), rdflib.term.URIRef('react:150_662_594'), rdflib.term.URIRef('obo:CHEBI_17790'), rdflib.term.URIRef('react:273_1223_996')]\n",
            "[rdflib.term.URIRef('obo:CHEBI_16526'), rdflib.term.URIRef('react:85_375_471'), rdflib.term.URIRef('obo:CHEBI_33608'), rdflib.term.URIRef('react:150_662_594'), rdflib.term.URIRef('obo:CHEBI_17790'), rdflib.term.URIRef('react:273_1223_997')]\n",
            "[rdflib.term.URIRef('obo:CHEBI_16526'), rdflib.term.URIRef('react:85_375_471'), rdflib.term.URIRef('obo:CHEBI_33608'), rdflib.term.URIRef('react:150_662_594'), rdflib.term.URIRef('obo:CHEBI_17790'), rdflib.term.URIRef('react:273_1224_998')]\n",
            "[rdflib.term.URIRef('obo:CHEBI_16526'), rdflib.term.URIRef('react:85_375_471'), rdflib.term.URIRef('obo:CHEBI_33608'), rdflib.term.URIRef('react:150_662_594'), rdflib.term.URIRef('obo:CHEBI_17790'), rdflib.term.URIRef('react:273_1224_999')]\n",
            "[rdflib.term.URIRef('obo:CHEBI_16526'), rdflib.term.URIRef('react:85_375_471'), rdflib.term.URIRef('obo:CHEBI_33608'), rdflib.term.URIRef('react:150_662_594'), rdflib.term.URIRef('obo:CHEBI_17790'), rdflib.term.URIRef('react:273_1225_1000')]\n",
            "[rdflib.term.URIRef('obo:CHEBI_16526'), rdflib.term.URIRef('react:85_375_471'), rdflib.term.URIRef('obo:CHEBI_33608'), rdflib.term.URIRef('react:150_662_594'), rdflib.term.URIRef('obo:CHEBI_17790'), rdflib.term.URIRef('react:273_1226_1001')]\n",
            "[rdflib.term.URIRef('obo:CHEBI_16526'), rdflib.term.URIRef('react:85_375_471'), rdflib.term.URIRef('obo:CHEBI_33608'), rdflib.term.URIRef('react:150_662_594'), rdflib.term.URIRef('obo:CHEBI_17790'), rdflib.term.URIRef('react:273_1226_1002')]\n",
            "[rdflib.term.URIRef('obo:CHEBI_16526'), rdflib.term.URIRef('react:85_375_471'), rdflib.term.URIRef('obo:CHEBI_33608'), rdflib.term.URIRef('react:150_662_594'), rdflib.term.URIRef('obo:CHEBI_17790'), rdflib.term.URIRef('react:295_1315_1068')]\n",
            "[rdflib.term.URIRef('obo:CHEBI_16526'), rdflib.term.URIRef('react:85_375_471'), rdflib.term.URIRef('obo:CHEBI_33608'), rdflib.term.URIRef('react:150_662_594'), rdflib.term.URIRef('obo:CHEBI_17790'), rdflib.term.URIRef('react:318_1443_1169')]\n",
            "[rdflib.term.URIRef('obo:CHEBI_16526'), rdflib.term.URIRef('react:85_375_471'), rdflib.term.URIRef('obo:CHEBI_33608'), rdflib.term.URIRef('react:150_662_594'), rdflib.term.URIRef('obo:CHEBI_17790'), rdflib.term.URIRef('react:318_1443_1170')]\n",
            "[rdflib.term.URIRef('obo:CHEBI_16526'), rdflib.term.URIRef('react:42_162_250'), rdflib.term.URIRef('obo:CHEBI_16183'), rdflib.term.URIRef('react:9_84_191')]\n",
            "[rdflib.term.URIRef('obo:CHEBI_16526'), rdflib.term.URIRef('react:42_162_250'), rdflib.term.URIRef('obo:CHEBI_16183'), rdflib.term.URIRef('react:9_84_192')]\n",
            "[rdflib.term.URIRef('obo:CHEBI_16526'), rdflib.term.URIRef('react:42_162_250'), rdflib.term.URIRef('obo:CHEBI_16183'), rdflib.term.URIRef('react:18_112_217')]\n",
            "[rdflib.term.URIRef('obo:CHEBI_16526'), rdflib.term.URIRef('react:42_162_250'), rdflib.term.URIRef('obo:CHEBI_16183'), rdflib.term.URIRef('react:18_113_218'), rdflib.term.URIRef('spi:05f338756c3795e0fe583df923cd6a65')]\n",
            "[rdflib.term.URIRef('obo:CHEBI_16526'), rdflib.term.URIRef('react:42_162_250'), rdflib.term.URIRef('obo:CHEBI_16183'), rdflib.term.URIRef('react:44_167_257'), rdflib.term.URIRef('obo:CHEBI_47077')]\n",
            "[rdflib.term.URIRef('obo:CHEBI_16526'), rdflib.term.URIRef('react:42_162_250'), rdflib.term.URIRef('obo:CHEBI_16183'), rdflib.term.URIRef('react:51_191_279'), rdflib.term.URIRef('obo:CHEBI_42266')]\n",
            "[rdflib.term.URIRef('obo:CHEBI_16526'), rdflib.term.URIRef('react:42_162_250'), rdflib.term.URIRef('obo:CHEBI_16183'), rdflib.term.URIRef('react:57_218_304')]\n",
            "[rdflib.term.URIRef('obo:CHEBI_16526'), rdflib.term.URIRef('react:42_162_250'), rdflib.term.URIRef('obo:CHEBI_16183'), rdflib.term.URIRef('react:58_220_305'), rdflib.term.URIRef('obo:CHEBI_17245')]\n",
            "[rdflib.term.URIRef('obo:CHEBI_16526'), rdflib.term.URIRef('react:42_162_250'), rdflib.term.URIRef('obo:CHEBI_16183'), rdflib.term.URIRef('react:58_220_305'), rdflib.term.URIRef('obo:CHEBI_33608')]\n",
            "[rdflib.term.URIRef('obo:CHEBI_16526'), rdflib.term.URIRef('react:42_162_250'), rdflib.term.URIRef('obo:CHEBI_16183'), rdflib.term.URIRef('react:58_221_306')]\n",
            "[rdflib.term.URIRef('obo:CHEBI_16526'), rdflib.term.URIRef('react:42_162_250'), rdflib.term.URIRef('obo:CHEBI_16183'), rdflib.term.URIRef('react:58_222_307'), rdflib.term.URIRef('spi:05f338756c3795e0fe583df923cd6a65')]\n",
            "[rdflib.term.URIRef('obo:CHEBI_16526'), rdflib.term.URIRef('react:42_162_250'), rdflib.term.URIRef('obo:CHEBI_16183'), rdflib.term.URIRef('react:58_223_308'), rdflib.term.URIRef('obo:CHEBI_17245')]\n",
            "[rdflib.term.URIRef('obo:CHEBI_16526'), rdflib.term.URIRef('react:42_162_250'), rdflib.term.URIRef('obo:CHEBI_16183'), rdflib.term.URIRef('react:58_223_308'), rdflib.term.URIRef('obo:CHEBI_33608')]\n",
            "[rdflib.term.URIRef('obo:CHEBI_16526'), rdflib.term.URIRef('react:42_162_250'), rdflib.term.URIRef('obo:CHEBI_16183'), rdflib.term.URIRef('react:58_223_309'), rdflib.term.URIRef('obo:CHEBI_17245')]\n",
            "[rdflib.term.URIRef('obo:CHEBI_16526'), rdflib.term.URIRef('react:42_162_250'), rdflib.term.URIRef('obo:CHEBI_16183'), rdflib.term.URIRef('react:58_223_309'), rdflib.term.URIRef('obo:CHEBI_33608')]\n",
            "[rdflib.term.URIRef('obo:CHEBI_16526'), rdflib.term.URIRef('react:42_162_250'), rdflib.term.URIRef('obo:CHEBI_16183'), rdflib.term.URIRef('react:58_224_310'), rdflib.term.URIRef('spi:a6b3f1c744304a3ee2ec20446f690f45')]\n",
            "[rdflib.term.URIRef('obo:CHEBI_16526'), rdflib.term.URIRef('react:42_162_250'), rdflib.term.URIRef('obo:CHEBI_16183'), rdflib.term.URIRef('react:58_224_310'), rdflib.term.URIRef('spi:05f338756c3795e0fe583df923cd6a65')]\n",
            "[rdflib.term.URIRef('obo:CHEBI_16526'), rdflib.term.URIRef('react:42_162_250'), rdflib.term.URIRef('obo:CHEBI_16183'), rdflib.term.URIRef('react:58_225_311'), rdflib.term.URIRef('obo:CHEBI_17245')]\n",
            "[rdflib.term.URIRef('obo:CHEBI_16526'), rdflib.term.URIRef('react:42_162_250'), rdflib.term.URIRef('obo:CHEBI_16183'), rdflib.term.URIRef('react:58_229_316'), rdflib.term.URIRef('obo:CHEBI_17245')]\n",
            "[rdflib.term.URIRef('obo:CHEBI_16526'), rdflib.term.URIRef('react:42_162_250'), rdflib.term.URIRef('obo:CHEBI_16183'), rdflib.term.URIRef('react:58_229_317'), rdflib.term.URIRef('obo:CHEBI_17245')]\n",
            "[rdflib.term.URIRef('obo:CHEBI_16526'), rdflib.term.URIRef('react:42_162_250'), rdflib.term.URIRef('obo:CHEBI_16183'), rdflib.term.URIRef('react:65_270_359'), rdflib.term.URIRef('obo:CHEBI_42266')]\n",
            "[rdflib.term.URIRef('obo:CHEBI_16526'), rdflib.term.URIRef('react:42_162_250'), rdflib.term.URIRef('obo:CHEBI_16183'), rdflib.term.URIRef('react:65_271_361'), rdflib.term.URIRef('obo:CHEBI_42266')]\n",
            "[rdflib.term.URIRef('obo:CHEBI_16526'), rdflib.term.URIRef('react:42_162_250'), rdflib.term.URIRef('obo:CHEBI_16183'), rdflib.term.URIRef('react:65_274_367'), rdflib.term.URIRef('obo:CHEBI_42266')]\n",
            "[rdflib.term.URIRef('obo:CHEBI_16526'), rdflib.term.URIRef('react:42_162_250'), rdflib.term.URIRef('obo:CHEBI_16183'), rdflib.term.URIRef('react:82_366_466')]\n",
            "[rdflib.term.URIRef('obo:CHEBI_16526'), rdflib.term.URIRef('react:42_162_250'), rdflib.term.URIRef('obo:CHEBI_16183'), rdflib.term.URIRef('react:152_668_595'), rdflib.term.URIRef('obo:CHEBI_33608')]\n",
            "[rdflib.term.URIRef('obo:CHEBI_16526'), rdflib.term.URIRef('react:42_162_250'), rdflib.term.URIRef('obo:CHEBI_16183'), rdflib.term.URIRef('react:235_1050_845'), rdflib.term.URIRef('spi:fb1269bb3f7d77331c09f278f0102457')]\n",
            "[rdflib.term.URIRef('obo:CHEBI_16526'), rdflib.term.URIRef('react:42_162_250'), rdflib.term.URIRef('obo:CHEBI_16183'), rdflib.term.URIRef('react:281_1255_1029'), rdflib.term.URIRef('obo:CHEBI_28591')]\n",
            "[rdflib.term.URIRef('obo:CHEBI_16526'), rdflib.term.URIRef('react:42_162_250'), rdflib.term.URIRef('obo:CHEBI_16183'), rdflib.term.URIRef('react:281_1255_1030'), rdflib.term.URIRef('obo:CHEBI_28591')]\n",
            "[rdflib.term.URIRef('obo:CHEBI_16526'), rdflib.term.URIRef('react:42_162_250'), rdflib.term.URIRef('obo:CHEBI_16183'), rdflib.term.URIRef('react:288_1277_1049'), rdflib.term.URIRef('obo:CHEBI_32879')]\n",
            "[rdflib.term.URIRef('obo:CHEBI_16526'), rdflib.term.URIRef('react:42_162_250'), rdflib.term.URIRef('obo:CHEBI_16183'), rdflib.term.URIRef('react:288_1277_1050'), rdflib.term.URIRef('obo:CHEBI_32879')]\n",
            "[rdflib.term.URIRef('obo:CHEBI_16526'), rdflib.term.URIRef('react:42_162_250'), rdflib.term.URIRef('obo:CHEBI_16183'), rdflib.term.URIRef('react:288_1277_1051'), rdflib.term.URIRef('obo:CHEBI_32879')]\n",
            "[rdflib.term.URIRef('obo:CHEBI_16526'), rdflib.term.URIRef('react:42_162_250'), rdflib.term.URIRef('obo:CHEBI_16183'), rdflib.term.URIRef('react:297_1320_1072'), rdflib.term.URIRef('obo:CHEBI_42266')]\n",
            "[rdflib.term.URIRef('obo:CHEBI_16526'), rdflib.term.URIRef('react:42_162_250'), rdflib.term.URIRef('obo:CHEBI_16183'), rdflib.term.URIRef('react:309_1391_1126')]\n",
            "[rdflib.term.URIRef('obo:CHEBI_16526'), rdflib.term.URIRef('react:42_162_250'), rdflib.term.URIRef('obo:CHEBI_16183'), rdflib.term.URIRef('react:309_1392_1127'), rdflib.term.URIRef('obo:CHEBI_17245')]\n",
            "[rdflib.term.URIRef('obo:CHEBI_16526'), rdflib.term.URIRef('react:42_162_250'), rdflib.term.URIRef('obo:CHEBI_16183'), rdflib.term.URIRef('react:309_1392_1128')]\n",
            "[rdflib.term.URIRef('obo:CHEBI_16526'), rdflib.term.URIRef('react:42_162_250'), rdflib.term.URIRef('obo:CHEBI_16183'), rdflib.term.URIRef('react:309_1394_1130'), rdflib.term.URIRef('obo:CHEBI_17245')]\n",
            "[rdflib.term.URIRef('obo:CHEBI_16526'), rdflib.term.URIRef('react:42_162_250'), rdflib.term.URIRef('obo:CHEBI_16183'), rdflib.term.URIRef('react:309_1394_1130'), rdflib.term.URIRef('obo:CHEBI_33608')]\n",
            "[rdflib.term.URIRef('obo:CHEBI_16526'), rdflib.term.URIRef('react:42_162_250'), rdflib.term.URIRef('obo:CHEBI_16183'), rdflib.term.URIRef('react:309_1394_1131'), rdflib.term.URIRef('obo:CHEBI_17245')]\n",
            "[rdflib.term.URIRef('obo:CHEBI_16526'), rdflib.term.URIRef('react:42_162_250'), rdflib.term.URIRef('obo:CHEBI_16183'), rdflib.term.URIRef('react:309_1394_1131'), rdflib.term.URIRef('obo:CHEBI_33608')]\n",
            "[rdflib.term.URIRef('obo:CHEBI_16526'), rdflib.term.URIRef('react:42_162_250'), rdflib.term.URIRef('obo:CHEBI_16183'), rdflib.term.URIRef('react:309_1395_1132'), rdflib.term.URIRef('obo:CHEBI_33608')]\n",
            "[rdflib.term.URIRef('obo:CHEBI_16526'), rdflib.term.URIRef('react:42_162_250'), rdflib.term.URIRef('obo:CHEBI_16183'), rdflib.term.URIRef('react:309_1395_1132'), rdflib.term.URIRef('obo:CHEBI_17245')]\n",
            "[rdflib.term.URIRef('obo:CHEBI_16526'), rdflib.term.URIRef('react:42_162_250'), rdflib.term.URIRef('obo:CHEBI_16183'), rdflib.term.URIRef('react:309_1395_1133')]\n",
            "[rdflib.term.URIRef('obo:CHEBI_16526'), rdflib.term.URIRef('react:42_162_250'), rdflib.term.URIRef('obo:CHEBI_16183'), rdflib.term.URIRef('react:309_1396_1134'), rdflib.term.URIRef('obo:CHEBI_17245')]\n",
            "[rdflib.term.URIRef('obo:CHEBI_16526'), rdflib.term.URIRef('react:42_162_250'), rdflib.term.URIRef('obo:CHEBI_16183'), rdflib.term.URIRef('react:309_1396_1134'), rdflib.term.URIRef('obo:CHEBI_33608')]\n",
            "[rdflib.term.URIRef('obo:CHEBI_16526'), rdflib.term.URIRef('react:42_162_250'), rdflib.term.URIRef('obo:CHEBI_16183'), rdflib.term.URIRef('react:309_1396_1135'), rdflib.term.URIRef('obo:CHEBI_17245')]\n",
            "[rdflib.term.URIRef('obo:CHEBI_16526'), rdflib.term.URIRef('react:42_162_250'), rdflib.term.URIRef('obo:CHEBI_16183'), rdflib.term.URIRef('react:309_1396_1135'), rdflib.term.URIRef('obo:CHEBI_33608')]\n",
            "[rdflib.term.URIRef('obo:CHEBI_16526'), rdflib.term.URIRef('react:42_162_250'), rdflib.term.URIRef('obo:CHEBI_16183'), rdflib.term.URIRef('react:309_1397_1136'), rdflib.term.URIRef('obo:CHEBI_17245')]\n",
            "[rdflib.term.URIRef('obo:CHEBI_16526'), rdflib.term.URIRef('react:42_162_250'), rdflib.term.URIRef('obo:CHEBI_16183'), rdflib.term.URIRef('react:309_1397_1136'), rdflib.term.URIRef('obo:CHEBI_33608')]\n",
            "[rdflib.term.URIRef('obo:CHEBI_16526'), rdflib.term.URIRef('react:42_162_250'), rdflib.term.URIRef('obo:CHEBI_16183'), rdflib.term.URIRef('react:309_1397_1137'), rdflib.term.URIRef('obo:CHEBI_17245')]\n",
            "[rdflib.term.URIRef('obo:CHEBI_16526'), rdflib.term.URIRef('react:42_162_250'), rdflib.term.URIRef('obo:CHEBI_16183'), rdflib.term.URIRef('react:309_1397_1137'), rdflib.term.URIRef('obo:CHEBI_33608')]\n",
            "[rdflib.term.URIRef('obo:CHEBI_16526'), rdflib.term.URIRef('react:42_162_250'), rdflib.term.URIRef('obo:CHEBI_16183'), rdflib.term.URIRef('react:309_1397_1138')]\n",
            "[rdflib.term.URIRef('obo:CHEBI_16526'), rdflib.term.URIRef('react:42_162_250'), rdflib.term.URIRef('obo:CHEBI_16183'), rdflib.term.URIRef('react:309_1398_1139'), rdflib.term.URIRef('obo:CHEBI_17245')]\n",
            "[rdflib.term.URIRef('obo:CHEBI_16526'), rdflib.term.URIRef('react:42_162_250'), rdflib.term.URIRef('obo:CHEBI_16183'), rdflib.term.URIRef('react:309_1398_1139'), rdflib.term.URIRef('obo:CHEBI_33608')]\n",
            "[rdflib.term.URIRef('obo:CHEBI_16526'), rdflib.term.URIRef('react:42_162_250'), rdflib.term.URIRef('obo:CHEBI_16183'), rdflib.term.URIRef('react:309_1399_1141'), rdflib.term.URIRef('obo:CHEBI_17245')]\n",
            "[rdflib.term.URIRef('obo:CHEBI_16526'), rdflib.term.URIRef('react:42_162_250'), rdflib.term.URIRef('obo:CHEBI_16183'), rdflib.term.URIRef('react:309_1399_1141'), rdflib.term.URIRef('obo:CHEBI_33608')]\n",
            "[rdflib.term.URIRef('obo:CHEBI_16526'), rdflib.term.URIRef('react:42_162_250'), rdflib.term.URIRef('obo:CHEBI_16183'), rdflib.term.URIRef('react:309_1399_1142')]\n",
            "[rdflib.term.URIRef('obo:CHEBI_16526'), rdflib.term.URIRef('react:42_162_250'), rdflib.term.URIRef('obo:CHEBI_16183'), rdflib.term.URIRef('react:309_1401_1144'), rdflib.term.URIRef('obo:CHEBI_17245')]\n",
            "[rdflib.term.URIRef('obo:CHEBI_16526'), rdflib.term.URIRef('react:42_162_250'), rdflib.term.URIRef('obo:CHEBI_16183'), rdflib.term.URIRef('react:309_1401_1144'), rdflib.term.URIRef('obo:CHEBI_33608')]\n",
            "[rdflib.term.URIRef('obo:CHEBI_16526'), rdflib.term.URIRef('react:42_162_250'), rdflib.term.URIRef('obo:CHEBI_16183'), rdflib.term.URIRef('react:309_1401_1145')]\n",
            "[rdflib.term.URIRef('obo:CHEBI_16526'), rdflib.term.URIRef('react:42_162_250'), rdflib.term.URIRef('obo:CHEBI_16183'), rdflib.term.URIRef('react:309_1402_1147'), rdflib.term.URIRef('obo:CHEBI_17245')]\n",
            "[rdflib.term.URIRef('obo:CHEBI_16526'), rdflib.term.URIRef('react:54_211_302'), rdflib.term.URIRef('spi:00889e17b7eb62ce1d67477ca568ca07')]\n",
            "[rdflib.term.URIRef('obo:CHEBI_16526'), rdflib.term.URIRef('react:85_375_471'), rdflib.term.URIRef('obo:CHEBI_17245'), rdflib.term.URIRef('react:13_74_185')]\n",
            "[rdflib.term.URIRef('obo:CHEBI_16526'), rdflib.term.URIRef('react:85_375_471'), rdflib.term.URIRef('obo:CHEBI_17245'), rdflib.term.URIRef('react:13_75_186')]\n",
            "[rdflib.term.URIRef('obo:CHEBI_16526'), rdflib.term.URIRef('react:85_375_471'), rdflib.term.URIRef('obo:CHEBI_17245'), rdflib.term.URIRef('react:13_76_187')]\n",
            "[rdflib.term.URIRef('obo:CHEBI_16526'), rdflib.term.URIRef('react:85_375_471'), rdflib.term.URIRef('obo:CHEBI_17245'), rdflib.term.URIRef('react:18_111_216')]\n",
            "[rdflib.term.URIRef('obo:CHEBI_16526'), rdflib.term.URIRef('react:85_375_471'), rdflib.term.URIRef('obo:CHEBI_17245'), rdflib.term.URIRef('react:155_673_599')]\n",
            "[rdflib.term.URIRef('obo:CHEBI_16526'), rdflib.term.URIRef('react:85_375_471'), rdflib.term.URIRef('obo:CHEBI_17245'), rdflib.term.URIRef('react:231_1029_825')]\n",
            "[rdflib.term.URIRef('obo:CHEBI_16526'), rdflib.term.URIRef('react:85_375_471'), rdflib.term.URIRef('obo:CHEBI_17245'), rdflib.term.URIRef('react:231_1030_827')]\n",
            "[rdflib.term.URIRef('obo:CHEBI_16526'), rdflib.term.URIRef('react:85_375_471'), rdflib.term.URIRef('obo:CHEBI_17245'), rdflib.term.URIRef('react:231_1032_829')]\n",
            "[rdflib.term.URIRef('obo:CHEBI_16526'), rdflib.term.URIRef('react:85_375_471'), rdflib.term.URIRef('obo:CHEBI_17245'), rdflib.term.URIRef('react:231_1033_831')]\n",
            "[rdflib.term.URIRef('obo:CHEBI_16526'), rdflib.term.URIRef('react:85_375_471'), rdflib.term.URIRef('obo:CHEBI_17245'), rdflib.term.URIRef('react:231_1034_833')]\n",
            "[rdflib.term.URIRef('obo:CHEBI_16526'), rdflib.term.URIRef('react:85_375_471'), rdflib.term.URIRef('obo:CHEBI_17245'), rdflib.term.URIRef('react:232_1038_838')]\n",
            "[rdflib.term.URIRef('obo:CHEBI_16526'), rdflib.term.URIRef('react:85_375_471'), rdflib.term.URIRef('obo:CHEBI_17245'), rdflib.term.URIRef('react:246_1097_899')]\n",
            "[rdflib.term.URIRef('obo:CHEBI_16526'), rdflib.term.URIRef('react:85_375_471'), rdflib.term.URIRef('obo:CHEBI_17245'), rdflib.term.URIRef('react:246_1098_900')]\n",
            "[rdflib.term.URIRef('obo:CHEBI_16526'), rdflib.term.URIRef('react:85_375_471'), rdflib.term.URIRef('obo:CHEBI_17245'), rdflib.term.URIRef('react:247_1103_901')]\n",
            "[rdflib.term.URIRef('obo:CHEBI_16526'), rdflib.term.URIRef('react:85_375_471'), rdflib.term.URIRef('obo:CHEBI_17245'), rdflib.term.URIRef('react:247_1104_903')]\n",
            "[rdflib.term.URIRef('obo:CHEBI_16526'), rdflib.term.URIRef('react:85_375_471'), rdflib.term.URIRef('obo:CHEBI_17245'), rdflib.term.URIRef('react:309_1398_1140')]\n",
            "[rdflib.term.URIRef('obo:CHEBI_16526'), rdflib.term.URIRef('react:85_375_471'), rdflib.term.URIRef('obo:CHEBI_33608'), rdflib.term.URIRef('react:34_131_405'), rdflib.term.URIRef('obo:CHEBI_16183')]\n",
            "[rdflib.term.URIRef('obo:CHEBI_16526'), rdflib.term.URIRef('react:85_375_471'), rdflib.term.URIRef('obo:CHEBI_33608'), rdflib.term.URIRef('react:34_131_405'), rdflib.term.URIRef('obo:CHEBI_15377')]\n",
            "[rdflib.term.URIRef('obo:CHEBI_16526'), rdflib.term.URIRef('react:85_375_471'), rdflib.term.URIRef('obo:CHEBI_33608'), rdflib.term.URIRef('react:34_131_406'), rdflib.term.URIRef('obo:CHEBI_16183')]\n",
            "[rdflib.term.URIRef('obo:CHEBI_16526'), rdflib.term.URIRef('react:85_375_471'), rdflib.term.URIRef('obo:CHEBI_33608'), rdflib.term.URIRef('react:34_131_406'), rdflib.term.URIRef('obo:CHEBI_15377')]\n",
            "[rdflib.term.URIRef('obo:CHEBI_16526'), rdflib.term.URIRef('react:85_375_471'), rdflib.term.URIRef('obo:CHEBI_33608'), rdflib.term.URIRef('react:78_344_453'), rdflib.term.URIRef('spi:d2ccdb2399583bf9fe9c403ea1e5fd3d')]\n",
            "[rdflib.term.URIRef('obo:CHEBI_16526'), rdflib.term.URIRef('react:85_375_471'), rdflib.term.URIRef('obo:CHEBI_33608'), rdflib.term.URIRef('react:78_345_455'), rdflib.term.URIRef('obo:CHEBI_17987')]\n",
            "[rdflib.term.URIRef('obo:CHEBI_16526'), rdflib.term.URIRef('react:85_375_471'), rdflib.term.URIRef('obo:CHEBI_33608'), rdflib.term.URIRef('react:78_346_456'), rdflib.term.URIRef('spi:8e3a129d10633b531b48cea1374e9f73')]\n",
            "[rdflib.term.URIRef('obo:CHEBI_16526'), rdflib.term.URIRef('react:85_375_471'), rdflib.term.URIRef('obo:CHEBI_33608'), rdflib.term.URIRef('react:78_347_457'), rdflib.term.URIRef('obo:CHEBI_167510')]\n",
            "[rdflib.term.URIRef('obo:CHEBI_16526'), rdflib.term.URIRef('react:85_375_471'), rdflib.term.URIRef('obo:CHEBI_33608'), rdflib.term.URIRef('react:133_585_582'), rdflib.term.URIRef('obo:CHEBI_25806')]\n",
            "[rdflib.term.URIRef('obo:CHEBI_16526'), rdflib.term.URIRef('react:85_375_471'), rdflib.term.URIRef('obo:CHEBI_33608'), rdflib.term.URIRef('react:150_661_590'), rdflib.term.URIRef('obo:CHEBI_16236')]\n",
            "[rdflib.term.URIRef('obo:CHEBI_16526'), rdflib.term.URIRef('react:85_375_471'), rdflib.term.URIRef('obo:CHEBI_33608'), rdflib.term.URIRef('react:163_733_645'), rdflib.term.URIRef('obo:CHEBI_30751')]\n",
            "[rdflib.term.URIRef('obo:CHEBI_16526'), rdflib.term.URIRef('react:85_375_471'), rdflib.term.URIRef('obo:CHEBI_33608'), rdflib.term.URIRef('react:197_872_706'), rdflib.term.URIRef('obo:CHEBI_189988')]\n",
            "[rdflib.term.URIRef('obo:CHEBI_16526'), rdflib.term.URIRef('react:85_375_471'), rdflib.term.URIRef('obo:CHEBI_33608'), rdflib.term.URIRef('react:197_872_706'), rdflib.term.URIRef('obo:CHEBI_28842')]\n",
            "[rdflib.term.URIRef('obo:CHEBI_16526'), rdflib.term.URIRef('react:85_375_471'), rdflib.term.URIRef('obo:CHEBI_33608'), rdflib.term.URIRef('react:224_989_800'), rdflib.term.URIRef('obo:CHEBI_17754')]\n",
            "[rdflib.term.URIRef('obo:CHEBI_16526'), rdflib.term.URIRef('react:85_375_471'), rdflib.term.URIRef('obo:CHEBI_33608'), rdflib.term.URIRef('react:224_990_801'), rdflib.term.URIRef('obo:CHEBI_17754')]\n",
            "[rdflib.term.URIRef('obo:CHEBI_16526'), rdflib.term.URIRef('react:85_375_471'), rdflib.term.URIRef('obo:CHEBI_33608'), rdflib.term.URIRef('react:224_990_802'), rdflib.term.URIRef('obo:CHEBI_17754')]\n",
            "[rdflib.term.URIRef('obo:CHEBI_16526'), rdflib.term.URIRef('react:85_375_471'), rdflib.term.URIRef('obo:CHEBI_33608'), rdflib.term.URIRef('react:270_1210_988'), rdflib.term.URIRef('spi:05f338756c3795e0fe583df923cd6a65')]\n",
            "[rdflib.term.URIRef('obo:CHEBI_16526'), rdflib.term.URIRef('react:85_375_471'), rdflib.term.URIRef('obo:CHEBI_33608'), rdflib.term.URIRef('react:270_1210_988'), rdflib.term.URIRef('obo:CHEBI_15377')]\n",
            "[rdflib.term.URIRef('obo:CHEBI_16526'), rdflib.term.URIRef('react:85_375_471'), rdflib.term.URIRef('obo:CHEBI_33608'), rdflib.term.URIRef('react:298_1325_1073'), rdflib.term.URIRef('obo:CHEBI_17790')]\n",
            "[rdflib.term.URIRef('obo:CHEBI_16526'), rdflib.term.URIRef('react:85_375_471'), rdflib.term.URIRef('obo:CHEBI_33608'), rdflib.term.URIRef('react:298_1325_1074'), rdflib.term.URIRef('obo:CHEBI_17790')]\n",
            "[rdflib.term.URIRef('obo:CHEBI_16526'), rdflib.term.URIRef('react:85_375_471'), rdflib.term.URIRef('obo:CHEBI_33608'), rdflib.term.URIRef('react:298_1326_1075'), rdflib.term.URIRef('obo:CHEBI_17790')]\n",
            "[rdflib.term.URIRef('obo:CHEBI_16526'), rdflib.term.URIRef('react:85_375_471'), rdflib.term.URIRef('obo:CHEBI_33608'), rdflib.term.URIRef('react:298_1326_1076'), rdflib.term.URIRef('obo:CHEBI_17790')]\n",
            "[rdflib.term.URIRef('obo:CHEBI_16526'), rdflib.term.URIRef('react:85_375_471'), rdflib.term.URIRef('obo:CHEBI_33608'), rdflib.term.URIRef('react:298_1328_1077'), rdflib.term.URIRef('obo:CHEBI_17790')]\n",
            "[rdflib.term.URIRef('obo:CHEBI_16526'), rdflib.term.URIRef('react:85_375_471'), rdflib.term.URIRef('obo:CHEBI_33608'), rdflib.term.URIRef('react:298_1329_1078'), rdflib.term.URIRef('obo:CHEBI_17790')]\n",
            "[rdflib.term.URIRef('obo:CHEBI_16526'), rdflib.term.URIRef('react:85_375_471'), rdflib.term.URIRef('obo:CHEBI_33608'), rdflib.term.URIRef('react:298_1330_1079'), rdflib.term.URIRef('obo:CHEBI_17790')]\n",
            "[rdflib.term.URIRef('obo:CHEBI_16526'), rdflib.term.URIRef('react:85_375_471'), rdflib.term.URIRef('obo:CHEBI_33608'), rdflib.term.URIRef('react:298_1330_1080'), rdflib.term.URIRef('obo:CHEBI_17790')]\n",
            "[rdflib.term.URIRef('obo:CHEBI_16526'), rdflib.term.URIRef('react:85_375_471'), rdflib.term.URIRef('obo:CHEBI_33608'), rdflib.term.URIRef('react:298_1330_1081'), rdflib.term.URIRef('obo:CHEBI_17790')]\n",
            "[rdflib.term.URIRef('obo:CHEBI_16526'), rdflib.term.URIRef('react:85_375_471'), rdflib.term.URIRef('obo:CHEBI_33608'), rdflib.term.URIRef('react:298_1331_1082'), rdflib.term.URIRef('obo:CHEBI_17790')]\n",
            "[rdflib.term.URIRef('obo:CHEBI_16526'), rdflib.term.URIRef('react:85_375_472'), rdflib.term.URIRef('obo:CHEBI_17245')]\n",
            "[rdflib.term.URIRef('obo:CHEBI_16526'), rdflib.term.URIRef('react:85_375_472'), rdflib.term.URIRef('obo:CHEBI_25806')]\n",
            "[rdflib.term.URIRef('obo:CHEBI_16526'), rdflib.term.URIRef('react:85_375_472'), rdflib.term.URIRef('obo:CHEBI_33608')]\n",
            "[rdflib.term.URIRef('obo:CHEBI_16526'), rdflib.term.URIRef('react:85_378_477'), rdflib.term.URIRef('obo:CHEBI_17245')]\n",
            "[rdflib.term.URIRef('obo:CHEBI_16526'), rdflib.term.URIRef('react:85_378_477'), rdflib.term.URIRef('obo:CHEBI_33608')]\n",
            "[rdflib.term.URIRef('obo:CHEBI_16526'), rdflib.term.URIRef('react:85_378_478'), rdflib.term.URIRef('obo:CHEBI_17245')]\n",
            "[rdflib.term.URIRef('obo:CHEBI_16526'), rdflib.term.URIRef('react:85_378_478'), rdflib.term.URIRef('obo:CHEBI_33608')]\n",
            "[rdflib.term.URIRef('obo:CHEBI_16526'), rdflib.term.URIRef('react:173_786_671'), rdflib.term.URIRef('obo:CHEBI_37527')]\n",
            "[rdflib.term.URIRef('obo:CHEBI_16526'), rdflib.term.URIRef('react:186_828_685'), rdflib.term.URIRef('obo:CHEBI_17245')]\n",
            "[rdflib.term.URIRef('obo:CHEBI_16526'), rdflib.term.URIRef('react:186_828_685'), rdflib.term.URIRef('obo:CHEBI_25806')]\n",
            "[rdflib.term.URIRef('obo:CHEBI_16526'), rdflib.term.URIRef('react:186_828_685'), rdflib.term.URIRef('obo:CHEBI_33608')]\n",
            "[rdflib.term.URIRef('obo:CHEBI_16526'), rdflib.term.URIRef('react:186_828_686'), rdflib.term.URIRef('obo:CHEBI_17245')]\n",
            "[rdflib.term.URIRef('obo:CHEBI_16526'), rdflib.term.URIRef('react:186_828_686'), rdflib.term.URIRef('obo:CHEBI_25806')]\n",
            "[rdflib.term.URIRef('obo:CHEBI_16526'), rdflib.term.URIRef('react:186_828_686'), rdflib.term.URIRef('obo:CHEBI_33608')]\n",
            "[rdflib.term.URIRef('obo:CHEBI_16526'), rdflib.term.URIRef('react:186_829_687'), rdflib.term.URIRef('obo:CHEBI_17245')]\n",
            "[rdflib.term.URIRef('obo:CHEBI_16526'), rdflib.term.URIRef('react:186_829_687'), rdflib.term.URIRef('obo:CHEBI_25806')]\n",
            "[rdflib.term.URIRef('obo:CHEBI_16526'), rdflib.term.URIRef('react:186_829_688'), rdflib.term.URIRef('obo:CHEBI_17245')]\n",
            "[rdflib.term.URIRef('obo:CHEBI_16526'), rdflib.term.URIRef('react:186_829_688'), rdflib.term.URIRef('obo:CHEBI_25806')]\n",
            "[rdflib.term.URIRef('obo:CHEBI_16526'), rdflib.term.URIRef('react:258_1149_934'), rdflib.term.URIRef('obo:CHEBI_17245')]\n",
            "[rdflib.term.URIRef('obo:CHEBI_16526'), rdflib.term.URIRef('react:258_1149_934'), rdflib.term.URIRef('obo:CHEBI_33608')]\n",
            "[rdflib.term.URIRef('obo:CHEBI_16526'), rdflib.term.URIRef('react:258_1149_935'), rdflib.term.URIRef('obo:CHEBI_17245')]\n",
            "[rdflib.term.URIRef('obo:CHEBI_16526'), rdflib.term.URIRef('react:258_1149_935'), rdflib.term.URIRef('obo:CHEBI_33608')]\n",
            "[rdflib.term.URIRef('obo:CHEBI_16526'), rdflib.term.URIRef('react:258_1150_936'), rdflib.term.URIRef('obo:CHEBI_17245')]\n",
            "[rdflib.term.URIRef('obo:CHEBI_16526'), rdflib.term.URIRef('react:258_1150_936'), rdflib.term.URIRef('obo:CHEBI_25806')]\n",
            "[rdflib.term.URIRef('obo:CHEBI_16526'), rdflib.term.URIRef('react:258_1150_937'), rdflib.term.URIRef('obo:CHEBI_17245')]\n",
            "[rdflib.term.URIRef('obo:CHEBI_16526'), rdflib.term.URIRef('react:258_1150_937'), rdflib.term.URIRef('obo:CHEBI_25806')]\n",
            "[rdflib.term.URIRef('obo:CHEBI_16526'), rdflib.term.URIRef('react:258_1151_938'), rdflib.term.URIRef('obo:CHEBI_17245')]\n",
            "[rdflib.term.URIRef('obo:CHEBI_16526'), rdflib.term.URIRef('react:258_1151_938'), rdflib.term.URIRef('obo:CHEBI_33608')]\n",
            "[rdflib.term.URIRef('obo:CHEBI_16526'), rdflib.term.URIRef('react:258_1151_939'), rdflib.term.URIRef('obo:CHEBI_17245')]\n",
            "[rdflib.term.URIRef('obo:CHEBI_16526'), rdflib.term.URIRef('react:258_1151_939'), rdflib.term.URIRef('obo:CHEBI_33608')]\n",
            "[rdflib.term.URIRef('obo:CHEBI_16526'), rdflib.term.URIRef('react:282_1268_1045'), rdflib.term.URIRef('obo:CHEBI_16183')]\n",
            "[rdflib.term.URIRef('obo:CHEBI_16526'), rdflib.term.URIRef('react:282_1268_1045'), rdflib.term.URIRef('obo:CHEBI_25806')]\n",
            "[rdflib.term.URIRef('obo:CHEBI_16526'), rdflib.term.URIRef('react:309_1391_1125'), rdflib.term.URIRef('obo:CHEBI_17245')]\n",
            "[rdflib.term.URIRef('obo:CHEBI_16526'), rdflib.term.URIRef('react:309_1391_1125'), rdflib.term.URIRef('obo:CHEBI_33608')]\n",
            "[rdflib.term.URIRef('obo:CHEBI_16526'), rdflib.term.URIRef('react:309_1393_1129'), rdflib.term.URIRef('obo:CHEBI_17245')]\n",
            "[rdflib.term.URIRef('obo:CHEBI_16526'), rdflib.term.URIRef('react:309_1393_1129'), rdflib.term.URIRef('obo:CHEBI_33608')]\n"
          ]
        }
      ]
    }
  ]
}