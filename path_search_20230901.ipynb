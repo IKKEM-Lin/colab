{
  "nbformat": 4,
  "nbformat_minor": 0,
  "metadata": {
    "colab": {
      "provenance": [],
      "authorship_tag": "ABX9TyPPqUTwFvI1jWfTQ2RUaq5b",
      "include_colab_link": true
    },
    "kernelspec": {
      "name": "python3",
      "display_name": "Python 3"
    },
    "language_info": {
      "name": "python"
    }
  },
  "cells": [
    {
      "cell_type": "markdown",
      "metadata": {
        "id": "view-in-github",
        "colab_type": "text"
      },
      "source": [
        "<a href=\"https://colab.research.google.com/github/IKKEM-Lin/colab/blob/main/path_search_20230901.ipynb\" target=\"_parent\"><img src=\"https://colab.research.google.com/assets/colab-badge.svg\" alt=\"Open In Colab\"/></a>"
      ]
    },
    {
      "cell_type": "markdown",
      "source": [
        "# 产物路径搜索，需上传[ttl文件](https://github.com/IKKEM-Lin/colab/blob/main/gen_turtle_20230901.ipynb)"
      ],
      "metadata": {
        "id": "fUenogiTchE1"
      }
    },
    {
      "cell_type": "code",
      "execution_count": null,
      "metadata": {
        "id": "BaEyaeYRcCHY"
      },
      "outputs": [],
      "source": [
        "# install dependencies\n",
        "! pip install rdflib\n",
        "! pip install requests\n",
        "! pip install loguru\n",
        "\n",
        "from rdflib import Namespace, Literal, URIRef, Graph\n",
        "import requests\n",
        "from loguru import logger\n",
        "\n",
        "import copy\n",
        "import json\n",
        "import uuid\n",
        "import collections\n",
        "import hashlib\n",
        "import os\n",
        "import re"
      ]
    },
    {
      "cell_type": "markdown",
      "source": [
        "### 1. 公共函数，用于统一化合物的名称，https://pubchem.deno.dev 会缓存所请求的数据"
      ],
      "metadata": {
        "id": "xwcI6YNjvoxb"
      }
    },
    {
      "cell_type": "code",
      "source": [
        "# common function\n",
        "\n",
        "def get_IUPAC_name_final(name, mapping_dict):\n",
        "    try:\n",
        "        r = requests.get(f\"https://pubchem.deno.dev/iupac?name={name}\")\n",
        "        result = json.loads(r.text)\n",
        "        if result.get(\"data\"):\n",
        "            return result.get(\"data\") or name\n",
        "    except:\n",
        "        return name\n",
        "\n",
        "def get_spieces_class_operations(key, mapping_dict, IUPAC_name = \"\"):\n",
        "    def get_md5(name):\n",
        "        return hashlib.md5(name.encode(\"UTF-8\")).hexdigest()\n",
        "\n",
        "    def get_CHEBI_ID(name):\n",
        "        try:\n",
        "            r = requests.get(f\"https://pubchem.deno.dev/chebi?name={name}\")\n",
        "            result = json.loads(r.text)\n",
        "            if result.get(\"data\"):\n",
        "                return result.get(\"data\") or name\n",
        "        except:\n",
        "            return name\n",
        "\n",
        "    if not IUPAC_name:\n",
        "        IUPAC_name = get_IUPAC_name_final(key, mapping_dict)\n",
        "    name_list = IUPAC_name.split(\";\")\n",
        "    name = name_list[0] if name_list else \"\"\n",
        "    tag = get_CHEBI_ID(name)\n",
        "    if \"CHEBI\" in tag:\n",
        "        re_tag = ''.join(re.findall(\"(CHEBI_\\d+)\", tag))\n",
        "        return re_tag, URIRef(\"obo:\" + re_tag)\n",
        "    else:\n",
        "        id_str = get_md5(IUPAC_name)\n",
        "        return id_str, URIRef(\"spi:\"+\"{}\".format(id_str))\n",
        "\n",
        "\n",
        "def get_spieces(name):\n",
        "  # 拿到name对应的ID\n",
        "  id_str, URI = get_spieces_class_operations(name, {})\n",
        "  if \"CHEBI\" in id_str:\n",
        "    return URIRef(\"obo:{}\".format(id_str))\n",
        "  else:\n",
        "    return URIRef(\"spi:{}\".format(id_str))"
      ],
      "metadata": {
        "id": "mPZb6tfLvnw9"
      },
      "execution_count": 29,
      "outputs": []
    },
    {
      "cell_type": "markdown",
      "source": [
        "### 2. 读取ttl文件"
      ],
      "metadata": {
        "id": "WPiEjPxawAut"
      }
    },
    {
      "cell_type": "code",
      "source": [
        "sparql_prefix =  \"SELECT * WHERE {{ \\n\" \\\n",
        "            \"\\t{expression}\\n\"\\\n",
        "          \"}}\\n\"\n",
        "\n",
        "substance_only_product = [\"CO\", \"H2\", \"syngas\", \"H2O\", \"CO2\"]\n",
        "substance_only_product = list(map(lambda x: get_spieces(x), substance_only_product))\n",
        "\n",
        "rg = Graph()\n",
        "rg.parse(\"./tripple.ttl\", format='turtle')\n"
      ],
      "metadata": {
        "id": "IdlaJakKdHru"
      },
      "execution_count": null,
      "outputs": []
    },
    {
      "cell_type": "code",
      "source": [
        "print(len(rg), substance_only_product)\n",
        "def gen_query(pred, obj):\n",
        "  return f\"?val <{pred}> <{obj}> .\"\n",
        "\n",
        "def find_reactions_from_product(produce):\n",
        "  query = sparql_prefix.format(expression = gen_query('react:has_product', produce))\n",
        "  result = rg.query(query)\n",
        "  return map(lambda x: x.val, result)\n",
        "\n",
        "def find_reactants_from_reaction(reaction):\n",
        "  query = sparql_prefix.format(expression = gen_query('spi:is_reactant_of', reaction))\n",
        "  result = rg.query(query)\n",
        "  return map(lambda x: x.val, result)\n",
        "\n",
        "def get_products_from_reaction(reaction):\n",
        "  query = sparql_prefix.format(expression = gen_query('spi:is_product_of', reaction))\n",
        "  result = rg.query(query)\n",
        "  return map(lambda x: x.val, result)\n",
        "\n",
        "def is_reaction(node):\n",
        "  return \"react:\" in str(node)\n",
        "\n",
        "# str(list(find_reactions_from_product(\"obo:CHEBI_17790\"))[0])"
      ],
      "metadata": {
        "id": "f5wzffJJuR38"
      },
      "execution_count": null,
      "outputs": []
    },
    {
      "cell_type": "code",
      "source": [
        "def search_one(name, max_steps=3):\n",
        "  query_str = get_spieces(name)\n",
        "  if query_str in substance_only_product:\n",
        "    return [query_str]\n",
        "  duplicated_reactions = list(find_reactions_from_product(query_str));\n",
        "  res_path = list(map(lambda x: [query_str, x], find_reactions_from_product(query_str)))\n",
        "  logger.info(query_str) #################\n",
        "  result_hash = \"\"\n",
        "  condition = lambda path: (len(path) < max_steps*2 and path[-1] not in substance_only_product)\n",
        "  print(res_path)\n",
        "  while any(map(condition ,res_path)):\n",
        "    new_res_paths = []\n",
        "    wait_process_paths = []\n",
        "    for path in res_path:\n",
        "      if condition(path):\n",
        "        wait_process_paths.append(path)\n",
        "      else:\n",
        "        new_res_paths.append(path)\n",
        "    for path in wait_process_paths:\n",
        "      # print(path, is_reaction(path[-1])) #################\n",
        "      if is_reaction(path[-1]):\n",
        "        temp_reactants = list(find_reactants_from_reaction(path[-1]))\n",
        "        substant_in_previous = any([item in path for item in temp_reactants])\n",
        "        if substant_in_previous:\n",
        "          # end with reaction, need to cut off finally\n",
        "          new_res_paths.append(path)\n",
        "        else:\n",
        "          new_res_paths.extend([path[:] + ([reactant]) for reactant in temp_reactants])\n",
        "      else:\n",
        "        temp_reactions = list(find_reactions_from_product(path[-1]))\n",
        "        temp_wait_process_reactions = [reaction for reaction in temp_reactions if (reaction not in path and reaction not in duplicated_reactions)]\n",
        "        # print(\"temp_reactions\", temp_reactions, path[-1]) #################\n",
        "        if not temp_wait_process_reactions:\n",
        "          new_res_paths.append(path)\n",
        "          continue\n",
        "        new_res_paths.extend([path[:] + ([reaction]) for reaction in temp_wait_process_reactions])\n",
        "        duplicated_reactions.extend(temp_wait_process_reactions)\n",
        "    res_path = new_res_paths[:]\n",
        "    new_hash = hash(str(res_path))\n",
        "    # print(res_path, new_hash) #################\n",
        "    if new_hash == result_hash:\n",
        "      break\n",
        "    else:\n",
        "      result_hash = new_hash\n",
        "  return res_path"
      ],
      "metadata": {
        "id": "w5_mS1TSdO0d"
      },
      "execution_count": 45,
      "outputs": []
    },
    {
      "cell_type": "code",
      "source": [
        "paths = search_one(\"CO2\")\n",
        "\n",
        "print(\"----------------- Result ------------------------\")\n",
        "for path in paths:\n",
        "  print(path)\n",
        "\n",
        "# get_IUPAC_name_final(\"CO2\", {})"
      ],
      "metadata": {
        "colab": {
          "base_uri": "https://localhost:8080/"
        },
        "id": "xhil1P6odRdk",
        "outputId": "8350aea9-2cd4-43a5-dd2c-1508d49ef598"
      },
      "execution_count": 46,
      "outputs": [
        {
          "output_type": "stream",
          "name": "stdout",
          "text": [
            "----------------- Result ------------------------\n",
            "spi:05f338756c3795e0fe583df923cd6a65\n"
          ]
        }
      ]
    }
  ]
}