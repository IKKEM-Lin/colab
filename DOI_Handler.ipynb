{
  "nbformat": 4,
  "nbformat_minor": 0,
  "metadata": {
    "colab": {
      "provenance": [],
      "authorship_tag": "ABX9TyPqsXR+Tpw7OvtFnJ0MEZth",
      "include_colab_link": true
    },
    "kernelspec": {
      "name": "python3",
      "display_name": "Python 3"
    },
    "language_info": {
      "name": "python"
    }
  },
  "cells": [
    {
      "cell_type": "markdown",
      "metadata": {
        "id": "view-in-github",
        "colab_type": "text"
      },
      "source": [
        "<a href=\"https://colab.research.google.com/github/IKKEM-Lin/colab/blob/main/DOI_Handler.ipynb\" target=\"_parent\"><img src=\"https://colab.research.google.com/assets/colab-badge.svg\" alt=\"Open In Colab\"/></a>"
      ]
    },
    {
      "cell_type": "code",
      "execution_count": null,
      "metadata": {
        "id": "W9Y6d1UTcQxh"
      },
      "outputs": [],
      "source": [
        "!pip install crossrefapi"
      ]
    },
    {
      "cell_type": "code",
      "source": [
        "from crossref.restful import Works\n",
        "import json\n",
        "works = Works()\n"
      ],
      "metadata": {
        "id": "wUWLJ2vJcw_c"
      },
      "execution_count": null,
      "outputs": []
    },
    {
      "cell_type": "code",
      "source": [
        "with open(\"all_doi_20240110.json\", \"r\") as f:\n",
        "  all_doi = json.load(f)\n",
        "\n",
        "# with open(\"result.json\", \"r\") as f:\n",
        "#   result = json.load(f) or {}\n",
        "\n",
        "# for ind, doi in enumerate(all_doi):\n",
        "#   if result.get(doi):\n",
        "#     continue\n",
        "#   print(f\"start {ind}\")\n",
        "#   temp = works.doi(doi)\n",
        "#   result[doi] = temp"
      ],
      "metadata": {
        "id": "D5mfSdBAhFKA"
      },
      "execution_count": null,
      "outputs": []
    },
    {
      "cell_type": "markdown",
      "source": [
        "## 多线程获取doi元数据（耗时较长）"
      ],
      "metadata": {
        "id": "KrULNd1wW7MU"
      }
    },
    {
      "cell_type": "code",
      "source": [
        "import concurrent.futures\n",
        "import requests\n",
        "\n",
        "result_dict = {}\n",
        "total = 0\n",
        "\n",
        "def fetch_doi(doi):\n",
        "  works = Works()\n",
        "  return {doi: works.doi(doi)}\n",
        "\n",
        "def progress_callback(future):\n",
        "  # 在这个回调函数中处理任务完成的逻辑，例如显示进度\n",
        "  total+=1\n",
        "  print(f\"Task completed: {total}\")\n",
        "# 设置线程池的最大线程数\n",
        "max_workers = 10\n",
        "\n",
        "with concurrent.futures.ThreadPoolExecutor(max_workers=max_workers) as executor:\n",
        "  # 提交任务并获取结果\n",
        "  # results = list(executor.map(fetch_doi, all_doi))\n",
        "  futures = [executor.submit(fetch_doi, url) for url in all_doi]\n",
        "\n",
        "  # 使用as_completed获取已完成的任务\n",
        "  for future in concurrent.futures.as_completed(futures):\n",
        "      progress_callback(future)"
      ],
      "metadata": {
        "id": "_1zysS8Plhdo"
      },
      "execution_count": null,
      "outputs": []
    },
    {
      "cell_type": "code",
      "source": [
        "result_dict = {}\n",
        "for result in futures:\n",
        "  result_dict.update(result.result())\n",
        "\n",
        "with open(\"result2.json\", \"w\") as f:\n",
        "  json.dump(result_dict, f)"
      ],
      "metadata": {
        "id": "Q9k6-o484uul"
      },
      "execution_count": 26,
      "outputs": []
    },
    {
      "cell_type": "code",
      "source": [
        "!curl -k -F \"file=@./result2.json\" -F \"token=jejhiafi2imduwnijbaf\" -F \"model=2\"  -X POST \"https://tmp-cli.vx-cdn.com/app/upload_cli\""
      ],
      "metadata": {
        "id": "M9x3j2bA51wi"
      },
      "execution_count": null,
      "outputs": []
    },
    {
      "cell_type": "markdown",
      "source": [
        "## 统计各期刊文献数量"
      ],
      "metadata": {
        "id": "tx_Vd9iGeSGd"
      }
    },
    {
      "cell_type": "code",
      "source": [
        "all_pub = []\n",
        "pub_dois = []\n",
        "for key, value in result_dict.items():\n",
        "  pub_dois.append(key)\n",
        "  container = value.get(\"container-title\", [\"\"])\n",
        "  all_pub.append(container[0])"
      ],
      "metadata": {
        "id": "9hgwEuAkIXdP"
      },
      "execution_count": 46,
      "outputs": []
    },
    {
      "cell_type": "code",
      "source": [
        "import collections\n",
        "counter = collections.Counter(all_pub)\n",
        "print(counter)"
      ],
      "metadata": {
        "colab": {
          "base_uri": "https://localhost:8080/"
        },
        "id": "13d9w3WhJNdq",
        "outputId": "0306686b-a19a-4ea6-c78f-b07bf3efdd29"
      },
      "execution_count": 40,
      "outputs": [
        {
          "output_type": "stream",
          "name": "stdout",
          "text": [
            "Counter({'Journal of Catalysis': 3905, 'ACS Catalysis': 3322, 'Science Advances': 3030, 'Science': 809, 'Science Signaling': 257, 'Science Translational Medicine': 157, 'Science Immunology': 30, 'Green Chemistry': 15, 'Science Robotics': 12, 'Angewandte Chemie International Edition': 5, 'ChemSusChem': 5, 'ACS Sustainable Chemistry &amp; Engineering': 4, 'Journal of the American Chemical Society': 4, 'Industrial &amp; Engineering Chemistry Research': 3, 'RSC Advances': 3, 'Journal of Materials Chemistry A': 3, 'Catalysis Letters': 2, 'Catalysis Today': 2, 'ACS Omega': 2, 'Advanced Synthesis &amp; Catalysis': 1, 'Angewandte Chemie': 1, 'Chemistry – An Asian Journal': 1, 'Chemistry – A European Journal': 1, 'Bioprocess and Biosystems Engineering': 1, 'Industrial Crops and Products': 1, 'Nature Nanotechnology': 1, 'Green Chem.': 1, 'RSC Adv.': 1, 'Catalysis Science &amp; Technology': 1})\n"
          ]
        }
      ]
    },
    {
      "cell_type": "code",
      "source": [
        "s={}\n",
        "for key, value in counter.items():\n",
        "  for key2, value2 in result_dict.items():\n",
        "    if value2.get(\"container-title\", [\"\"])[0] == key:\n",
        "      s[key] = f\"{value}@@{key2}\"\n",
        "      break"
      ],
      "metadata": {
        "id": "7j3OVa0fKpM0"
      },
      "execution_count": 70,
      "outputs": []
    },
    {
      "cell_type": "code",
      "source": [
        "s"
      ],
      "metadata": {
        "colab": {
          "base_uri": "https://localhost:8080/"
        },
        "id": "bCzunlFuP0QF",
        "outputId": "f5e65485-0de1-4373-83e4-1752b8bd5bc2"
      },
      "execution_count": 71,
      "outputs": [
        {
          "output_type": "execute_result",
          "data": {
            "text/plain": [
              "{'ACS Catalysis': '3322@@10.1021/acscatal.0c00007',\n",
              " 'Advanced Synthesis &amp; Catalysis': '1@@10.1002/adsc.202001003',\n",
              " 'Angewandte Chemie': '1@@10.1002/ange.201601208',\n",
              " 'Angewandte Chemie International Edition': '5@@10.1002/anie.201402904',\n",
              " 'Chemistry – An Asian Journal': '1@@10.1002/asia.201800738',\n",
              " 'Chemistry – A European Journal': '1@@10.1002/chem.201301735',\n",
              " 'ChemSusChem': '5@@10.1002/cssc.200900137',\n",
              " 'Journal of Catalysis': '3905@@10.1006/jcat.1995.1005',\n",
              " 'Bioprocess and Biosystems Engineering': '1@@10.1007/s00449-019-02205-7',\n",
              " 'Catalysis Letters': '2@@10.1007/s10562-011-0707-y',\n",
              " 'Industrial Crops and Products': '1@@10.1016/S0926-6690(98)00037-5',\n",
              " 'Catalysis Today': '2@@10.1016/j.cattod.2010.06.004',\n",
              " 'Industrial &amp; Engineering Chemistry Research': '3@@10.1021/acs.iecr.0c00937',\n",
              " 'ACS Omega': '2@@10.1021/acsomega.0c02178',\n",
              " 'ACS Sustainable Chemistry &amp; Engineering': '4@@10.1021/acssuschemeng.0c01319',\n",
              " 'Journal of the American Chemical Society': '4@@10.1021/ja058282w',\n",
              " 'Nature Nanotechnology': '1@@10.1038/s41565-023-01407-1',\n",
              " 'Green Chem.': '1@@10.1039/C1GC16074E',\n",
              " 'Green Chemistry': '15@@10.1039/C5GC00707K',\n",
              " 'RSC Advances': '3@@10.1039/C6RA06792A',\n",
              " 'RSC Adv.': '1@@10.1039/C7RA10237B',\n",
              " 'Journal of Materials Chemistry A': '3@@10.1039/D1TA02464G',\n",
              " 'Catalysis Science &amp; Technology': '1@@10.1039/c1cy00207d',\n",
              " 'Science Advances': '3030@@10.1126/sciadv.1400133',\n",
              " 'Science': '809@@10.1126/science.1060928',\n",
              " 'Science Immunology': '30@@10.1126/sciimmunol.aah6109',\n",
              " 'Science Robotics': '12@@10.1126/scirobotics.aam6431',\n",
              " 'Science Signaling': '257@@10.1126/scisignal.1159433',\n",
              " 'Science Translational Medicine': '157@@10.1126/scitranslmed.3000130'}"
            ]
          },
          "metadata": {},
          "execution_count": 71
        }
      ]
    }
  ]
}