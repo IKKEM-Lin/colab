{
  "nbformat": 4,
  "nbformat_minor": 0,
  "metadata": {
    "colab": {
      "provenance": [],
      "authorship_tag": "ABX9TyMM44wm/y95D4ioiCxzI+tj",
      "include_colab_link": true
    },
    "kernelspec": {
      "name": "python3",
      "display_name": "Python 3"
    },
    "language_info": {
      "name": "python"
    },
    "accelerator": "TPU"
  },
  "cells": [
    {
      "cell_type": "markdown",
      "metadata": {
        "id": "view-in-github",
        "colab_type": "text"
      },
      "source": [
        "<a href=\"https://colab.research.google.com/github/IKKEM-Lin/colab/blob/main/path_search_20230918.ipynb\" target=\"_parent\"><img src=\"https://colab.research.google.com/assets/colab-badge.svg\" alt=\"Open In Colab\"/></a>"
      ]
    },
    {
      "cell_type": "markdown",
      "source": [
        "# 产物路径搜索，需上传[ttl文件](https://github.com/IKKEM-Lin/colab/blob/main/gen_turtle_20230901.ipynb)"
      ],
      "metadata": {
        "id": "fUenogiTchE1"
      }
    },
    {
      "cell_type": "code",
      "execution_count": 1,
      "metadata": {
        "id": "BaEyaeYRcCHY",
        "colab": {
          "base_uri": "https://localhost:8080/"
        },
        "outputId": "5b741891-d063-41da-922d-66d81020fc52"
      },
      "outputs": [
        {
          "output_type": "stream",
          "name": "stdout",
          "text": [
            "Collecting rdflib\n",
            "  Downloading rdflib-7.0.0-py3-none-any.whl (531 kB)\n",
            "\u001b[2K     \u001b[90m━━━━━━━━━━━━━━━━━━━━━━━━━━━━━━━━━━━━━━━\u001b[0m \u001b[32m531.9/531.9 kB\u001b[0m \u001b[31m5.4 MB/s\u001b[0m eta \u001b[36m0:00:00\u001b[0m\n",
            "\u001b[?25hCollecting isodate<0.7.0,>=0.6.0 (from rdflib)\n",
            "  Downloading isodate-0.6.1-py2.py3-none-any.whl (41 kB)\n",
            "\u001b[2K     \u001b[90m━━━━━━━━━━━━━━━━━━━━━━━━━━━━━━━━━━━━━━━━\u001b[0m \u001b[32m41.7/41.7 kB\u001b[0m \u001b[31m3.0 MB/s\u001b[0m eta \u001b[36m0:00:00\u001b[0m\n",
            "\u001b[?25hRequirement already satisfied: pyparsing<4,>=2.1.0 in /usr/local/lib/python3.10/dist-packages (from rdflib) (3.1.1)\n",
            "Requirement already satisfied: six in /usr/local/lib/python3.10/dist-packages (from isodate<0.7.0,>=0.6.0->rdflib) (1.16.0)\n",
            "Installing collected packages: isodate, rdflib\n",
            "Successfully installed isodate-0.6.1 rdflib-7.0.0\n",
            "Requirement already satisfied: requests in /usr/local/lib/python3.10/dist-packages (2.31.0)\n",
            "Requirement already satisfied: charset-normalizer<4,>=2 in /usr/local/lib/python3.10/dist-packages (from requests) (3.2.0)\n",
            "Requirement already satisfied: idna<4,>=2.5 in /usr/local/lib/python3.10/dist-packages (from requests) (3.4)\n",
            "Requirement already satisfied: urllib3<3,>=1.21.1 in /usr/local/lib/python3.10/dist-packages (from requests) (2.0.4)\n",
            "Requirement already satisfied: certifi>=2017.4.17 in /usr/local/lib/python3.10/dist-packages (from requests) (2023.7.22)\n",
            "Collecting loguru\n",
            "  Downloading loguru-0.7.2-py3-none-any.whl (62 kB)\n",
            "\u001b[2K     \u001b[90m━━━━━━━━━━━━━━━━━━━━━━━━━━━━━━━━━━━━━━━━\u001b[0m \u001b[32m62.5/62.5 kB\u001b[0m \u001b[31m1.6 MB/s\u001b[0m eta \u001b[36m0:00:00\u001b[0m\n",
            "\u001b[?25hInstalling collected packages: loguru\n",
            "Successfully installed loguru-0.7.2\n",
            "Collecting pyvis\n",
            "  Downloading pyvis-0.3.2-py3-none-any.whl (756 kB)\n",
            "\u001b[2K     \u001b[90m━━━━━━━━━━━━━━━━━━━━━━━━━━━━━━━━━━━━━━━\u001b[0m \u001b[32m756.0/756.0 kB\u001b[0m \u001b[31m5.6 MB/s\u001b[0m eta \u001b[36m0:00:00\u001b[0m\n",
            "\u001b[?25hRequirement already satisfied: ipython>=5.3.0 in /usr/local/lib/python3.10/dist-packages (from pyvis) (7.34.0)\n",
            "Requirement already satisfied: jinja2>=2.9.6 in /usr/local/lib/python3.10/dist-packages (from pyvis) (3.1.2)\n",
            "Requirement already satisfied: jsonpickle>=1.4.1 in /usr/local/lib/python3.10/dist-packages (from pyvis) (3.0.2)\n",
            "Requirement already satisfied: networkx>=1.11 in /usr/local/lib/python3.10/dist-packages (from pyvis) (3.1)\n",
            "Requirement already satisfied: setuptools>=18.5 in /usr/local/lib/python3.10/dist-packages (from ipython>=5.3.0->pyvis) (67.7.2)\n",
            "Requirement already satisfied: jedi>=0.16 in /usr/local/lib/python3.10/dist-packages (from ipython>=5.3.0->pyvis) (0.19.0)\n",
            "Requirement already satisfied: decorator in /usr/local/lib/python3.10/dist-packages (from ipython>=5.3.0->pyvis) (4.4.2)\n",
            "Requirement already satisfied: pickleshare in /usr/local/lib/python3.10/dist-packages (from ipython>=5.3.0->pyvis) (0.7.5)\n",
            "Requirement already satisfied: traitlets>=4.2 in /usr/local/lib/python3.10/dist-packages (from ipython>=5.3.0->pyvis) (5.7.1)\n",
            "Requirement already satisfied: prompt-toolkit!=3.0.0,!=3.0.1,<3.1.0,>=2.0.0 in /usr/local/lib/python3.10/dist-packages (from ipython>=5.3.0->pyvis) (3.0.39)\n",
            "Requirement already satisfied: pygments in /usr/local/lib/python3.10/dist-packages (from ipython>=5.3.0->pyvis) (2.16.1)\n",
            "Requirement already satisfied: backcall in /usr/local/lib/python3.10/dist-packages (from ipython>=5.3.0->pyvis) (0.2.0)\n",
            "Requirement already satisfied: matplotlib-inline in /usr/local/lib/python3.10/dist-packages (from ipython>=5.3.0->pyvis) (0.1.6)\n",
            "Requirement already satisfied: pexpect>4.3 in /usr/local/lib/python3.10/dist-packages (from ipython>=5.3.0->pyvis) (4.8.0)\n",
            "Requirement already satisfied: MarkupSafe>=2.0 in /usr/local/lib/python3.10/dist-packages (from jinja2>=2.9.6->pyvis) (2.1.3)\n",
            "Requirement already satisfied: parso<0.9.0,>=0.8.3 in /usr/local/lib/python3.10/dist-packages (from jedi>=0.16->ipython>=5.3.0->pyvis) (0.8.3)\n",
            "Requirement already satisfied: ptyprocess>=0.5 in /usr/local/lib/python3.10/dist-packages (from pexpect>4.3->ipython>=5.3.0->pyvis) (0.7.0)\n",
            "Requirement already satisfied: wcwidth in /usr/local/lib/python3.10/dist-packages (from prompt-toolkit!=3.0.0,!=3.0.1,<3.1.0,>=2.0.0->ipython>=5.3.0->pyvis) (0.2.6)\n",
            "Installing collected packages: pyvis\n",
            "Successfully installed pyvis-0.3.2\n",
            "Collecting igraph\n",
            "  Downloading igraph-0.10.8-cp39-abi3-manylinux_2_17_x86_64.manylinux2014_x86_64.whl (3.3 MB)\n",
            "\u001b[2K     \u001b[90m━━━━━━━━━━━━━━━━━━━━━━━━━━━━━━━━━━━━━━━━\u001b[0m \u001b[32m3.3/3.3 MB\u001b[0m \u001b[31m14.6 MB/s\u001b[0m eta \u001b[36m0:00:00\u001b[0m\n",
            "\u001b[?25hCollecting texttable>=1.6.2 (from igraph)\n",
            "  Downloading texttable-1.6.7-py2.py3-none-any.whl (10 kB)\n",
            "Installing collected packages: texttable, igraph\n",
            "Successfully installed igraph-0.10.8 texttable-1.6.7\n"
          ]
        }
      ],
      "source": [
        "# install dependencies\n",
        "! pip install rdflib\n",
        "! pip install requests\n",
        "! pip install loguru\n",
        "!pip install pyvis\n",
        "!pip install igraph\n",
        "import igraph as ig\n",
        "\n",
        "from pyvis.network import Network\n",
        "\n",
        "from rdflib import Namespace, Literal, URIRef, Graph\n",
        "import requests\n",
        "from loguru import logger\n",
        "\n",
        "\n",
        "from collections import deque\n",
        "import copy\n",
        "import json\n",
        "import uuid\n",
        "import collections\n",
        "import hashlib\n",
        "import os\n",
        "import re"
      ]
    },
    {
      "cell_type": "markdown",
      "source": [
        "### 1. 公共函数，用于统一化合物的名称，https://pubchem.deno.dev 会缓存所请求的数据"
      ],
      "metadata": {
        "id": "xwcI6YNjvoxb"
      }
    },
    {
      "cell_type": "code",
      "source": [
        "# common function\n",
        "\n",
        "def get_IUPAC_name_final(name, mapping_dict):\n",
        "    try:\n",
        "        r = requests.get(f\"https://pubchem.deno.dev/iupac?name={name}\")\n",
        "        result = json.loads(r.text)\n",
        "        if result.get(\"data\"):\n",
        "            return result.get(\"data\") or name\n",
        "    except:\n",
        "        return name\n",
        "\n",
        "def get_spieces_class_operations(key, mapping_dict, IUPAC_name = \"\"):\n",
        "    def get_md5(name):\n",
        "        return hashlib.md5(name.encode(\"UTF-8\")).hexdigest()\n",
        "\n",
        "    def get_CHEBI_ID(name):\n",
        "        try:\n",
        "            r = requests.get(f\"https://pubchem.deno.dev/chebi?name={name}\")\n",
        "            result = json.loads(r.text)\n",
        "            if result.get(\"data\"):\n",
        "                return result.get(\"data\") or name\n",
        "        except:\n",
        "            return name\n",
        "\n",
        "    if not IUPAC_name:\n",
        "        IUPAC_name = get_IUPAC_name_final(key, mapping_dict)\n",
        "    name_list = IUPAC_name.split(\";\")\n",
        "    name = name_list[0] if name_list else \"\"\n",
        "    tag = get_CHEBI_ID(name)\n",
        "    if \"CHEBI\" in tag:\n",
        "        re_tag = ''.join(re.findall(\"(CHEBI_\\d+)\", tag))\n",
        "        return re_tag, URIRef(\"obo:\" + re_tag)\n",
        "    else:\n",
        "        id_str = get_md5(IUPAC_name)\n",
        "        return id_str, URIRef(\"spi:\"+\"{}\".format(id_str))\n",
        "\n",
        "\n",
        "def get_spieces(name):\n",
        "  # 拿到name对应的ID\n",
        "  id_str, URI = get_spieces_class_operations(name, {})\n",
        "  if \"CHEBI\" in id_str:\n",
        "    return URIRef(\"obo:{}\".format(id_str))\n",
        "  else:\n",
        "    return URIRef(\"spi:{}\".format(id_str))"
      ],
      "metadata": {
        "id": "mPZb6tfLvnw9"
      },
      "execution_count": 2,
      "outputs": []
    },
    {
      "cell_type": "markdown",
      "source": [
        "### 2. 读取ttl文件"
      ],
      "metadata": {
        "id": "WPiEjPxawAut"
      }
    },
    {
      "cell_type": "code",
      "source": [
        "rg = Graph()\n",
        "rg.parse(\"./10000.ttl\", format='turtle')\n",
        "\n",
        "sparql_prefix =  \"SELECT * WHERE {{ \\n\" \\\n",
        "            \"\\t{expression}\\n\"\\\n",
        "          \"}}\\n\"\n",
        "\n",
        "def is_reaction(node):\n",
        "  return \"react:\" in str(node)\n",
        "\n",
        "def get_substance_name(substance):\n",
        "  obo = substance\n",
        "  if is_reaction(obo):\n",
        "    return substance\n",
        "  if not isinstance(substance, URIRef):\n",
        "    obo = URIRef(obo)\n",
        "  query = sparql_prefix.format(expression = f\"\"\"\n",
        "    <{obo}> <spi:has_IUPAC_name> ?IUPAC_name.\n",
        "    OPTIONAL {{<{obo}> <spi:has_name> ?name}}\n",
        "    OPTIONAL {{<{obo}> <spi:has_formula> ?formula}}\n",
        "  \"\"\") + \"LIMIT 5\"\n",
        "  result = rg.query(query)\n",
        "  result = list(map(lambda x: str(x.formula or x.name), result))\n",
        "  return result and result[0] or substance"
      ],
      "metadata": {
        "id": "IdlaJakKdHru"
      },
      "execution_count": 3,
      "outputs": []
    },
    {
      "cell_type": "markdown",
      "source": [
        "### 3. 构造子图并整形化（如果已有igraph_data.json可跳过）"
      ],
      "metadata": {
        "id": "BN6VV5jf9u8H"
      }
    },
    {
      "cell_type": "code",
      "source": [
        "node_map = [] # 节点映射\n",
        "ig_edges = [] # 边\n",
        "\n",
        "#  图裁剪\n",
        "triples1 = rg.triples((None, URIRef(\"react:has_product\"), None))\n",
        "triples2 = rg.triples((None, URIRef(\"spi:is_reactant_of\"), None))\n",
        "triples3 = rg.triples((None, URIRef(\"spi:is_product_of\"), None))\n",
        "\n",
        "rg2 = Graph()\n",
        "rg2 += triples1\n",
        "rg2 += triples2\n",
        "\n",
        "# 仅需has_product及is_reactant_of即可构建所需映射，如果搜索过程中需使用其他变量，此次需调整\n",
        "for s,p,o in rg2:\n",
        "  s_index = -1\n",
        "  if s in node_map:\n",
        "    s_index = node_map.index(s)\n",
        "  else:\n",
        "    node_map.append(s)\n",
        "    s_index = len(node_map) - 1\n",
        "\n",
        "  o_index = -1\n",
        "  if o in node_map:\n",
        "    o_index = node_map.index(o)\n",
        "  else:\n",
        "    node_map.append(o)\n",
        "    o_index = len(node_map) - 1\n",
        "  ig_edges.append((s_index, o_index))\n",
        "\n",
        "rg2 += triples3\n",
        "print(len(rg2), len(node_map), len(ig_edges))\n",
        "\n",
        "with open(\"igraph_data.json\", \"w\") as f:\n",
        "  json.dump([node_map, ig_edges], f)"
      ],
      "metadata": {
        "colab": {
          "base_uri": "https://localhost:8080/"
        },
        "id": "pjqljDIy3lev",
        "outputId": "3a94d978-3803-4a85-950c-25b5c9c8f9a5"
      },
      "execution_count": 14,
      "outputs": [
        {
          "output_type": "stream",
          "name": "stdout",
          "text": [
            "32505 9957 22351\n"
          ]
        }
      ]
    },
    {
      "cell_type": "markdown",
      "source": [
        "### 4. 读取整形数据并构造搜索函数"
      ],
      "metadata": {
        "id": "ymKoPcnH-9AH"
      }
    },
    {
      "cell_type": "code",
      "source": [
        "with open(\"igraph_data.json\", \"r\") as f:\n",
        "  node_map, ig_edges = json.load(f)\n",
        "g = ig.Graph(n=len(node_map), edges=ig_edges, directed=True)\n",
        "g.summary()\n",
        "\n",
        "substance_only_product = [\"CO\", \"H2\", \"syngas\", \"H2O\", \"CO2\", \"Carbon Dioxide\", \"Carbon Monoxide\"]\n",
        "substance_only_product = tuple([str(get_spieces(x)) in node_map and node_map.index(str(get_spieces(x))) for x in substance_only_product])\n",
        "\n",
        "# 反应聚类\n",
        "reaction_group = {}\n",
        "def get_all_reaction():\n",
        "  return [node_map.index(x) for x in node_map if \"react:\" in str(x)]\n",
        "def get_reaction_uniq_key(graph, reaction):\n",
        "  reactants = sorted(map(lambda x: str(x), graph.neighbors(reaction, mode=\"in\")))\n",
        "  products = sorted(map(lambda x: str(x), graph.neighbors(reaction, mode=\"out\")))\n",
        "  key = \",\".join(reactants) + \";\" + \",\".join(products)\n",
        "  return key\n",
        "for reaction in get_all_reaction():\n",
        "  key = get_reaction_uniq_key(g, reaction)\n",
        "  if reaction_group.get(key):\n",
        "    reaction_group.get(key).append(reaction)\n",
        "  else:\n",
        "    reaction_group[key] = [reaction]\n",
        "print(\"聚合后的种类：\", len(reaction_group.keys()), \"所有的反应数量\", len(get_all_reaction()))\n",
        "\n",
        "def find_loops_within_n_steps(name, n_steps, graph=g):\n",
        "  query_str = str(get_spieces(name))\n",
        "  if query_str not in node_map:\n",
        "    return [[query_str]]\n",
        "  vertex_id = node_map.index(query_str)\n",
        "\n",
        "  duplicated_reactions = set()\n",
        "  queue = deque([(vertex_id, 0, [vertex_id])])  # The queue will contain tuples of (vertex, depth, path).\n",
        "  loops = []\n",
        "  while queue:\n",
        "    current_vertex, depth, path = queue.popleft()\n",
        "    if depth == n_steps or current_vertex in substance_only_product:\n",
        "      loops.append(path)\n",
        "      continue\n",
        "\n",
        "    neighborhood = list(graph.neighbors(current_vertex, mode=\"in\"))\n",
        "\n",
        "    # todo: 按照之前算法，如果反应接下来没有反应物，则跳过该路径。此处需再考量\n",
        "    if len(neighborhood)==0 and depth % 2 == 1:\n",
        "      continue\n",
        "\n",
        "    # todo: 如果是接下来任一可能的反应物出现在前面的路径中，则不再扩展。此处需再考量\n",
        "    substance_in_previous = False\n",
        "    temp_path = [vertex_id] + path\n",
        "    if depth % 2 == 1:\n",
        "      substance_in_previous = any([item in temp_path for item in neighborhood])\n",
        "      # print(vertex_id, substance_in_previous)\n",
        "\n",
        "    neighborhood_not_in_path = [item for item in neighborhood if (item not in temp_path and item not in duplicated_reactions)]\n",
        "    if substance_in_previous or (not neighborhood_not_in_path):\n",
        "      loops.append(path)\n",
        "      continue\n",
        "    for neighbor in neighborhood_not_in_path:\n",
        "      if neighbor in duplicated_reactions:\n",
        "        continue\n",
        "      if depth % 2 == 0:\n",
        "        key = get_reaction_uniq_key(g, neighbor)\n",
        "        for x in reaction_group.get(key, [neighbor]):\n",
        "          duplicated_reactions.add(x)\n",
        "      new_path = path + [neighbor]\n",
        "      queue.append((neighbor, depth + 1, new_path))\n",
        "  return loops"
      ],
      "metadata": {
        "colab": {
          "base_uri": "https://localhost:8080/"
        },
        "id": "5m6CUoJkin2I",
        "outputId": "2f7b52c0-aa7b-4f50-90f8-cd72227981a5"
      },
      "execution_count": 15,
      "outputs": [
        {
          "output_type": "stream",
          "name": "stdout",
          "text": [
            "聚合后的种类： 3254 所有的反应数量 7930\n"
          ]
        }
      ]
    },
    {
      "cell_type": "markdown",
      "source": [
        "### 5. 测试并打印结果"
      ],
      "metadata": {
        "id": "sGurdSZURmO7"
      }
    },
    {
      "cell_type": "code",
      "source": [
        "res = find_loops_within_n_steps(\"Butane\", 7)\n",
        "paths = [[node_map[item] for item in path] for path in res]\n",
        "\n",
        "print(\"----------------- Result ------------------------\", len(paths))\n",
        "result = {}\n",
        "for path in paths:\n",
        "  temp = result\n",
        "  for key in path[:-1]:\n",
        "    if key not in temp:\n",
        "      temp[key] = {}\n",
        "    temp = temp[key]\n",
        "\n",
        "  last_key = path[-1]\n",
        "  if last_key not in temp:\n",
        "    temp[last_key] = {}\n",
        "\n",
        "def print_dict(d, indent=0):\n",
        "    for key, value in d.items():\n",
        "        print('  ' * indent + str(get_substance_name(key)))\n",
        "        if isinstance(value, dict):\n",
        "            print_dict(value, indent+2)\n",
        "# print_dict(result)\n",
        "# with open(\"path7.json\", \"w\") as f:\n",
        "#   json.dump(paths, f)"
      ],
      "metadata": {
        "colab": {
          "base_uri": "https://localhost:8080/"
        },
        "id": "_rgN7oheAdsu",
        "outputId": "0d23fd47-94fc-4d65-b12f-aa9bcb63d9d8"
      },
      "execution_count": 17,
      "outputs": [
        {
          "output_type": "stream",
          "name": "stdout",
          "text": [
            "----------------- Result ------------------------ 1587\n"
          ]
        }
      ]
    },
    {
      "cell_type": "markdown",
      "source": [
        "### 6. 可视化构建"
      ],
      "metadata": {
        "id": "0RrqJvfLRrIm"
      }
    },
    {
      "cell_type": "code",
      "source": [
        "output_file = \"tree.html\"\n",
        "option = {\n",
        "    \"hierarchical\": False,\n",
        "    \"substance_same_node\": False\n",
        "}\n",
        "\n",
        "data = result\n",
        "net = Network(height=\"90vh\", width=\"100%\", notebook=True, layout= option.get(\"hierarchical\") and {\"direction\": \"LR\"} or None )\n",
        "colors = [\"#CC9900\", \"#999900\", \"#669900\", \"#339900\", \"009900\"]\n",
        "\n",
        "def add_node(net, node_id, label, parent=None, level = 0):\n",
        "    node_color = parent and \"#0099CC\" or \"#992211\"\n",
        "    if level % 2 == 1:\n",
        "      node_color = colors[level // 2]\n",
        "    net.add_node(node_id, label=label, color=node_color, size=parent and 25 or 40)\n",
        "    if parent:\n",
        "        net.add_edge(parent, node_id)\n",
        "\n",
        "def build_tree(net, data, parent=None, level = 0):\n",
        "    count = 0\n",
        "    for key, value in data.items():\n",
        "        count += 1\n",
        "        node_id = option.get(\"substance_same_node\") and key or ((parent or \"\") + key + str(count))\n",
        "        add_node(net, node_id, get_substance_name(key), parent, level)\n",
        "        if isinstance(value, dict):\n",
        "            new_level = level + 1\n",
        "            build_tree(net, value, parent=node_id, level = new_level)\n",
        "\n",
        "build_tree(net, data)\n",
        "net.show(output_file)\n",
        "\n",
        "with open(output_file) as f:\n",
        "    content = f.read()\n",
        "\n",
        "content = re.sub(r'<center>|</center>', '', content)\n",
        "\n",
        "# 下面操作将层次图由上下结构改为左右，注释可恢复，可参考：https://ame.cool/pages/84ec1c/#%E9%85%8D%E7%BD%AE%E9%A1%B9%E8%AF%A6%E6%83%85\n",
        "if option.get(\"hierarchical\"):\n",
        "  content = re.sub(r'\"hierarchical\": {', '\"hierarchical\": { direction: \"LR\",', content)\n",
        "\n",
        "with open(output_file, 'w') as f:\n",
        "    f.write(content)\n",
        "\n",
        "\n",
        "# 上传展示\n",
        "import IPython\n",
        "upload_url = \"https://reaction-tree.deno.dev\"\n",
        "files = {'file': (output_file, open(output_file, 'rb'), 'text/html', {'Expires': '0'})}\n",
        "file_url = requests.post(upload_url, files = files).json().get(\"Key\")\n",
        "# print(file_url)\n",
        "if file_url:\n",
        "  html = f\"<strong>展示地址：</strong><a target='_blank' href='{upload_url}/{file_url}'>{upload_url}/{file_url}</a>\"\n",
        "IPython.display.HTML(html)\n"
      ],
      "metadata": {
        "colab": {
          "base_uri": "https://localhost:8080/",
          "height": 71
        },
        "id": "VYLNTt0vdDo7",
        "outputId": "dcbe79f7-1451-46d5-95d6-038961d04322"
      },
      "execution_count": 11,
      "outputs": [
        {
          "output_type": "stream",
          "name": "stdout",
          "text": [
            "Warning: When  cdn_resources is 'local' jupyter notebook has issues displaying graphics on chrome/safari. Use cdn_resources='in_line' or cdn_resources='remote' if you have issues viewing graphics in a notebook.\n",
            "tree.html\n"
          ]
        },
        {
          "output_type": "execute_result",
          "data": {
            "text/plain": [
              "<IPython.core.display.HTML object>"
            ],
            "text/html": [
              "<strong>展示地址：</strong><a target='_blank' href='https://reaction-tree.deno.dev/reaction_output/2023091823013-tzr4fr.html'>https://reaction-tree.deno.dev/reaction_output/2023091823013-tzr4fr.html</a>"
            ]
          },
          "metadata": {},
          "execution_count": 11
        }
      ]
    }
  ]
}